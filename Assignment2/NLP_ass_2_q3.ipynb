{
  "cells": [
    {
      "cell_type": "code",
      "execution_count": 2,
      "metadata": {
        "id": "7AhX-qlbxFkP"
      },
      "outputs": [],
      "source": [
        "# Jai Mata Di\n"
      ]
    },
    {
      "cell_type": "code",
      "execution_count": 3,
      "metadata": {},
      "outputs": [],
      "source": [
        "# !pip install --upgrade accelerate transformers\n"
      ]
    },
    {
      "cell_type": "markdown",
      "metadata": {
        "id": "shkXLLw4xayQ"
      },
      "source": [
        "# We are Doing a simple Fine tuen Task - Fine-tuning SpanBERT and SpanBERT-CRF\n",
        "# We will use SQuAD Dataset"
      ]
    },
    {
      "cell_type": "code",
      "execution_count": 4,
      "metadata": {
        "colab": {
          "base_uri": "https://localhost:8080/"
        },
        "id": "x4TNVFrAxj2k",
        "outputId": "8e33ce29-0eff-4a18-bd8a-4eed1437874c"
      },
      "outputs": [],
      "source": [
        "# %pip install transformers datasets"
      ]
    },
    {
      "cell_type": "code",
      "execution_count": 5,
      "metadata": {
        "colab": {
          "base_uri": "https://localhost:8080/",
          "height": 281,
          "referenced_widgets": [
            "2202171771474d68aa22df2227391953",
            "5079e117f47e4472a3714548e3e5a85b",
            "e8d9f142e03946dd8e442ee637d9762b",
            "c4ced04fc54940ceb31c65ecada45378",
            "03bec6b155394e118bf446f8bbc7a807",
            "4742f046b9b34c3288b5599fb2e53521",
            "8aa965ecd0f34cf2b6c2c22f01aa1076",
            "051aecfa9fee42979a186296c4378430",
            "9b3d3124f05e44b7bb1ae8a9f436e3ba",
            "042d66f8cf0a4e609bc00f3cdb5c4402",
            "25c785b95e99445f849128a2dab1f0d8",
            "c4a77256888140018d97acb4113b4070",
            "149f5a85e19c4f6faf3da8265e252d1b",
            "b43a68e9ecfc43bba96b9f452b1ef53a",
            "b4303aa8079e4058862b479bcb23aebf",
            "445b8b16be3e40a9bc2b45a87ed16923",
            "16d0105bf3574e2f84a6862dd58c3e3a",
            "8581584e0e40431c9aa24f8c453fba13",
            "9e1a7277c02744ccaf17b67eaaafa4c4",
            "4f1ea9cc340f4c96a886477bad45acd7",
            "17f04a3e2d56405e817b29b54f198f60",
            "5e3edb5bc29c49e8be16981d67ab34fc",
            "8f55a1aabab14c5193b5a5fb9307a0a6",
            "209a1f85ff5a418d81301e15f2cd5ebb",
            "a7d4c16c6ebe4b388cdc0ce7e006700c",
            "caa93e49214a456e906a782a6274c376",
            "70595dc4ca09468fb21d4df110dd27a6",
            "42a22d541aac45b1b680a207bb5b90c2",
            "1b5be63db4b448978564be297456c272",
            "d0b349b2d7674c3ea7605eab5389f34f",
            "d7d23c58e6d6481aa355a5a9ca91e7f0",
            "3ceffebd5ae049bcbd020938d914eec4",
            "3fc3b21ce39c40d5a94742da9805a511",
            "dd72fbbbc47f4a22a7967969362022b3",
            "ec007e728e194d3ea5178f8d2ea378e3",
            "67190ed59ddb4482bc3db16ddb6620f3",
            "b6c7c1ee0e66426c894df51ae4dfc9e0",
            "aec9dbbd73f242a3a770741ea76ed257",
            "57c523577e2b49e49a27f5204d29ffdf",
            "638356e3bb2e4e7d9ef918be041a3dcc",
            "a9163baeb89d4f56aab93fb9908bcd78",
            "7b946dc64b5e44c386630553753026b7",
            "d876afc6323641e8942e274833eb4ee1",
            "d16e95704beb4ba29cb111f2501e72ab",
            "6c4bf62064294dfa9e40b46a587ff34a",
            "05efb7a135d04b0a81b4abad0db3517e",
            "1bfcd91d7e0c480ca25dcc53fc1589b3",
            "56ec9ae5c6f34e64b6999c2344585849",
            "32e62563cffb4bd5ac93db28db15f47b",
            "980a3e37bce84eb3b568910dab184b39",
            "26a0214ded904ceb82899cf288ef22f9",
            "928839038930497c9680fdd552f21106",
            "ef45d4414db340929ca3fcb3ebc8d4bd",
            "da0f87ffc89543f6bbfe2c1be10e8c6c",
            "62586b87b9d745aa8ceb3d4f23ffc182"
          ]
        },
        "id": "YcXMEzvMxQ_e",
        "outputId": "4ab883f2-3f9c-4135-9049-cd675e8d7625"
      },
      "outputs": [
        {
          "name": "stderr",
          "output_type": "stream",
          "text": [
            "/mnt/drive/aditya22040/god/CV/saum_god/lib/python3.11/site-packages/tqdm/auto.py:21: TqdmWarning: IProgress not found. Please update jupyter and ipywidgets. See https://ipywidgets.readthedocs.io/en/stable/user_install.html\n",
            "  from .autonotebook import tqdm as notebook_tqdm\n"
          ]
        }
      ],
      "source": [
        "from datasets import load_dataset\n",
        "d1 = load_dataset(\"rajpurkar/squad_v2\")\n"
      ]
    },
    {
      "cell_type": "code",
      "execution_count": 6,
      "metadata": {
        "colab": {
          "base_uri": "https://localhost:8080/"
        },
        "id": "yJu4MN0DxiK8",
        "outputId": "727a5b35-0fa1-4bda-eaf9-dcdce96daedf"
      },
      "outputs": [
        {
          "data": {
            "text/plain": [
              "{'id': '56be85543aeaaa14008c9063',\n",
              " 'title': 'Beyoncé',\n",
              " 'context': 'Beyoncé Giselle Knowles-Carter (/biːˈjɒnseɪ/ bee-YON-say) (born September 4, 1981) is an American singer, songwriter, record producer and actress. Born and raised in Houston, Texas, she performed in various singing and dancing competitions as a child, and rose to fame in the late 1990s as lead singer of R&B girl-group Destiny\\'s Child. Managed by her father, Mathew Knowles, the group became one of the world\\'s best-selling girl groups of all time. Their hiatus saw the release of Beyoncé\\'s debut album, Dangerously in Love (2003), which established her as a solo artist worldwide, earned five Grammy Awards and featured the Billboard Hot 100 number-one singles \"Crazy in Love\" and \"Baby Boy\".',\n",
              " 'question': 'When did Beyonce start becoming popular?',\n",
              " 'answers': {'text': ['in the late 1990s'], 'answer_start': [269]}}"
            ]
          },
          "execution_count": 6,
          "metadata": {},
          "output_type": "execute_result"
        }
      ],
      "source": [
        "d1[\"train\"][0]"
      ]
    },
    {
      "cell_type": "code",
      "execution_count": 7,
      "metadata": {
        "colab": {
          "base_uri": "https://localhost:8080/"
        },
        "id": "BAPZHH5_x6KU",
        "outputId": "3a21680d-f8a6-4d9f-dd83-1b0dc0f9f338"
      },
      "outputs": [
        {
          "name": "stdout",
          "output_type": "stream",
          "text": [
            "130319\n",
            "{'id': '56be85543aeaaa14008c9063', 'title': 'Beyoncé', 'context': 'Beyoncé Giselle Knowles-Carter (/biːˈjɒnseɪ/ bee-YON-say) (born September 4, 1981) is an American singer, songwriter, record producer and actress. Born and raised in Houston, Texas, she performed in various singing and dancing competitions as a child, and rose to fame in the late 1990s as lead singer of R&B girl-group Destiny\\'s Child. Managed by her father, Mathew Knowles, the group became one of the world\\'s best-selling girl groups of all time. Their hiatus saw the release of Beyoncé\\'s debut album, Dangerously in Love (2003), which established her as a solo artist worldwide, earned five Grammy Awards and featured the Billboard Hot 100 number-one singles \"Crazy in Love\" and \"Baby Boy\".', 'question': 'When did Beyonce start becoming popular?', 'answers': {'text': ['in the late 1990s'], 'answer_start': [269]}} {'id': '56be85543aeaaa14008c9065', 'title': 'Beyoncé', 'context': 'Beyoncé Giselle Knowles-Carter (/biːˈjɒnseɪ/ bee-YON-say) (born September 4, 1981) is an American singer, songwriter, record producer and actress. Born and raised in Houston, Texas, she performed in various singing and dancing competitions as a child, and rose to fame in the late 1990s as lead singer of R&B girl-group Destiny\\'s Child. Managed by her father, Mathew Knowles, the group became one of the world\\'s best-selling girl groups of all time. Their hiatus saw the release of Beyoncé\\'s debut album, Dangerously in Love (2003), which established her as a solo artist worldwide, earned five Grammy Awards and featured the Billboard Hot 100 number-one singles \"Crazy in Love\" and \"Baby Boy\".', 'question': 'What areas did Beyonce compete in when she was growing up?', 'answers': {'text': ['singing and dancing'], 'answer_start': [207]}}\n"
          ]
        }
      ],
      "source": [
        "from datasets import Dataset\n",
        "\n",
        "tr_1 = d1[\"train\"]\n",
        "val_1 = d1[\"validation\"]\n",
        "print(len(tr_1))\n",
        "print(tr_1[0],tr_1[1])\n",
        "\n",
        "tr_1 = tr_1.select(range(15000))"
      ]
    },
    {
      "cell_type": "markdown",
      "metadata": {
        "id": "di7Lgcb_yB9l"
      },
      "source": [
        "# Torch check if cuda avaialable or not"
      ]
    },
    {
      "cell_type": "code",
      "execution_count": 8,
      "metadata": {
        "colab": {
          "base_uri": "https://localhost:8080/"
        },
        "id": "eE-L16AMx_qH",
        "outputId": "c35754ba-a67a-4895-d688-be5339e32b19"
      },
      "outputs": [
        {
          "name": "stdout",
          "output_type": "stream",
          "text": [
            "GPU Available: True\n",
            "GPU Name: NVIDIA GeForce RTX 3090\n"
          ]
        }
      ],
      "source": [
        "import torch\n",
        "print(\"GPU Available:\",torch.cuda.is_available())\n",
        "print(\"GPU Name:\",torch.cuda.get_device_name(0) if torch.cuda.is_available() else \"No GPU\")\n"
      ]
    },
    {
      "cell_type": "code",
      "execution_count": 9,
      "metadata": {
        "colab": {
          "base_uri": "https://localhost:8080/"
        },
        "id": "13nTlNQeyZm9",
        "outputId": "82eb75a2-88b4-4e65-f1bd-b08317a25793"
      },
      "outputs": [],
      "source": [
        "# !pip install transformers datasets torch torchvision torchaudio\n"
      ]
    },
    {
      "cell_type": "code",
      "execution_count": 10,
      "metadata": {
        "colab": {
          "base_uri": "https://localhost:8080/"
        },
        "id": "gSKKAOmgyhGW",
        "outputId": "8f57d125-5446-4f14-936e-0000d4b77add"
      },
      "outputs": [],
      "source": [
        "# !pip install seqeval # thoda acha dikhta ahi"
      ]
    },
    {
      "cell_type": "code",
      "execution_count": 11,
      "metadata": {},
      "outputs": [],
      "source": [
        "import torch\n",
        "import random \n",
        "import numpy\n",
        "numpy.random.seed(69)\n",
        "random.seed(69)\n",
        "torch.manual_seed(69)\n",
        "torch.cuda.manual_seed(69)\n",
        "torch.cuda.manual_seed_all(69)\n"
      ]
    },
    {
      "cell_type": "markdown",
      "metadata": {
        "id": "55ru376Cy3Dl"
      },
      "source": [
        "# Testing script EM\n"
      ]
    },
    {
      "cell_type": "code",
      "execution_count": 12,
      "metadata": {
        "id": "bhuyBJRSy7mh"
      },
      "outputs": [],
      "source": [
        "def exact_match_score(predictions, references):\n",
        "    assert len(predictions) == len(references), \"Lists must have the same length\"\n",
        "    matches = sum(p == r for p, r in zip(predictions, references))\n",
        "    return matches / len(references) * 100 # Convert to percentage\n",
        "def f1_score(predictions, references):\n",
        "    assert len(predictions) == len(references), \"Lists must have the same length\"\n",
        "    total_f1 = 0\n",
        "\n",
        "    for pred, ref in zip(predictions, references):\n",
        "        # Convert to lowercase and split into tokens\n",
        "        pred_tokens = pred.lower().split()\n",
        "        ref_tokens = ref.lower().split()\n",
        "\n",
        "        # Find common tokens\n",
        "        common_tokens = set(pred_tokens) & set(ref_tokens)\n",
        "\n",
        "        # Handle edge case where no common tokens exist\n",
        "        if len(common_tokens) == 0:\n",
        "            total_f1 += 0\n",
        "            continue\n",
        "\n",
        "        # Calculate precision and recall\n",
        "        precision = len(common_tokens) / len(pred_tokens)\n",
        "        recall = len(common_tokens) / len(ref_tokens)\n",
        "\n",
        "        # Calculate F1 score\n",
        "        f1 = (2 * precision * recall) / (precision + recall)\n",
        "        total_f1 += f1\n",
        "\n",
        "    return (total_f1 / len(references)) * 100  # Convert to percentage\n"
      ]
    },
    {
      "cell_type": "markdown",
      "metadata": {
        "id": "rS6wmVInzE77"
      },
      "source": [
        "# Data reprocesssing using AutoTokenizer"
      ]
    },
    {
      "cell_type": "code",
      "execution_count": 13,
      "metadata": {
        "colab": {
          "base_uri": "https://localhost:8080/",
          "height": 214,
          "referenced_widgets": [
            "f45510ba23914302bb3642d44f788333",
            "a635fe004f844e57a4cc654192992b20",
            "1949fdd63dd64732adc24f14e9a40f04",
            "86088db097134165bb4023fc34f92411",
            "94fa10d61e294b28853f63e3a1becc47",
            "daf2d19f649949c3af0e7ddac57f32b9",
            "a07610523d5d4167b3c595200d95b780",
            "854b17e26bdb45148ee444a23a92e9b6",
            "0b53afd82e1e42bf98214e6384343d84",
            "b1c2b36f080e4a92be16912f16e3e2ca",
            "80dae3ca98eb42b89d09ce05244653bf",
            "23d47dca3879466fb31630d393b99ae0",
            "1ff7be5a5d5c4fe49d6dddcb14cbedc4",
            "74661cb5b8794f97a35fedb60ffa0b7a",
            "49f5c5abe1d8481fa7d3c98bab35fff2",
            "1980edba0f604d89872af497f826ac3e",
            "f7acdd75cc244459af749293fa647935",
            "087da415d83940a5a97c75be636fe1e2",
            "04d6506b107f408e9901eb1a77663ecd",
            "e6ae2709331d464089766f30f6673588",
            "24ee17d5c2934ebdba75236bda9d6250",
            "9e057c05b4604080916a7c3ce8c967ef",
            "90b08ce22de147fd8402801476f57c99",
            "d875bdf3ca32447786b315e0146a1576",
            "697ceae2c7d24eea934b44649da45f1f",
            "2c6c5bb6ca0f445ba7a5005e28456644",
            "d64f1b319dc94618a3dc541a2959e34f",
            "7b81426c67a740d89b8c8508c7ab6027",
            "fcc2a0b8a5634bcf884c505ea8e37ef7",
            "f5cbcf04190c4c26ac2db9e7d56d5039",
            "997c98318cc64bec9e46acf38f085b76",
            "2d4b52ae6e0148c0bab6c032817627e0",
            "0be3d857b391449a919b59d77cbd1b01",
            "4c655300b43c45daa459b12053745b92",
            "b39d3e3bcb374905806bc074fc85d88f",
            "98857e2e801c4322b7ea5b6220a59ff0",
            "f766be8c72964ac1aa01f2c8784a96ef",
            "141081ce625d4b3b8eb085fe80eb54c9",
            "32b0fba0a6104f92ac5a08f2d2fed2d9",
            "c6c36acc645e4b03a91db9062f71e73c",
            "553092b939da458da9c9592581f73acd",
            "3e1bdea473ae49bf8f28cab20a3e8ba4",
            "37ba2bdfb19a43ce922deaa9f1281008",
            "85aa5068f5a2420ea2629dfb5754a406",
            "10cdd2c4b83a4d578b63ad1a3ebf6fca",
            "dcfe3f31de7a4012a3ada5e154083c4b",
            "8a1c4cac6e594c1c83649baf691429a2",
            "fce9dc457ecb41fa9c92c3888db6b585",
            "8336d9af28de42ed8502160c6c0439c6",
            "62f84ac2eabb4fbea7b3bf3a1695b282",
            "8e126977e0c44eb68650cfebd5a4f003",
            "d061746fa586479fb86077ace01abb7a",
            "2136dfed4aea48d9990705520945f47c",
            "4cc494faad7f49f8bc7e8e632d1050b1",
            "f4bea7893a1740898fa9f333b5dc29cd"
          ]
        },
        "id": "iUaIh_00y_pc",
        "outputId": "b0d54f96-51a3-4e19-a848-d3249a95785f"
      },
      "outputs": [],
      "source": [
        "from transformers import AutoTokenizer\n",
        "\n",
        "m_1 = \"SpanBERT/spanbert-base-cased\"\n",
        "tokenizer = AutoTokenizer.from_pretrained(m_1)\n",
        "\n",
        "def preprocess_squad(examples):\n",
        "    tokenized = tokenizer(\n",
        "        examples[\"question\"],\n",
        "        examples[\"context\"],\n",
        "        max_length=512,\n",
        "        truncation=\"only_second\",\n",
        "        stride=128,\n",
        "        return_overflowing_tokens=True,\n",
        "        return_offsets_mapping=True,\n",
        "        padding=\"max_length\"\n",
        "    )\n",
        "    sample_map = tokenized.pop(\"overflow_to_sample_mapping\")\n",
        "    offsets = tokenized.pop(\"offset_mapping\")\n",
        "    tokenized[\"start_positions\"] = []\n",
        "    tokenized[\"end_positions\"] = []\n",
        "\n",
        "    for i, mapping in enumerate(offsets):\n",
        "        sample_idx = sample_map[i]\n",
        "        ans = examples[\"answers\"][sample_idx]\n",
        "        ids = tokenized[\"input_ids\"][i]\n",
        "        cls_loc = ids.index(tokenizer.cls_token_id)\n",
        "        seq_ids = tokenized.sequence_ids(i)\n",
        "\n",
        "        try:\n",
        "            start_of_context = seq_ids.index(1)\n",
        "            end_of_context = len(seq_ids) - 1 - seq_ids[::-1].index(1)\n",
        "        except ValueError:\n",
        "            start_of_context, end_of_context = 0, len(seq_ids) - 1\n",
        "\n",
        "        if len(ans[\"answer_start\"]) == 0:\n",
        "            tokenized[\"start_positions\"].append(cls_loc)\n",
        "            tokenized[\"end_positions\"].append(cls_loc)\n",
        "            continue\n",
        "\n",
        "        start_char = ans[\"answer_start\"][0]\n",
        "        end_char = start_char + len(ans[\"text\"][0])\n",
        "\n",
        "        if mapping[start_of_context][0] > start_char or mapping[end_of_context][1] < end_char:\n",
        "            tokenized[\"start_positions\"].append(cls_loc)\n",
        "            tokenized[\"end_positions\"].append(cls_loc)\n",
        "            continue\n",
        "\n",
        "        start_idx, end_idx = cls_loc, cls_loc\n",
        "        for idx in range(start_of_context, end_of_context + 1):\n",
        "            if mapping[idx][0] <= start_char < mapping[idx][1]:\n",
        "                start_idx = idx\n",
        "                break\n",
        "        for idx in range(start_idx, end_of_context + 1):\n",
        "            if mapping[idx][0] < end_char <= mapping[idx][1]:\n",
        "                end_idx = idx\n",
        "                break\n",
        "\n",
        "        tokenized[\"start_positions\"].append(start_idx)\n",
        "        tokenized[\"end_positions\"].append(end_idx)\n",
        "\n",
        "    return tokenized\n",
        "\n",
        "tr_1_final = tr_1.map(preprocess_squad, batched=True, remove_columns=tr_1.column_names)\n",
        "val_1_final = val_1.map(preprocess_squad, batched=True, remove_columns=val_1.column_names)\n"
      ]
    },
    {
      "cell_type": "code",
      "execution_count": 14,
      "metadata": {},
      "outputs": [
        {
          "name": "stdout",
          "output_type": "stream",
          "text": [
            "{'input_ids': [101, 1107, 1184, 1583, 1110, 18570, 5709, 1183, 1388, 136, 102, 1103, 18570, 5443, 113, 18570, 1389, 131, 1185, 2149, 20993, 1116, 132, 175, 18129, 131, 18570, 5709, 1116, 132, 2495, 6105, 131, 18570, 11657, 1182, 114, 1127, 1103, 1234, 1150, 1107, 1103, 5368, 1105, 5573, 3944, 1522, 1147, 1271, 1106, 18570, 5709, 1183, 117, 170, 1805, 1107, 175, 10555, 119, 1152, 1127, 9026, 1121, 4040, 2217, 113, 107, 18570, 1389, 107, 2502, 1121, 107, 4040, 2217, 1399, 107, 114, 8818, 1468, 1105, 14978, 1121, 10552, 8519, 117, 2854, 1931, 1105, 4040, 2787, 1150, 117, 1223, 1147, 2301, 5155, 1186, 117, 2675, 1106, 8222, 175, 13003, 2340, 1106, 2226, 22572, 1813, 2897, 25550, 1182, 1104, 1745, 175, 4047, 6052, 119, 1194, 8225, 1104, 3919, 4060, 16230, 1105, 7021, 1114, 1103, 2900, 175, 14687, 2944, 1105, 187, 27085, 118, 176, 18318, 2944, 6623, 117, 1147, 8395, 1156, 6044, 14713, 1114, 1103, 1610, 27719, 9037, 1179, 118, 1359, 8708, 1104, 1745, 175, 4047, 6052, 119, 1103, 4966, 3057, 1105, 5237, 4193, 1104, 1103, 18570, 5443, 5338, 2786, 1107, 1103, 1148, 1544, 1104, 1103, 5368, 1432, 117, 1105, 1122, 1598, 1106, 23530, 1166, 1103, 13605, 3944, 119, 102, 0, 0, 0, 0, 0, 0, 0, 0, 0, 0, 0, 0, 0, 0, 0, 0, 0, 0, 0, 0, 0, 0, 0, 0, 0, 0, 0, 0, 0, 0, 0, 0, 0, 0, 0, 0, 0, 0, 0, 0, 0, 0, 0, 0, 0, 0, 0, 0, 0, 0, 0, 0, 0, 0, 0, 0, 0, 0, 0, 0, 0, 0, 0, 0, 0, 0, 0, 0, 0, 0, 0, 0, 0, 0, 0, 0, 0, 0, 0, 0, 0, 0, 0, 0, 0, 0, 0, 0, 0, 0, 0, 0, 0, 0, 0, 0, 0, 0, 0, 0, 0, 0, 0, 0, 0, 0, 0, 0, 0, 0, 0, 0, 0, 0, 0, 0, 0, 0, 0, 0, 0, 0, 0, 0, 0, 0, 0, 0, 0, 0, 0, 0, 0, 0, 0, 0, 0, 0, 0, 0, 0, 0, 0, 0, 0, 0, 0, 0, 0, 0, 0, 0, 0, 0, 0, 0, 0, 0, 0, 0, 0, 0, 0, 0, 0, 0, 0, 0, 0, 0, 0, 0, 0, 0, 0, 0, 0, 0, 0, 0, 0, 0, 0, 0, 0, 0, 0, 0, 0, 0, 0, 0, 0, 0, 0, 0, 0, 0, 0, 0, 0, 0, 0, 0, 0, 0, 0, 0, 0, 0, 0, 0, 0, 0, 0, 0, 0, 0, 0, 0, 0, 0, 0, 0, 0, 0, 0, 0, 0, 0, 0, 0, 0, 0, 0, 0, 0, 0, 0, 0, 0, 0, 0, 0, 0, 0, 0, 0, 0, 0, 0, 0, 0, 0, 0, 0, 0, 0, 0, 0, 0, 0, 0, 0, 0, 0, 0, 0, 0, 0, 0, 0, 0, 0, 0, 0, 0, 0, 0, 0, 0, 0, 0, 0, 0, 0, 0, 0, 0, 0, 0, 0, 0, 0, 0, 0, 0, 0, 0, 0, 0, 0, 0, 0, 0, 0, 0, 0, 0, 0, 0, 0, 0, 0, 0, 0, 0], 'token_type_ids': [0, 0, 0, 0, 0, 0, 0, 0, 0, 0, 0, 1, 1, 1, 1, 1, 1, 1, 1, 1, 1, 1, 1, 1, 1, 1, 1, 1, 1, 1, 1, 1, 1, 1, 1, 1, 1, 1, 1, 1, 1, 1, 1, 1, 1, 1, 1, 1, 1, 1, 1, 1, 1, 1, 1, 1, 1, 1, 1, 1, 1, 1, 1, 1, 1, 1, 1, 1, 1, 1, 1, 1, 1, 1, 1, 1, 1, 1, 1, 1, 1, 1, 1, 1, 1, 1, 1, 1, 1, 1, 1, 1, 1, 1, 1, 1, 1, 1, 1, 1, 1, 1, 1, 1, 1, 1, 1, 1, 1, 1, 1, 1, 1, 1, 1, 1, 1, 1, 1, 1, 1, 1, 1, 1, 1, 1, 1, 1, 1, 1, 1, 1, 1, 1, 1, 1, 1, 1, 1, 1, 1, 1, 1, 1, 1, 1, 1, 1, 1, 1, 1, 1, 1, 1, 1, 1, 1, 1, 1, 1, 1, 1, 1, 1, 1, 1, 1, 1, 1, 1, 1, 1, 1, 1, 1, 1, 1, 1, 1, 1, 1, 1, 1, 1, 1, 1, 1, 1, 1, 1, 1, 1, 1, 1, 1, 0, 0, 0, 0, 0, 0, 0, 0, 0, 0, 0, 0, 0, 0, 0, 0, 0, 0, 0, 0, 0, 0, 0, 0, 0, 0, 0, 0, 0, 0, 0, 0, 0, 0, 0, 0, 0, 0, 0, 0, 0, 0, 0, 0, 0, 0, 0, 0, 0, 0, 0, 0, 0, 0, 0, 0, 0, 0, 0, 0, 0, 0, 0, 0, 0, 0, 0, 0, 0, 0, 0, 0, 0, 0, 0, 0, 0, 0, 0, 0, 0, 0, 0, 0, 0, 0, 0, 0, 0, 0, 0, 0, 0, 0, 0, 0, 0, 0, 0, 0, 0, 0, 0, 0, 0, 0, 0, 0, 0, 0, 0, 0, 0, 0, 0, 0, 0, 0, 0, 0, 0, 0, 0, 0, 0, 0, 0, 0, 0, 0, 0, 0, 0, 0, 0, 0, 0, 0, 0, 0, 0, 0, 0, 0, 0, 0, 0, 0, 0, 0, 0, 0, 0, 0, 0, 0, 0, 0, 0, 0, 0, 0, 0, 0, 0, 0, 0, 0, 0, 0, 0, 0, 0, 0, 0, 0, 0, 0, 0, 0, 0, 0, 0, 0, 0, 0, 0, 0, 0, 0, 0, 0, 0, 0, 0, 0, 0, 0, 0, 0, 0, 0, 0, 0, 0, 0, 0, 0, 0, 0, 0, 0, 0, 0, 0, 0, 0, 0, 0, 0, 0, 0, 0, 0, 0, 0, 0, 0, 0, 0, 0, 0, 0, 0, 0, 0, 0, 0, 0, 0, 0, 0, 0, 0, 0, 0, 0, 0, 0, 0, 0, 0, 0, 0, 0, 0, 0, 0, 0, 0, 0, 0, 0, 0, 0, 0, 0, 0, 0, 0, 0, 0, 0, 0, 0, 0, 0, 0, 0, 0, 0, 0, 0, 0, 0, 0, 0, 0, 0, 0, 0, 0, 0, 0, 0, 0, 0, 0, 0, 0, 0, 0, 0, 0, 0, 0, 0, 0, 0, 0, 0, 0, 0, 0, 0, 0, 0], 'attention_mask': [1, 1, 1, 1, 1, 1, 1, 1, 1, 1, 1, 1, 1, 1, 1, 1, 1, 1, 1, 1, 1, 1, 1, 1, 1, 1, 1, 1, 1, 1, 1, 1, 1, 1, 1, 1, 1, 1, 1, 1, 1, 1, 1, 1, 1, 1, 1, 1, 1, 1, 1, 1, 1, 1, 1, 1, 1, 1, 1, 1, 1, 1, 1, 1, 1, 1, 1, 1, 1, 1, 1, 1, 1, 1, 1, 1, 1, 1, 1, 1, 1, 1, 1, 1, 1, 1, 1, 1, 1, 1, 1, 1, 1, 1, 1, 1, 1, 1, 1, 1, 1, 1, 1, 1, 1, 1, 1, 1, 1, 1, 1, 1, 1, 1, 1, 1, 1, 1, 1, 1, 1, 1, 1, 1, 1, 1, 1, 1, 1, 1, 1, 1, 1, 1, 1, 1, 1, 1, 1, 1, 1, 1, 1, 1, 1, 1, 1, 1, 1, 1, 1, 1, 1, 1, 1, 1, 1, 1, 1, 1, 1, 1, 1, 1, 1, 1, 1, 1, 1, 1, 1, 1, 1, 1, 1, 1, 1, 1, 1, 1, 1, 1, 1, 1, 1, 1, 1, 1, 1, 1, 1, 1, 1, 1, 1, 0, 0, 0, 0, 0, 0, 0, 0, 0, 0, 0, 0, 0, 0, 0, 0, 0, 0, 0, 0, 0, 0, 0, 0, 0, 0, 0, 0, 0, 0, 0, 0, 0, 0, 0, 0, 0, 0, 0, 0, 0, 0, 0, 0, 0, 0, 0, 0, 0, 0, 0, 0, 0, 0, 0, 0, 0, 0, 0, 0, 0, 0, 0, 0, 0, 0, 0, 0, 0, 0, 0, 0, 0, 0, 0, 0, 0, 0, 0, 0, 0, 0, 0, 0, 0, 0, 0, 0, 0, 0, 0, 0, 0, 0, 0, 0, 0, 0, 0, 0, 0, 0, 0, 0, 0, 0, 0, 0, 0, 0, 0, 0, 0, 0, 0, 0, 0, 0, 0, 0, 0, 0, 0, 0, 0, 0, 0, 0, 0, 0, 0, 0, 0, 0, 0, 0, 0, 0, 0, 0, 0, 0, 0, 0, 0, 0, 0, 0, 0, 0, 0, 0, 0, 0, 0, 0, 0, 0, 0, 0, 0, 0, 0, 0, 0, 0, 0, 0, 0, 0, 0, 0, 0, 0, 0, 0, 0, 0, 0, 0, 0, 0, 0, 0, 0, 0, 0, 0, 0, 0, 0, 0, 0, 0, 0, 0, 0, 0, 0, 0, 0, 0, 0, 0, 0, 0, 0, 0, 0, 0, 0, 0, 0, 0, 0, 0, 0, 0, 0, 0, 0, 0, 0, 0, 0, 0, 0, 0, 0, 0, 0, 0, 0, 0, 0, 0, 0, 0, 0, 0, 0, 0, 0, 0, 0, 0, 0, 0, 0, 0, 0, 0, 0, 0, 0, 0, 0, 0, 0, 0, 0, 0, 0, 0, 0, 0, 0, 0, 0, 0, 0, 0, 0, 0, 0, 0, 0, 0, 0, 0, 0, 0, 0, 0, 0, 0, 0, 0, 0, 0, 0, 0, 0, 0, 0, 0, 0, 0, 0, 0, 0, 0, 0, 0, 0, 0, 0, 0, 0, 0, 0, 0, 0, 0, 0, 0, 0], 'start_positions': 58, 'end_positions': 59} {'id': '56ddde6b9a695914005b9628', 'title': 'Normans', 'context': 'The Normans (Norman: Nourmands; French: Normands; Latin: Normanni) were the people who in the 10th and 11th centuries gave their name to Normandy, a region in France. They were descended from Norse (\"Norman\" comes from \"Norseman\") raiders and pirates from Denmark, Iceland and Norway who, under their leader Rollo, agreed to swear fealty to King Charles III of West Francia. Through generations of assimilation and mixing with the native Frankish and Roman-Gaulish populations, their descendants would gradually merge with the Carolingian-based cultures of West Francia. The distinct cultural and ethnic identity of the Normans emerged initially in the first half of the 10th century, and it continued to evolve over the succeeding centuries.', 'question': 'In what country is Normandy located?', 'answers': {'text': ['France', 'France', 'France', 'France'], 'answer_start': [159, 159, 159, 159]}}\n"
          ]
        }
      ],
      "source": [
        "print(val_1_final[0],val_1[0])"
      ]
    },
    {
      "cell_type": "markdown",
      "metadata": {
        "id": "jLwtXnwj2h96"
      },
      "source": [
        "# Direct loading of the Model used hugging face tranformers website part of tutorial"
      ]
    },
    {
      "cell_type": "code",
      "execution_count": 15,
      "metadata": {
        "colab": {
          "base_uri": "https://localhost:8080/",
          "height": 116,
          "referenced_widgets": [
            "93a580123be04d9aae70dfbe461a151d",
            "503e32b14c964535835629a2bb4e4e02",
            "5df3620ba1c84e5bba3b1b680ac83b98",
            "12d1cb82c917464895f55539ff30f229",
            "a74d7c635b694110872d15acbc5bc176",
            "d234fe26b7c44dddb77164f9813d1ebd",
            "95b3f055c7064dddae37b8d5934b9758",
            "aee4c18ab3774bea8dd91dfadc442291",
            "1ad94abe767647b6b54371a61c745bda",
            "5b2d51a457774d038b78c312d0eb14d3",
            "fe7cbd4b03e64bf291454109f9b1722f",
            "d08fade8e7964c53a5e2f672fa537e13",
            "da96642d656d469ca4e47ac6c815633a",
            "d4f7b82cfb5e4bab986e702eb9f9a690",
            "8a9c21400c4149a9a62ede0dd66fafdb",
            "ecd4d3caa3ff4e479faa35642e057b82",
            "ad5ac0d45eab42ce97a04718b062dd92",
            "1cadd741344241eea8610f1e09f7e4cc",
            "eafc72fe071e46aeb1ce70ea44a82ea5",
            "b03d04ee64964ffd8c1818db3729f1e6",
            "db03927fb0f9406db0eaf7ecaba34a6c",
            "b1c462131fb4471c8af19bec4cb77f72"
          ]
        },
        "id": "9KzijMP1z-qA",
        "outputId": "853166c0-e1de-4003-a9f1-a04ebac83b3e"
      },
      "outputs": [
        {
          "name": "stderr",
          "output_type": "stream",
          "text": [
            "Some weights of BertForQuestionAnswering were not initialized from the model checkpoint at SpanBERT/spanbert-base-cased and are newly initialized: ['qa_outputs.bias', 'qa_outputs.weight']\n",
            "You should probably TRAIN this model on a down-stream task to be able to use it for predictions and inference.\n"
          ]
        }
      ],
      "source": [
        "from transformers import AutoModelForQuestionAnswering, TrainingArguments,Trainer\n",
        "model = AutoModelForQuestionAnswering.from_pretrained(m_1)"
      ]
    },
    {
      "cell_type": "code",
      "execution_count": 16,
      "metadata": {
        "colab": {
          "base_uri": "https://localhost:8080/"
        },
        "id": "-yYfRZk22sWW",
        "outputId": "17c186e7-44fb-4be8-cd40-df7e6edb32e7"
      },
      "outputs": [
        {
          "name": "stdout",
          "output_type": "stream",
          "text": [
            "cuda\n"
          ]
        }
      ],
      "source": [
        "device = torch.device(\"cuda\" if torch.cuda.is_available() else \"cpu\")\n",
        "print(device)"
      ]
    },
    {
      "cell_type": "code",
      "execution_count": 17,
      "metadata": {},
      "outputs": [],
      "source": [
        "# !pip install -U accelerate\n"
      ]
    },
    {
      "cell_type": "code",
      "execution_count": null,
      "metadata": {},
      "outputs": [],
      "source": []
    },
    {
      "cell_type": "markdown",
      "metadata": {
        "id": "B1FhLN8h3ADc"
      },
      "source": [
        "# Trainer fn define kr rha"
      ]
    },
    {
      "cell_type": "code",
      "execution_count": 18,
      "metadata": {
        "colab": {
          "base_uri": "https://localhost:8080/"
        },
        "id": "ToqoiwIJ2qky",
        "outputId": "4dad8bbe-b711-4b2e-f4b8-be316aacf044"
      },
      "outputs": [
        {
          "name": "stderr",
          "output_type": "stream",
          "text": [
            "/mnt/drive/aditya22040/god/CV/saum_god/lib/python3.11/site-packages/transformers/training_args.py:1594: FutureWarning: `evaluation_strategy` is deprecated and will be removed in version 4.46 of 🤗 Transformers. Use `eval_strategy` instead\n",
            "  warnings.warn(\n"
          ]
        }
      ],
      "source": [
        "train_spl = TrainingArguments(\n",
        "    output_dir=\"./spanbert_squad_god_small\", # isdir me savbe\n",
        "    evaluation_strategy=\"epoch\", # epoch\n",
        "    save_strategy=\"epoch\",\n",
        "    run_name=\"SpanBERT_FineTuning\", # wandb ko defined chahihye wanr almaba chhoda warning bhej rha tha \n",
        "    logging_dir=\"./logs\",\n",
        "    per_device_train_batch_size=16,\n",
        "    per_device_eval_batch_size=16,\n",
        "    num_train_epochs=10,\n",
        "    learning_rate=2e-5,\n",
        "    weight_decay=0.05,\n",
        "    save_total_limit=2,\n",
        "    logging_steps=500,\n",
        "    fp16=True,\n",
        "    dataloader_num_workers=8\n",
        "\n",
        ")\n"
      ]
    },
    {
      "cell_type": "code",
      "execution_count": 19,
      "metadata": {
        "colab": {
          "base_uri": "https://localhost:8080/",
          "height": 364
        },
        "id": "3v15XoN-3QUg",
        "outputId": "70594e38-5a24-4d0f-b1db-bff2257dce15"
      },
      "outputs": [],
      "source": [
        "# from transformers import pipeline\n",
        "\n",
        "# qa_pipeline = pipeline(\n",
        "#     \"question-answering\",\n",
        "#     model=\"mrm8488/spanbert-large-finetuned-squadv2\",\n",
        "#     tokenizer=\"SpanBERT/spanbert-large-cased\"\n",
        "# )\n",
        "\n",
        "# # Get a sample from the validation set\n",
        "# sample_questions = [example[\"question\"] for example in val_1][:5]  # Take first 5 questions\n",
        "# sample_contexts = [example[\"context\"] for example in val_1][:5]  # Take first 5 contexts\n",
        "\n",
        "# # Run predictions\n",
        "# for question, context in zip(sample_questions, sample_contexts):\n",
        "#     result = qa_pipeline({\n",
        "#         'question': question,\n",
        "#         'context': context\n",
        "#     })\n",
        "#     print(f\"Question: {question}\")\n",
        "#     print(f\"Answer: {result['answer']}\")\n",
        "    \n",
        "#     # Get ground truth answer for comparison\n",
        "#     true_answer = val_1[sample_questions.index(question)][\"answers\"][\"text\"][0]\n",
        "#     print(f\"True Answer: {true_answer}\\n\")\n",
        "\n",
        "# # After the loop, compute EM and F1 scores for these samples\n",
        "# predictions = []\n",
        "# references = []\n",
        "\n",
        "# for question, context in zip(sample_questions, sample_contexts):\n",
        "#     result = qa_pipeline({\n",
        "#         'question': question,\n",
        "#         'context': context\n",
        "#     })\n",
        "#     predictions.append(result['answer'])\n",
        "#     references.append(val_1[sample_questions.index(question)][\"answers\"][\"text\"][0])\n",
        "\n",
        "# # Calculate metrics using the existing functions\n",
        "# em = exact_match_score(predictions, references)\n",
        "# f1 = f1_score(predictions, references)\n",
        "\n",
        "# print(f\"Exact Match (EM): {em:.2f}%\")\n",
        "# print(f\"F1 Score: {f1:.2f}%\")"
      ]
    },
    {
      "cell_type": "markdown",
      "metadata": {
        "id": "RoY49m3N3NnI"
      },
      "source": [
        "# Trianer"
      ]
    },
    {
      "cell_type": "code",
      "execution_count": 20,
      "metadata": {
        "colab": {
          "base_uri": "https://localhost:8080/"
        },
        "id": "vDrEn8D65d3g",
        "outputId": "9d283949-8d31-43ba-85e9-3cf845dafcf0"
      },
      "outputs": [
        {
          "name": "stdout",
          "output_type": "stream",
          "text": [
            "{'input_ids': Sequence(feature=Value(dtype='int32', id=None), length=-1, id=None), 'token_type_ids': Sequence(feature=Value(dtype='int8', id=None), length=-1, id=None), 'attention_mask': Sequence(feature=Value(dtype='int8', id=None), length=-1, id=None), 'start_positions': Value(dtype='int64', id=None), 'end_positions': Value(dtype='int64', id=None)}\n"
          ]
        }
      ],
      "source": [
        "print(tr_1_final.features)\n"
      ]
    },
    {
      "cell_type": "code",
      "execution_count": 21,
      "metadata": {
        "colab": {
          "base_uri": "https://localhost:8080/",
          "height": 52
        },
        "id": "h7V_A7r53NAy",
        "outputId": "581af726-d3c6-4993-b828-87af3861ab4c"
      },
      "outputs": [
        {
          "name": "stderr",
          "output_type": "stream",
          "text": [
            "/tmp/ipykernel_970777/3656043092.py:2: FutureWarning: `tokenizer` is deprecated and will be removed in version 5.0.0 for `Trainer.__init__`. Use `processing_class` instead.\n",
            "  trainer = Trainer(\n"
          ]
        }
      ],
      "source": [
        "trianer = None\n",
        "trainer = Trainer(\n",
        "    model=model,\n",
        "    args=train_spl,\n",
        "    train_dataset=tr_1_final,\n",
        "    eval_dataset=val_1_final,\n",
        "    tokenizer=tokenizer\n",
        ")\n",
        "\n"
      ]
    },
    {
      "cell_type": "code",
      "execution_count": 22,
      "metadata": {},
      "outputs": [],
      "source": [
        "def exact_match_score(predictions, references):\n",
        "    assert len(predictions) == len(references), \"Lists must have the same length\"\n",
        "    \n",
        "    # Extract answers from predictions\n",
        "    pred_answers = [p.get(\"answer\", \"\").strip().lower() for p in predictions]\n",
        "    ref_answers = [r.strip().lower() for r in references]\n",
        "\n",
        "    matches = sum(p == r for p, r in zip(pred_answers, ref_answers))\n",
        "    return matches / len(references) * 100  # Convert to percentage\n",
        "from collections import Counter\n",
        "\n",
        "def f1_score(predictions, references):\n",
        "    assert len(predictions) == len(references), \"Lists must have the same length\"\n",
        "    total_f1 = 0\n",
        "\n",
        "    for pred, ref in zip(predictions, references):\n",
        "        pred_answer = pred.get(\"answer\", \"\").strip().lower()\n",
        "        ref_answer = ref.strip().lower()\n",
        "\n",
        "        pred_tokens = pred_answer.split()\n",
        "        ref_tokens = ref_answer.split()\n",
        "\n",
        "        if not pred_tokens or not ref_tokens:\n",
        "            total_f1 += int(pred_tokens == ref_tokens)  # Exact match if both are empty\n",
        "            continue\n",
        "\n",
        "        common_tokens = Counter(pred_tokens) & Counter(ref_tokens)\n",
        "        num_same = sum(common_tokens.values())\n",
        "\n",
        "        if num_same == 0:\n",
        "            total_f1 += 0\n",
        "            continue\n",
        "\n",
        "        precision = num_same / len(pred_tokens)\n",
        "        recall = num_same / len(ref_tokens)\n",
        "\n",
        "        f1 = (2 * precision * recall) / (precision + recall)\n",
        "        total_f1 += f1\n",
        "\n",
        "    return (total_f1 / len(references)) * 100  # Convert to percentage\n",
        "\n",
        "def collate_fn(batch):\n",
        "    return {\n",
        "        \"question\": [ex[\"question\"] for ex in batch],\n",
        "        \"context\": [ex[\"context\"] for ex in batch],\n",
        "        \"answers\": [ex[\"answers\"] for ex in batch]  \n",
        "        # yeh val ke liye hai truth pass na krne ke liye\n",
        "    }\n",
        "def train_collate_fn(batch):\n",
        "    # currently inbuilt nhi work kr rha CUDA error aa rha hai \n",
        "    return {\n",
        "        \"input_ids\": torch.stack([torch.tensor(ex[\"input_ids\"]) for ex in batch]),\n",
        "        \"attention_mask\": torch.stack([torch.tensor(ex[\"attention_mask\"]) for ex in batch]),\n",
        "        \"start_positions\": torch.tensor([ex[\"start_positions\"] for ex in batch]),\n",
        "        \"end_positions\": torch.tensor([ex[\"end_positions\"] for ex in batch]),\n",
        "    }\n",
        "\n",
        "import torch.nn.functional as F\n",
        "def predict_answers(questions, contexts, model, tokenizer, threshold=0.3):\n",
        "    inputs = tokenizer(\n",
        "        questions,\n",
        "        contexts,\n",
        "        return_tensors=\"pt\",\n",
        "        truncation=True,\n",
        "        padding=True,\n",
        "        max_length=512,\n",
        "        stride=128,\n",
        "        # return_overflowing_tokens=True\n",
        "        # isme overflow and offset mapping nhi hai reasone is ki yeh hai ki yeh val ke liye hai mtlb prediction ke liye isme hm top k = 100 wo alredy set kr chuke hai \n",
        "    ).to(model.device)\n",
        "\n",
        "    with torch.no_grad():\n",
        "        outputs = model(**inputs)\n",
        "    start_log_probs = F.log_softmax(outputs.start_logits, dim=-1)\n",
        "    end_log_probs = F.log_softmax(outputs.end_logits, dim=-1) # softmax k baad log lene ka koi fayda nhi hai\n",
        "    answers = []\n",
        "\n",
        "    # check kr rha hu tok k liye is k ko change krke or acha kr skte hai \n",
        "\n",
        "    k = 100\n",
        "    for i in range(len(questions)):\n",
        "        start_topk = torch.topk(start_log_probs[i], k=min(k, start_log_probs[i].size(-1)))\n",
        "        end_topk = torch.topk(end_log_probs[i], k=min(k, end_log_probs[i].size(-1)))\n",
        "        best_score, best_start, best_end = -float('inf'), -1, -1\n",
        "\n",
        "        for start_idx, s_score in zip(start_topk.indices.tolist(), start_topk.values.tolist()):\n",
        "            for end_idx, e_score in zip(end_topk.indices.tolist(), end_topk.values.tolist()):\n",
        "                if end_idx < start_idx: # kbhi hoga i doubt \n",
        "                    continue\n",
        "                score = s_score + e_score # dono logits ka sum as a score use kiya hai \n",
        "                if score > best_score:\n",
        "                    best_score = score\n",
        "                    best_start = start_idx\n",
        "                    best_end = end_idx\n",
        "\n",
        "        score = torch.exp(torch.tensor(best_score)).item()\n",
        "        if score < threshold or best_start == -1:\n",
        "            answers.append({\"score\": score, \"answer\": \"\", \"answer_start\": best_start})\n",
        "            continue\n",
        "\n",
        "        new_work = inputs[\"input_ids\"][i][best_start:best_end+1]\n",
        "        answer_text = tokenizer.decode(new_work, skip_special_tokens=True).strip()\n",
        "        answers.append({\"score\": score, \"answer\": answer_text, \"answer_start\": best_start})\n",
        "\n",
        "    return answers\n"
      ]
    },
    {
      "cell_type": "code",
      "execution_count": 23,
      "metadata": {},
      "outputs": [],
      "source": [
        "import os\n",
        "os.environ[\"TOKENIZERS_PARALLELISM\"] = \"true\"\n"
      ]
    },
    {
      "cell_type": "code",
      "execution_count": null,
      "metadata": {},
      "outputs": [
        {
          "name": "stderr",
          "output_type": "stream",
          "text": [
            "\u001b[34m\u001b[1mwandb\u001b[0m: Currently logged in as: \u001b[33madi_god\u001b[0m (\u001b[33madi_god-indraprastha-institute-of-information-technology\u001b[0m) to \u001b[32mhttps://api.wandb.ai\u001b[0m. Use \u001b[1m`wandb login --relogin`\u001b[0m to force relogin\n",
            "\u001b[34m\u001b[1mwandb\u001b[0m: Using wandb-core as the SDK backend.  Please refer to https://wandb.me/wandb-core for more information.\n"
          ]
        },
        {
          "data": {
            "text/html": [
              "Tracking run with wandb version 0.19.6"
            ],
            "text/plain": [
              "<IPython.core.display.HTML object>"
            ]
          },
          "metadata": {},
          "output_type": "display_data"
        },
        {
          "data": {
            "text/html": [
              "Run data is saved locally in <code>/mnt/drive/aditya22040/god/ll/Assignemnt2/wandb/run-20250315_124504-3kb8afeh</code>"
            ],
            "text/plain": [
              "<IPython.core.display.HTML object>"
            ]
          },
          "metadata": {},
          "output_type": "display_data"
        },
        {
          "data": {
            "text/html": [
              "Syncing run <strong><a href='https://wandb.ai/adi_god-indraprastha-institute-of-information-technology/god-qa/runs/3kb8afeh' target=\"_blank\">apricot-capybara-9</a></strong> to <a href='https://wandb.ai/adi_god-indraprastha-institute-of-information-technology/god-qa' target=\"_blank\">Weights & Biases</a> (<a href='https://wandb.me/developer-guide' target=\"_blank\">docs</a>)<br>"
            ],
            "text/plain": [
              "<IPython.core.display.HTML object>"
            ]
          },
          "metadata": {},
          "output_type": "display_data"
        },
        {
          "data": {
            "text/html": [
              " View project at <a href='https://wandb.ai/adi_god-indraprastha-institute-of-information-technology/god-qa' target=\"_blank\">https://wandb.ai/adi_god-indraprastha-institute-of-information-technology/god-qa</a>"
            ],
            "text/plain": [
              "<IPython.core.display.HTML object>"
            ]
          },
          "metadata": {},
          "output_type": "display_data"
        },
        {
          "data": {
            "text/html": [
              " View run at <a href='https://wandb.ai/adi_god-indraprastha-institute-of-information-technology/god-qa/runs/3kb8afeh' target=\"_blank\">https://wandb.ai/adi_god-indraprastha-institute-of-information-technology/god-qa/runs/3kb8afeh</a>"
            ],
            "text/plain": [
              "<IPython.core.display.HTML object>"
            ]
          },
          "metadata": {},
          "output_type": "display_data"
        },
        {
          "data": {
            "text/html": [
              "<button onClick=\"this.nextSibling.style.display='block';this.style.display='none';\">Display W&B run</button><iframe src='https://wandb.ai/adi_god-indraprastha-institute-of-information-technology/god-qa/runs/3kb8afeh?jupyter=true' style='border:none;width:100%;height:420px;display:none;'></iframe>"
            ],
            "text/plain": [
              "<wandb.sdk.wandb_run.Run at 0x7f839143a3d0>"
            ]
          },
          "execution_count": 18,
          "metadata": {},
          "output_type": "execute_result"
        }
      ],
      "source": [
        "import wandb\n",
        "wandb.init(project=\"god-qa\") # wandb ko defined chahihye wanr almaba chhoda warning bhej rha tha"
      ]
    },
    {
      "cell_type": "code",
      "execution_count": 183,
      "metadata": {},
      "outputs": [],
      "source": [
        "# def exact_match_score(predictions, references):\n",
        "#     assert len(predictions) == len(references), \"Lists must have the same length\"\n",
        "#     matches = sum(p == r for p, r in zip(predictions, references))\n",
        "#     return matches / len(references) * 100 # Convert to percentage\n",
        "# def f1_score(predictions, references):\n",
        "#     assert len(predictions) == len(references), \"Lists must have the same length\"\n",
        "#     total_f1 = 0\n",
        "\n",
        "#     for pred, ref in zip(predictions, references):\n",
        "#         # Convert to lowercase and split into tokens\n",
        "#         pred_tokens = pred.lower().split()\n",
        "#         ref_tokens = ref.lower().split()\n",
        "\n",
        "#         # Find common tokens\n",
        "#         common_tokens = set(pred_tokens) & set(ref_tokens)\n",
        "\n",
        "#         # Handle edge case where no common tokens exist\n",
        "#         if len(common_tokens) == 0:\n",
        "#             total_f1 += 0\n",
        "#             continue\n",
        "\n",
        "#         # Calculate precision and recall\n",
        "#         precision = len(common_tokens) / len(pred_tokens)\n",
        "#         recall = len(common_tokens) / len(ref_tokens)\n",
        "\n",
        "#         # Calculate F1 score\n",
        "#         f1 = (2 * precision * recall) / (precision + recall)\n",
        "#         total_f1 += f1\n",
        "\n",
        "#     return (total_f1 / len(references)) * 100  # Convert to percentage\n"
      ]
    },
    {
      "cell_type": "code",
      "execution_count": null,
      "metadata": {},
      "outputs": [
        {
          "name": "stderr",
          "output_type": "stream",
          "text": [
            "/tmp/ipykernel_737449/1281451005.py:10: FutureWarning: `torch.cuda.amp.GradScaler(args...)` is deprecated. Please use `torch.amp.GradScaler('cuda', args...)` instead.\n",
            "  scaler = GradScaler()\n",
            "/mnt/drive/aditya22040/god/CV/saum_god/lib/python3.11/site-packages/transformers/optimization.py:640: FutureWarning: This implementation of AdamW is deprecated and will be removed in a future version. Use the PyTorch implementation torch.optim.AdamW instead, or set `no_deprecation_warning=True` to disable this warning\n",
            "  warnings.warn(\n",
            "Epoch 1:   0%|          | 0/470 [00:00<?, ?it/s]/tmp/ipykernel_737449/1281451005.py:31: FutureWarning: `torch.cuda.amp.autocast(args...)` is deprecated. Please use `torch.amp.autocast('cuda', args...)` instead.\n",
            "  with autocast():\n",
            "Epoch 1: 100%|██████████| 470/470 [01:59<00:00,  3.92it/s, loss=2.27]\n"
          ]
        },
        {
          "name": "stdout",
          "output_type": "stream",
          "text": [
            "\n",
            "Epoch 1 - Exact Match (EM): 50.07% | F1 Score: 50.07%\n",
            "\n"
          ]
        },
        {
          "name": "stderr",
          "output_type": "stream",
          "text": [
            "Epoch 2: 100%|██████████| 470/470 [02:01<00:00,  3.88it/s, loss=1.54]\n"
          ]
        },
        {
          "name": "stdout",
          "output_type": "stream",
          "text": [
            "\n",
            "Epoch 2 - Exact Match (EM): 53.31% | F1 Score: 55.24%\n",
            "\n"
          ]
        },
        {
          "name": "stderr",
          "output_type": "stream",
          "text": [
            "Epoch 3: 100%|██████████| 470/470 [02:01<00:00,  3.87it/s, loss=1.29] \n"
          ]
        },
        {
          "name": "stdout",
          "output_type": "stream",
          "text": [
            "\n",
            "Epoch 3 - Exact Match (EM): 53.90% | F1 Score: 55.53%\n",
            "\n"
          ]
        },
        {
          "name": "stderr",
          "output_type": "stream",
          "text": [
            "Epoch 4: 100%|██████████| 470/470 [02:01<00:00,  3.87it/s, loss=1]    \n"
          ]
        },
        {
          "name": "stdout",
          "output_type": "stream",
          "text": [
            "\n",
            "Epoch 4 - Exact Match (EM): 55.33% | F1 Score: 59.95%\n",
            "\n"
          ]
        },
        {
          "name": "stderr",
          "output_type": "stream",
          "text": [
            "Epoch 5: 100%|██████████| 470/470 [02:01<00:00,  3.87it/s, loss=1.13] \n"
          ]
        },
        {
          "name": "stdout",
          "output_type": "stream",
          "text": [
            "\n",
            "Epoch 5 - Exact Match (EM): 54.76% | F1 Score: 60.69%\n",
            "\n"
          ]
        },
        {
          "name": "stderr",
          "output_type": "stream",
          "text": [
            "Epoch 6: 100%|██████████| 470/470 [02:01<00:00,  3.87it/s, loss=0.515]\n"
          ]
        },
        {
          "name": "stdout",
          "output_type": "stream",
          "text": [
            "\n",
            "Epoch 6 - Exact Match (EM): 54.70% | F1 Score: 61.10%\n",
            "\n"
          ]
        },
        {
          "name": "stderr",
          "output_type": "stream",
          "text": [
            "Epoch 7: 100%|██████████| 470/470 [02:01<00:00,  3.87it/s, loss=0.581]\n"
          ]
        },
        {
          "name": "stdout",
          "output_type": "stream",
          "text": [
            "\n",
            "Epoch 7 - Exact Match (EM): 53.79% | F1 Score: 60.74%\n",
            "\n"
          ]
        },
        {
          "name": "stderr",
          "output_type": "stream",
          "text": [
            "Epoch 8: 100%|██████████| 470/470 [02:01<00:00,  3.86it/s, loss=0.6]  \n"
          ]
        },
        {
          "name": "stdout",
          "output_type": "stream",
          "text": [
            "\n",
            "Epoch 8 - Exact Match (EM): 54.91% | F1 Score: 61.50%\n",
            "\n"
          ]
        },
        {
          "name": "stderr",
          "output_type": "stream",
          "text": [
            "Epoch 9: 100%|██████████| 470/470 [02:01<00:00,  3.86it/s, loss=1.06] \n"
          ]
        },
        {
          "name": "stdout",
          "output_type": "stream",
          "text": [
            "\n",
            "Epoch 9 - Exact Match (EM): 54.32% | F1 Score: 61.46%\n",
            "\n"
          ]
        },
        {
          "name": "stderr",
          "output_type": "stream",
          "text": [
            "Epoch 10: 100%|██████████| 470/470 [02:01<00:00,  3.87it/s, loss=0.599]\n"
          ]
        },
        {
          "name": "stdout",
          "output_type": "stream",
          "text": [
            "\n",
            "Epoch 10 - Exact Match (EM): 54.10% | F1 Score: 61.37%\n",
            "\n"
          ]
        },
        {
          "data": {
            "text/plain": [
              "('./spanbert_squad_finetuned_mak_ki_HARSH/tokenizer_config.json',\n",
              " './spanbert_squad_finetuned_mak_ki_HARSH/special_tokens_map.json',\n",
              " './spanbert_squad_finetuned_mak_ki_HARSH/vocab.txt',\n",
              " './spanbert_squad_finetuned_mak_ki_HARSH/added_tokens.json',\n",
              " './spanbert_squad_finetuned_mak_ki_HARSH/tokenizer.json')"
            ]
          },
          "execution_count": 19,
          "metadata": {},
          "output_type": "execute_result"
        }
      ],
      "source": [
        "from torch.utils.data import DataLoader\n",
        "from torch.cuda.amp import GradScaler, autocast\n",
        "train_dataloader = DataLoader(tr_1_final, batch_size=32, shuffle=True, collate_fn=train_collate_fn,num_workers = 16,pin_memory=True)\n",
        "\n",
        "\n",
        "# For evaluation, we use the raw validation dataset.\n",
        "# (We already created a collate_fn earlier that preserves the original text fields.)\n",
        "eval_dataloader = DataLoader(val_1, batch_size=16, collate_fn=collate_fn,num_workers = 8,pin_memory=True)\n",
        "from transformers import AdamW, get_scheduler\n",
        "scaler = torch.cuda.amp.GradScaler()\n",
        "optimizer = AdamW(model.parameters(), lr=2e-5)\n",
        "num_epochs = 10\n",
        "num_training_steps = num_epochs * len(train_dataloader)\n",
        "lr_scheduler = get_scheduler(\n",
        "    name=\"linear\", \n",
        "    optimizer=optimizer, \n",
        "    num_warmup_steps=0, \n",
        "    num_training_steps=num_training_steps\n",
        ")\n",
        "from tqdm.auto import tqdm\n",
        "device = torch.device(\"cuda\" if torch.cuda.is_available() else \"cpu\")\n",
        "model.to(device)\n",
        "\n",
        "for epoch in range(num_epochs):\n",
        "    model.train()\n",
        "    progress_bar = tqdm(train_dataloader, desc=f\"Epoch {epoch+1}\")\n",
        "\n",
        "    total_loss = 0\n",
        "    for batch in progress_bar:\n",
        "        optimizer.zero_grad()\n",
        "        with autocast():\n",
        "            input_ids = batch[\"input_ids\"].to(device)\n",
        "            attention_mask = batch[\"attention_mask\"].to(device)\n",
        "            start_positions = batch[\"start_positions\"].to(device)\n",
        "            end_positions = batch[\"end_positions\"].to(device)\n",
        "            \n",
        "            outputs = model(\n",
        "                input_ids=input_ids, \n",
        "                attention_mask=attention_mask, \n",
        "                start_positions=start_positions, \n",
        "                end_positions=end_positions\n",
        "            )\n",
        "            loss = outputs.loss\n",
        "        scaler.scale(loss).backward()\n",
        "        scaler.step(optimizer)\n",
        "        scaler.update()\n",
        "        lr_scheduler.step()\n",
        "        progress_bar.set_postfix(loss=loss.item())\n",
        "        wandb.log({\"train_loss\": loss.item()})\n",
        "        total_loss+=loss.item()\n",
        "    avg_train_loss = total_loss / len(train_dataloader)\n",
        "    # --- Evaluation at the end of each epoch ---\n",
        "    model.eval()\n",
        "    all_predictions = []\n",
        "    all_references = []\n",
        "    with torch.no_grad():\n",
        "        for batch in eval_dataloader:\n",
        "            questions = batch[\"question\"]\n",
        "            contexts = batch[\"context\"]\n",
        "            # For each example, take the first available ground truth answer\n",
        "            true_answers = [ans[\"text\"][0] if ans[\"text\"] else \"\" for ans in batch[\"answers\"]]\n",
        "            \n",
        "            # Get predictions using the provided predict_answers function.\n",
        "            predicted_answers = predict_answers(questions, contexts, model, tokenizer)\n",
        "            \n",
        "            all_predictions.extend(predicted_answers)\n",
        "            all_references.extend(true_answers)\n",
        "    \n",
        "    # Compute metrics\n",
        "    em = exact_match_score(all_predictions, all_references)\n",
        "    f1 = f1_score(all_predictions, all_references)\n",
        "    print(f\"\\nEpoch {epoch+1} - Exact Match (EM): {em:.2f}% | F1 Score: {f1:.2f}%\\n\")\n",
        "    wandb.log({\n",
        "        \"epoch\": epoch + 1,\n",
        "        \"avg_train_loss\": avg_train_loss,\n",
        "        \"exact_match\": em,\n",
        "        \"f1_score\": f1\n",
        "    })\n",
        "model.save_pretrained(\"./spanbert_squad_finetuned_mak_ki_HARSH\")\n",
        "tokenizer.save_pretrained(\"./spanbert_squad_finetuned_mak_ki_HARSH\")\n",
        "\n"
      ]
    },
    {
      "cell_type": "code",
      "execution_count": 20,
      "metadata": {},
      "outputs": [
        {
          "name": "stdout",
          "output_type": "stream",
          "text": [
            "cuda\n"
          ]
        }
      ],
      "source": [
        "print(device)"
      ]
    },
    {
      "cell_type": "markdown",
      "metadata": {},
      "source": [
        "# sonbert ka output"
      ]
    },
    {
      "cell_type": "code",
      "execution_count": 27,
      "metadata": {},
      "outputs": [
        {
          "name": "stdout",
          "output_type": "stream",
          "text": [
            "Exact Match (EM): 47.70% | F1 Score: 56.04%\n"
          ]
        }
      ],
      "source": [
        "all_predictions = []\n",
        "all_references = []\n",
        "from torch.utils.data import DataLoader\n",
        "from torch.cuda.amp import GradScaler, autocast\n",
        "train_dataloader = DataLoader(tr_1_final, batch_size=32, shuffle=True, collate_fn=train_collate_fn,num_workers = 16,pin_memory=True)\n",
        "model_path = \"./spanbert_squad_finetuned_mak_ki_HARSH\"\n",
        "tokenizer = AutoTokenizer.from_pretrained(model_path)\n",
        "model = AutoModelForQuestionAnswering.from_pretrained(model_path).to(device)\n",
        "eval_dataloader = DataLoader(val_1, batch_size=16, collate_fn=collate_fn,num_workers = 8,pin_memory=True)\n",
        "with torch.no_grad():\n",
        "    for batch in eval_dataloader:\n",
        "        questions = batch[\"question\"]\n",
        "        contexts = batch[\"context\"]\n",
        "        true_answers = [ans[\"text\"][0] if ans[\"text\"] else \"\" for ans in batch[\"answers\"]]\n",
        "\n",
        "        # The predict_answers function now returns a list of answer strings\n",
        "        predicted_texts = predict_answers(questions, contexts, model, tokenizer,0.1)\n",
        "        \n",
        "        all_predictions.extend(predicted_texts)\n",
        "        all_references.extend(true_answers)\n",
        "\n",
        "# Convert references to lowercase for consistency\n",
        "all_references = [ref.lower() for ref in all_references]\n",
        "\n",
        "em = exact_match_score(all_predictions, all_references)\n",
        "f1 = f1_score(all_predictions, all_references)\n",
        "\n",
        "print(f\"Exact Match (EM): {em:.2f}% | F1 Score: {f1:.2f}%\")\n"
      ]
    },
    {
      "cell_type": "code",
      "execution_count": null,
      "metadata": {},
      "outputs": [
        {
          "name": "stdout",
          "output_type": "stream",
          "text": [
            "[{'score': 0.11108297854661942, 'answer': '', 'answer_start': 0}]\n"
          ]
        }
      ],
      "source": [
        "questions = [\"who was Norman?\"]\n",
        "contexts = [\"The Normans (Norman: Nourmands; French: Normands; Latin: Normanni) were the people who in the 10th and 11th centuries gave their name to Normandy, a region in France. They were descended from Norse (\\\"Norman\\\" comes from \\\"Norseman\\\") raiders and pirates from Denmark, Iceland and Norway who, under their leader Rollo, agreed to swear fealty to King Charles III of West Francia. Through generations of assimilation and mixing with the native Frankish and Roman-Gaulish populations, their descendants would gradually merge with the Carolingian-based cultures of West Francia. The distinct cultural and ethnic identity of the Normans emerged initially in the first half of the 10th century, and it continued to evolve over the succeeding centuries.\"]\n",
        "predicted_answers = predict_answers(questions, contexts, model, tokenizer, 0.001)\n",
        "\n",
        "print(predicted_answers)"
      ]
    },
    {
      "cell_type": "code",
      "execution_count": 179,
      "metadata": {},
      "outputs": [
        {
          "name": "stdout",
          "output_type": "stream",
          "text": [
            "{'input_ids': [101, 1165, 1225, 1123, 2707, 2867, 1112, 170, 1118, 14883, 12569, 1704, 136, 102, 1141, 1104, 1103, 1148, 18570, 1389, 22222, 1106, 2867, 1112, 170, 1118, 14883, 12569, 1704, 1108, 1123, 2707, 1107, 1103, 8359, 13031, 119, 1118, 1173, 1649, 117, 1175, 1127, 1640, 18570, 1389, 22222, 2688, 1112, 1677, 1283, 1112, 189, 1874, 5567, 9515, 1181, 1105, 176, 25690, 9037, 119, 1152, 1127, 1359, 1120, 12477, 16236, 2315, 1105, 5048, 5800, 1161, 117, 1223, 1103, 1118, 14883, 12569, 16093, 1104, 2848, 9962, 117, 1110, 22118, 1665, 180, 4165, 9573, 2155, 119, 1107, 1103, 9920, 13031, 117, 11580, 3740, 19501, 1394, 1521, 1103, 18570, 5443, 1104, 5048, 5800, 1161, 1222, 1103, 189, 2149, 4616, 119, 187, 2285, 11510, 1260, 17076, 1513, 4654, 1256, 1793, 1106, 1610, 2707, 1149, 1126, 2457, 1352, 1107, 1112, 1465, 3137, 1114, 1619, 1121, 1103, 1469, 1416, 117, 1133, 1119, 1108, 2141, 1118, 1103, 1118, 14883, 12569, 1704, 23280, 8745, 1361, 180, 4165, 9573, 2155, 119, 102, 0, 0, 0, 0, 0, 0, 0, 0, 0, 0, 0, 0, 0, 0, 0, 0, 0, 0, 0, 0, 0, 0, 0, 0, 0, 0, 0, 0, 0, 0, 0, 0, 0, 0, 0, 0, 0, 0, 0, 0, 0, 0, 0, 0, 0, 0, 0, 0, 0, 0, 0, 0, 0, 0, 0, 0, 0, 0, 0, 0, 0, 0, 0, 0, 0, 0, 0, 0, 0, 0, 0, 0, 0, 0, 0, 0, 0, 0, 0, 0, 0, 0, 0, 0, 0, 0, 0, 0, 0, 0, 0, 0, 0, 0, 0, 0, 0, 0, 0, 0, 0, 0, 0, 0, 0, 0, 0, 0, 0, 0, 0, 0, 0, 0, 0, 0, 0, 0, 0, 0, 0, 0, 0, 0, 0, 0, 0, 0, 0, 0, 0, 0, 0, 0, 0, 0, 0, 0, 0, 0, 0, 0, 0, 0, 0, 0, 0, 0, 0, 0, 0, 0, 0, 0, 0, 0, 0, 0, 0, 0, 0, 0, 0, 0, 0, 0, 0, 0, 0, 0, 0, 0, 0, 0, 0, 0, 0, 0, 0, 0, 0, 0, 0, 0, 0, 0, 0, 0, 0, 0, 0, 0, 0, 0, 0, 0, 0, 0, 0, 0, 0, 0, 0, 0, 0, 0, 0, 0, 0, 0, 0, 0, 0, 0, 0, 0, 0, 0, 0, 0, 0, 0, 0, 0, 0, 0, 0, 0, 0, 0, 0, 0, 0, 0, 0, 0, 0, 0, 0, 0, 0, 0, 0, 0, 0, 0, 0, 0, 0, 0, 0, 0, 0, 0, 0, 0, 0, 0, 0, 0, 0, 0, 0, 0, 0, 0, 0, 0, 0, 0, 0, 0, 0, 0, 0, 0, 0, 0, 0, 0, 0, 0, 0, 0, 0, 0, 0, 0, 0, 0, 0, 0, 0, 0, 0, 0, 0, 0, 0, 0, 0, 0, 0, 0, 0, 0, 0, 0, 0, 0, 0, 0, 0, 0, 0, 0, 0, 0, 0, 0, 0, 0, 0, 0, 0, 0, 0, 0, 0, 0, 0, 0, 0, 0, 0, 0, 0, 0, 0, 0, 0, 0, 0, 0, 0, 0, 0, 0, 0, 0, 0], 'token_type_ids': [0, 0, 0, 0, 0, 0, 0, 0, 0, 0, 0, 0, 0, 0, 1, 1, 1, 1, 1, 1, 1, 1, 1, 1, 1, 1, 1, 1, 1, 1, 1, 1, 1, 1, 1, 1, 1, 1, 1, 1, 1, 1, 1, 1, 1, 1, 1, 1, 1, 1, 1, 1, 1, 1, 1, 1, 1, 1, 1, 1, 1, 1, 1, 1, 1, 1, 1, 1, 1, 1, 1, 1, 1, 1, 1, 1, 1, 1, 1, 1, 1, 1, 1, 1, 1, 1, 1, 1, 1, 1, 1, 1, 1, 1, 1, 1, 1, 1, 1, 1, 1, 1, 1, 1, 1, 1, 1, 1, 1, 1, 1, 1, 1, 1, 1, 1, 1, 1, 1, 1, 1, 1, 1, 1, 1, 1, 1, 1, 1, 1, 1, 1, 1, 1, 1, 1, 1, 1, 1, 1, 1, 1, 1, 1, 1, 1, 1, 1, 1, 1, 1, 1, 1, 1, 1, 1, 1, 1, 1, 1, 1, 0, 0, 0, 0, 0, 0, 0, 0, 0, 0, 0, 0, 0, 0, 0, 0, 0, 0, 0, 0, 0, 0, 0, 0, 0, 0, 0, 0, 0, 0, 0, 0, 0, 0, 0, 0, 0, 0, 0, 0, 0, 0, 0, 0, 0, 0, 0, 0, 0, 0, 0, 0, 0, 0, 0, 0, 0, 0, 0, 0, 0, 0, 0, 0, 0, 0, 0, 0, 0, 0, 0, 0, 0, 0, 0, 0, 0, 0, 0, 0, 0, 0, 0, 0, 0, 0, 0, 0, 0, 0, 0, 0, 0, 0, 0, 0, 0, 0, 0, 0, 0, 0, 0, 0, 0, 0, 0, 0, 0, 0, 0, 0, 0, 0, 0, 0, 0, 0, 0, 0, 0, 0, 0, 0, 0, 0, 0, 0, 0, 0, 0, 0, 0, 0, 0, 0, 0, 0, 0, 0, 0, 0, 0, 0, 0, 0, 0, 0, 0, 0, 0, 0, 0, 0, 0, 0, 0, 0, 0, 0, 0, 0, 0, 0, 0, 0, 0, 0, 0, 0, 0, 0, 0, 0, 0, 0, 0, 0, 0, 0, 0, 0, 0, 0, 0, 0, 0, 0, 0, 0, 0, 0, 0, 0, 0, 0, 0, 0, 0, 0, 0, 0, 0, 0, 0, 0, 0, 0, 0, 0, 0, 0, 0, 0, 0, 0, 0, 0, 0, 0, 0, 0, 0, 0, 0, 0, 0, 0, 0, 0, 0, 0, 0, 0, 0, 0, 0, 0, 0, 0, 0, 0, 0, 0, 0, 0, 0, 0, 0, 0, 0, 0, 0, 0, 0, 0, 0, 0, 0, 0, 0, 0, 0, 0, 0, 0, 0, 0, 0, 0, 0, 0, 0, 0, 0, 0, 0, 0, 0, 0, 0, 0, 0, 0, 0, 0, 0, 0, 0, 0, 0, 0, 0, 0, 0, 0, 0, 0, 0, 0, 0, 0, 0, 0, 0, 0, 0, 0, 0, 0, 0, 0, 0, 0, 0, 0, 0, 0, 0, 0, 0, 0, 0, 0, 0, 0, 0, 0, 0, 0, 0, 0, 0, 0, 0, 0, 0, 0, 0, 0, 0, 0, 0, 0, 0, 0, 0, 0, 0, 0, 0], 'attention_mask': [1, 1, 1, 1, 1, 1, 1, 1, 1, 1, 1, 1, 1, 1, 1, 1, 1, 1, 1, 1, 1, 1, 1, 1, 1, 1, 1, 1, 1, 1, 1, 1, 1, 1, 1, 1, 1, 1, 1, 1, 1, 1, 1, 1, 1, 1, 1, 1, 1, 1, 1, 1, 1, 1, 1, 1, 1, 1, 1, 1, 1, 1, 1, 1, 1, 1, 1, 1, 1, 1, 1, 1, 1, 1, 1, 1, 1, 1, 1, 1, 1, 1, 1, 1, 1, 1, 1, 1, 1, 1, 1, 1, 1, 1, 1, 1, 1, 1, 1, 1, 1, 1, 1, 1, 1, 1, 1, 1, 1, 1, 1, 1, 1, 1, 1, 1, 1, 1, 1, 1, 1, 1, 1, 1, 1, 1, 1, 1, 1, 1, 1, 1, 1, 1, 1, 1, 1, 1, 1, 1, 1, 1, 1, 1, 1, 1, 1, 1, 1, 1, 1, 1, 1, 1, 1, 1, 1, 1, 1, 1, 1, 0, 0, 0, 0, 0, 0, 0, 0, 0, 0, 0, 0, 0, 0, 0, 0, 0, 0, 0, 0, 0, 0, 0, 0, 0, 0, 0, 0, 0, 0, 0, 0, 0, 0, 0, 0, 0, 0, 0, 0, 0, 0, 0, 0, 0, 0, 0, 0, 0, 0, 0, 0, 0, 0, 0, 0, 0, 0, 0, 0, 0, 0, 0, 0, 0, 0, 0, 0, 0, 0, 0, 0, 0, 0, 0, 0, 0, 0, 0, 0, 0, 0, 0, 0, 0, 0, 0, 0, 0, 0, 0, 0, 0, 0, 0, 0, 0, 0, 0, 0, 0, 0, 0, 0, 0, 0, 0, 0, 0, 0, 0, 0, 0, 0, 0, 0, 0, 0, 0, 0, 0, 0, 0, 0, 0, 0, 0, 0, 0, 0, 0, 0, 0, 0, 0, 0, 0, 0, 0, 0, 0, 0, 0, 0, 0, 0, 0, 0, 0, 0, 0, 0, 0, 0, 0, 0, 0, 0, 0, 0, 0, 0, 0, 0, 0, 0, 0, 0, 0, 0, 0, 0, 0, 0, 0, 0, 0, 0, 0, 0, 0, 0, 0, 0, 0, 0, 0, 0, 0, 0, 0, 0, 0, 0, 0, 0, 0, 0, 0, 0, 0, 0, 0, 0, 0, 0, 0, 0, 0, 0, 0, 0, 0, 0, 0, 0, 0, 0, 0, 0, 0, 0, 0, 0, 0, 0, 0, 0, 0, 0, 0, 0, 0, 0, 0, 0, 0, 0, 0, 0, 0, 0, 0, 0, 0, 0, 0, 0, 0, 0, 0, 0, 0, 0, 0, 0, 0, 0, 0, 0, 0, 0, 0, 0, 0, 0, 0, 0, 0, 0, 0, 0, 0, 0, 0, 0, 0, 0, 0, 0, 0, 0, 0, 0, 0, 0, 0, 0, 0, 0, 0, 0, 0, 0, 0, 0, 0, 0, 0, 0, 0, 0, 0, 0, 0, 0, 0, 0, 0, 0, 0, 0, 0, 0, 0, 0, 0, 0, 0, 0, 0, 0, 0, 0, 0, 0, 0, 0, 0, 0, 0, 0, 0, 0, 0, 0, 0, 0, 0, 0, 0, 0, 0, 0, 0, 0, 0, 0, 0, 0, 0], 'start_positions': 34, 'end_positions': 35} {'id': '56de0ffd4396321400ee258d', 'title': 'Normans', 'context': 'One of the first Norman mercenaries to serve as a Byzantine general was Hervé in the 1050s. By then however, there were already Norman mercenaries serving as far away as Trebizond and Georgia. They were based at Malatya and Edessa, under the Byzantine duke of Antioch, Isaac Komnenos. In the 1060s, Robert Crispin led the Normans of Edessa against the Turks. Roussel de Bailleul even tried to carve out an independent state in Asia Minor with support from the local population, but he was stopped by the Byzantine general Alexius Komnenos.', 'question': 'When did Herve serve as a Byzantine general?', 'answers': {'text': ['1050s', 'in the 1050s', 'in the 1050s'], 'answer_start': [85, 78, 78]}}\n",
            "Predicted answer: 1050s\n"
          ]
        }
      ],
      "source": [
        "import torch\n",
        "\n",
        "# First, retrieve the item from val_1_final (which is just input data, not model outputs).\n",
        "print(val_1_final[45], val_1[45])\n",
        "\n",
        "# Convert the dataset entry to tensors (add batch dimension with unsqueeze).\n",
        "sample = val_1_final[45]\n",
        "input_ids = torch.tensor(sample[\"input_ids\"]).unsqueeze(0).to(device)\n",
        "attention_mask = torch.tensor(sample[\"attention_mask\"]).unsqueeze(0).to(device)\n",
        "\n",
        "# Run the model to get start and end logits.\n",
        "with torch.no_grad():\n",
        "    outputs = model(input_ids=input_ids, attention_mask=attention_mask)\n",
        "start_logits = outputs.start_logits\n",
        "end_logits = outputs.end_logits\n",
        "\n",
        "# Find the most likely start and end positions.\n",
        "start_positions = torch.argmax(start_logits, dim=1)\n",
        "end_positions = torch.argmax(end_logits, dim=1)\n",
        "\n",
        "# Decode and print the predicted answer.\n",
        "for i in range(len(start_positions)):\n",
        "    start_idx = start_positions[i].item()\n",
        "    end_idx = end_positions[i].item()\n",
        "\n",
        "    if end_idx < start_idx:\n",
        "        answer = \"\"\n",
        "    else:\n",
        "        answer_tokens = input_ids[i][start_idx : end_idx + 1]\n",
        "        answer = tokenizer.decode(answer_tokens, skip_special_tokens=True)\n",
        "    print(\"Predicted answer:\", answer)"
      ]
    },
    {
      "cell_type": "code",
      "execution_count": null,
      "metadata": {},
      "outputs": [],
      "source": [
        "import json\n",
        "from datasets import load_dataset\n",
        "from evaluate import load\n",
        "from transformers import pipeline\n",
        "\n",
        "# Preprocessing function for SQuAD v2\n",
        "def preprocess_squad(json_file):\n",
        "    with open(json_file) as f:\n",
        "        data = json.load(f)[\"data\"]\n",
        "\n",
        "    dataset = []\n",
        "    for article in data:\n",
        "        for paragraph in article[\"paragraphs\"]:\n",
        "            context = paragraph[\"context\"]\n",
        "            for qa in article[\"qas\"] if \"qas\" in article else paragraph[\"qas\"]:\n",
        "                dataset.append({\n",
        "                    \"id\": qa[\"id\"],\n",
        "                    \"question\": qa[\"question\"],\n",
        "                    \"context\": context,\n",
        "                    # For unanswerable questions, SQuAD v2 uses an empty list for answers\n",
        "                    \"answers\": qa[\"answers\"] if \"answers\" in qa else []\n",
        "                })\n",
        "    return dataset\n",
        "\n",
        "# Load the SQuAD v2 dev set (adjust path if needed)\n",
        "val_data = preprocess_squad(\"dev-v2.0.json\")\n",
        "\n"
      ]
    },
    {
      "cell_type": "code",
      "execution_count": null,
      "metadata": {
        "colab": {
          "base_uri": "https://localhost:8080/",
          "height": 680
        },
        "id": "eguFj_S2mv_Z",
        "outputId": "f2c7d455-cb1c-4ef1-f0f9-e115c33d050d"
      },
      "outputs": [
        {
          "name": "stderr",
          "output_type": "stream",
          "text": [
            "\u001b[34m\u001b[1mwandb\u001b[0m: Currently logged in as: \u001b[33madi_god\u001b[0m (\u001b[33madi_god-indraprastha-institute-of-information-technology\u001b[0m) to \u001b[32mhttps://api.wandb.ai\u001b[0m. Use \u001b[1m`wandb login --relogin`\u001b[0m to force relogin\n",
            "\u001b[34m\u001b[1mwandb\u001b[0m: Using wandb-core as the SDK backend.  Please refer to https://wandb.me/wandb-core for more information.\n"
          ]
        },
        {
          "data": {
            "text/html": [
              "Tracking run with wandb version 0.19.6"
            ],
            "text/plain": [
              "<IPython.core.display.HTML object>"
            ]
          },
          "metadata": {},
          "output_type": "display_data"
        },
        {
          "data": {
            "text/html": [
              "Run data is saved locally in <code>/mnt/drive/aditya22040/god/ll/Assignemnt2/wandb/run-20250304_203548-5q190996</code>"
            ],
            "text/plain": [
              "<IPython.core.display.HTML object>"
            ]
          },
          "metadata": {},
          "output_type": "display_data"
        },
        {
          "data": {
            "text/html": [
              "Syncing run <strong><a href='https://wandb.ai/adi_god-indraprastha-institute-of-information-technology/NLP_ASS3/runs/5q190996' target=\"_blank\">fresh-cosmos-7</a></strong> to <a href='https://wandb.ai/adi_god-indraprastha-institute-of-information-technology/NLP_ASS3' target=\"_blank\">Weights & Biases</a> (<a href='https://wandb.me/developer-guide' target=\"_blank\">docs</a>)<br>"
            ],
            "text/plain": [
              "<IPython.core.display.HTML object>"
            ]
          },
          "metadata": {},
          "output_type": "display_data"
        },
        {
          "data": {
            "text/html": [
              " View project at <a href='https://wandb.ai/adi_god-indraprastha-institute-of-information-technology/NLP_ASS3' target=\"_blank\">https://wandb.ai/adi_god-indraprastha-institute-of-information-technology/NLP_ASS3</a>"
            ],
            "text/plain": [
              "<IPython.core.display.HTML object>"
            ]
          },
          "metadata": {},
          "output_type": "display_data"
        },
        {
          "data": {
            "text/html": [
              " View run at <a href='https://wandb.ai/adi_god-indraprastha-institute-of-information-technology/NLP_ASS3/runs/5q190996' target=\"_blank\">https://wandb.ai/adi_god-indraprastha-institute-of-information-technology/NLP_ASS3/runs/5q190996</a>"
            ],
            "text/plain": [
              "<IPython.core.display.HTML object>"
            ]
          },
          "metadata": {},
          "output_type": "display_data"
        },
        {
          "data": {
            "text/html": [
              "<button onClick=\"this.nextSibling.style.display='block';this.style.display='none';\">Display W&B run</button><iframe src='https://wandb.ai/adi_god-indraprastha-institute-of-information-technology/NLP_ASS3/runs/5q190996?jupyter=true' style='border:none;width:100%;height:420px;display:none;'></iframe>"
            ],
            "text/plain": [
              "<wandb.sdk.wandb_run.Run at 0x7fb4b80b7f90>"
            ]
          },
          "execution_count": 56,
          "metadata": {},
          "output_type": "execute_result"
        }
      ],
      "source": [
        "# import wandb\n",
        "# wandb.init(project=\"NLP_ASS3\")\n"
      ]
    },
    {
      "cell_type": "code",
      "execution_count": null,
      "metadata": {
        "colab": {
          "base_uri": "https://localhost:8080/",
          "height": 181
        },
        "id": "iUWhtS5r3KQP",
        "outputId": "889a87a0-71aa-4726-a4bd-b9acd56ca2a5"
      },
      "outputs": [
        {
          "name": "stdout",
          "output_type": "stream",
          "text": [
            "\n",
            "Epoch 1/6\n"
          ]
        },
        {
          "name": "stderr",
          "output_type": "stream",
          "text": [
            "Training:   0%|          | 0/956 [00:00<?, ?it/s]huggingface/tokenizers: The current process just got forked, after parallelism has already been used. Disabling parallelism to avoid deadlocks...\n",
            "To disable this warning, you can either:\n",
            "\t- Avoid using `tokenizers` before the fork if possible\n",
            "\t- Explicitly set the environment variable TOKENIZERS_PARALLELISM=(true | false)\n",
            "huggingface/tokenizers: The current process just got forked, after parallelism has already been used. Disabling parallelism to avoid deadlocks...\n",
            "To disable this warning, you can either:\n",
            "\t- Avoid using `tokenizers` before the fork if possible\n",
            "\t- Explicitly set the environment variable TOKENIZERS_PARALLELISM=(true | false)\n",
            "huggingface/tokenizers: The current process just got forked, after parallelism has already been used. Disabling parallelism to avoid deadlocks...\n",
            "To disable this warning, you can either:\n",
            "\t- Avoid using `tokenizers` before the fork if possible\n",
            "\t- Explicitly set the environment variable TOKENIZERS_PARALLELISM=(true | false)\n",
            "huggingface/tokenizers: The current process just got forked, after parallelism has already been used. Disabling parallelism to avoid deadlocks...\n",
            "To disable this warning, you can either:\n",
            "\t- Avoid using `tokenizers` before the fork if possible\n",
            "\t- Explicitly set the environment variable TOKENIZERS_PARALLELISM=(true | false)\n",
            "huggingface/tokenizers: The current process just got forked, after parallelism has already been used. Disabling parallelism to avoid deadlocks...\n",
            "To disable this warning, you can either:\n",
            "\t- Avoid using `tokenizers` before the fork if possible\n",
            "\t- Explicitly set the environment variable TOKENIZERS_PARALLELISM=(true | false)\n",
            "huggingface/tokenizers: The current process just got forked, after parallelism has already been used. Disabling parallelism to avoid deadlocks...\n",
            "To disable this warning, you can either:\n",
            "\t- Avoid using `tokenizers` before the fork if possible\n",
            "\t- Explicitly set the environment variable TOKENIZERS_PARALLELISM=(true | false)\n",
            "huggingface/tokenizers: The current process just got forked, after parallelism has already been used. Disabling parallelism to avoid deadlocks...\n",
            "To disable this warning, you can either:\n",
            "\t- Avoid using `tokenizers` before the fork if possible\n",
            "\t- Explicitly set the environment variable TOKENIZERS_PARALLELISM=(true | false)\n",
            "huggingface/tokenizers: The current process just got forked, after parallelism has already been used. Disabling parallelism to avoid deadlocks...\n",
            "To disable this warning, you can either:\n",
            "\t- Avoid using `tokenizers` before the fork if possible\n",
            "\t- Explicitly set the environment variable TOKENIZERS_PARALLELISM=(true | false)\n",
            "/tmp/ipykernel_2278012/3052012047.py:25: FutureWarning: `torch.cuda.amp.autocast(args...)` is deprecated. Please use `torch.amp.autocast('cuda', args...)` instead.\n",
            "  with torch.cuda.amp.autocast(enabled=True):\n",
            "Training:   0%|          | 0/956 [00:00<?, ?it/s]\n"
          ]
        },
        {
          "ename": "AttributeError",
          "evalue": "'list' object has no attribute 'size'",
          "output_type": "error",
          "traceback": [
            "\u001b[0;31m---------------------------------------------------------------------------\u001b[0m",
            "\u001b[0;31mAttributeError\u001b[0m                            Traceback (most recent call last)",
            "Cell \u001b[0;32mIn[75], line 26\u001b[0m\n\u001b[1;32m     23\u001b[0m batch_inputs \u001b[38;5;241m=\u001b[39m move_to_device(batch_inputs, device)\n\u001b[1;32m     25\u001b[0m \u001b[38;5;28;01mwith\u001b[39;00m torch\u001b[38;5;241m.\u001b[39mcuda\u001b[38;5;241m.\u001b[39mamp\u001b[38;5;241m.\u001b[39mautocast(enabled\u001b[38;5;241m=\u001b[39m\u001b[38;5;28;01mTrue\u001b[39;00m):\n\u001b[0;32m---> 26\u001b[0m     outputs \u001b[38;5;241m=\u001b[39m \u001b[43mmodel\u001b[49m\u001b[43m(\u001b[49m\u001b[38;5;241;43m*\u001b[39;49m\u001b[38;5;241;43m*\u001b[39;49m\u001b[43mbatch_inputs\u001b[49m\u001b[43m)\u001b[49m\n\u001b[1;32m     27\u001b[0m     loss \u001b[38;5;241m=\u001b[39m outputs\u001b[38;5;241m.\u001b[39mloss\n\u001b[1;32m     28\u001b[0m     loss \u001b[38;5;241m=\u001b[39m loss \u001b[38;5;241m/\u001b[39m gradient_accumulation_steps  \u001b[38;5;66;03m# Normalize loss if accumulating\u001b[39;00m\n",
            "File \u001b[0;32m/mnt/drive/aditya22040/god/CV/saum_god/lib/python3.11/site-packages/torch/nn/modules/module.py:1739\u001b[0m, in \u001b[0;36mModule._wrapped_call_impl\u001b[0;34m(self, *args, **kwargs)\u001b[0m\n\u001b[1;32m   1737\u001b[0m     \u001b[38;5;28;01mreturn\u001b[39;00m \u001b[38;5;28mself\u001b[39m\u001b[38;5;241m.\u001b[39m_compiled_call_impl(\u001b[38;5;241m*\u001b[39margs, \u001b[38;5;241m*\u001b[39m\u001b[38;5;241m*\u001b[39mkwargs)  \u001b[38;5;66;03m# type: ignore[misc]\u001b[39;00m\n\u001b[1;32m   1738\u001b[0m \u001b[38;5;28;01melse\u001b[39;00m:\n\u001b[0;32m-> 1739\u001b[0m     \u001b[38;5;28;01mreturn\u001b[39;00m \u001b[38;5;28;43mself\u001b[39;49m\u001b[38;5;241;43m.\u001b[39;49m\u001b[43m_call_impl\u001b[49m\u001b[43m(\u001b[49m\u001b[38;5;241;43m*\u001b[39;49m\u001b[43margs\u001b[49m\u001b[43m,\u001b[49m\u001b[43m \u001b[49m\u001b[38;5;241;43m*\u001b[39;49m\u001b[38;5;241;43m*\u001b[39;49m\u001b[43mkwargs\u001b[49m\u001b[43m)\u001b[49m\n",
            "File \u001b[0;32m/mnt/drive/aditya22040/god/CV/saum_god/lib/python3.11/site-packages/torch/nn/modules/module.py:1750\u001b[0m, in \u001b[0;36mModule._call_impl\u001b[0;34m(self, *args, **kwargs)\u001b[0m\n\u001b[1;32m   1745\u001b[0m \u001b[38;5;66;03m# If we don't have any hooks, we want to skip the rest of the logic in\u001b[39;00m\n\u001b[1;32m   1746\u001b[0m \u001b[38;5;66;03m# this function, and just call forward.\u001b[39;00m\n\u001b[1;32m   1747\u001b[0m \u001b[38;5;28;01mif\u001b[39;00m \u001b[38;5;129;01mnot\u001b[39;00m (\u001b[38;5;28mself\u001b[39m\u001b[38;5;241m.\u001b[39m_backward_hooks \u001b[38;5;129;01mor\u001b[39;00m \u001b[38;5;28mself\u001b[39m\u001b[38;5;241m.\u001b[39m_backward_pre_hooks \u001b[38;5;129;01mor\u001b[39;00m \u001b[38;5;28mself\u001b[39m\u001b[38;5;241m.\u001b[39m_forward_hooks \u001b[38;5;129;01mor\u001b[39;00m \u001b[38;5;28mself\u001b[39m\u001b[38;5;241m.\u001b[39m_forward_pre_hooks\n\u001b[1;32m   1748\u001b[0m         \u001b[38;5;129;01mor\u001b[39;00m _global_backward_pre_hooks \u001b[38;5;129;01mor\u001b[39;00m _global_backward_hooks\n\u001b[1;32m   1749\u001b[0m         \u001b[38;5;129;01mor\u001b[39;00m _global_forward_hooks \u001b[38;5;129;01mor\u001b[39;00m _global_forward_pre_hooks):\n\u001b[0;32m-> 1750\u001b[0m     \u001b[38;5;28;01mreturn\u001b[39;00m \u001b[43mforward_call\u001b[49m\u001b[43m(\u001b[49m\u001b[38;5;241;43m*\u001b[39;49m\u001b[43margs\u001b[49m\u001b[43m,\u001b[49m\u001b[43m \u001b[49m\u001b[38;5;241;43m*\u001b[39;49m\u001b[38;5;241;43m*\u001b[39;49m\u001b[43mkwargs\u001b[49m\u001b[43m)\u001b[49m\n\u001b[1;32m   1752\u001b[0m result \u001b[38;5;241m=\u001b[39m \u001b[38;5;28;01mNone\u001b[39;00m\n\u001b[1;32m   1753\u001b[0m called_always_called_hooks \u001b[38;5;241m=\u001b[39m \u001b[38;5;28mset\u001b[39m()\n",
            "File \u001b[0;32m/mnt/drive/aditya22040/god/CV/saum_god/lib/python3.11/site-packages/transformers/models/bert/modeling_bert.py:1955\u001b[0m, in \u001b[0;36mBertForQuestionAnswering.forward\u001b[0;34m(self, input_ids, attention_mask, token_type_ids, position_ids, head_mask, inputs_embeds, start_positions, end_positions, output_attentions, output_hidden_states, return_dict)\u001b[0m\n\u001b[1;32m   1943\u001b[0m \u001b[38;5;250m\u001b[39m\u001b[38;5;124mr\u001b[39m\u001b[38;5;124;03m\"\"\"\u001b[39;00m\n\u001b[1;32m   1944\u001b[0m \u001b[38;5;124;03mstart_positions (`torch.LongTensor` of shape `(batch_size,)`, *optional*):\u001b[39;00m\n\u001b[1;32m   1945\u001b[0m \u001b[38;5;124;03m    Labels for position (index) of the start of the labelled span for computing the token classification loss.\u001b[39;00m\n\u001b[0;32m   (...)\u001b[0m\n\u001b[1;32m   1951\u001b[0m \u001b[38;5;124;03m    are not taken into account for computing the loss.\u001b[39;00m\n\u001b[1;32m   1952\u001b[0m \u001b[38;5;124;03m\"\"\"\u001b[39;00m\n\u001b[1;32m   1953\u001b[0m return_dict \u001b[38;5;241m=\u001b[39m return_dict \u001b[38;5;28;01mif\u001b[39;00m return_dict \u001b[38;5;129;01mis\u001b[39;00m \u001b[38;5;129;01mnot\u001b[39;00m \u001b[38;5;28;01mNone\u001b[39;00m \u001b[38;5;28;01melse\u001b[39;00m \u001b[38;5;28mself\u001b[39m\u001b[38;5;241m.\u001b[39mconfig\u001b[38;5;241m.\u001b[39muse_return_dict\n\u001b[0;32m-> 1955\u001b[0m outputs \u001b[38;5;241m=\u001b[39m \u001b[38;5;28;43mself\u001b[39;49m\u001b[38;5;241;43m.\u001b[39;49m\u001b[43mbert\u001b[49m\u001b[43m(\u001b[49m\n\u001b[1;32m   1956\u001b[0m \u001b[43m    \u001b[49m\u001b[43minput_ids\u001b[49m\u001b[43m,\u001b[49m\n\u001b[1;32m   1957\u001b[0m \u001b[43m    \u001b[49m\u001b[43mattention_mask\u001b[49m\u001b[38;5;241;43m=\u001b[39;49m\u001b[43mattention_mask\u001b[49m\u001b[43m,\u001b[49m\n\u001b[1;32m   1958\u001b[0m \u001b[43m    \u001b[49m\u001b[43mtoken_type_ids\u001b[49m\u001b[38;5;241;43m=\u001b[39;49m\u001b[43mtoken_type_ids\u001b[49m\u001b[43m,\u001b[49m\n\u001b[1;32m   1959\u001b[0m \u001b[43m    \u001b[49m\u001b[43mposition_ids\u001b[49m\u001b[38;5;241;43m=\u001b[39;49m\u001b[43mposition_ids\u001b[49m\u001b[43m,\u001b[49m\n\u001b[1;32m   1960\u001b[0m \u001b[43m    \u001b[49m\u001b[43mhead_mask\u001b[49m\u001b[38;5;241;43m=\u001b[39;49m\u001b[43mhead_mask\u001b[49m\u001b[43m,\u001b[49m\n\u001b[1;32m   1961\u001b[0m \u001b[43m    \u001b[49m\u001b[43minputs_embeds\u001b[49m\u001b[38;5;241;43m=\u001b[39;49m\u001b[43minputs_embeds\u001b[49m\u001b[43m,\u001b[49m\n\u001b[1;32m   1962\u001b[0m \u001b[43m    \u001b[49m\u001b[43moutput_attentions\u001b[49m\u001b[38;5;241;43m=\u001b[39;49m\u001b[43moutput_attentions\u001b[49m\u001b[43m,\u001b[49m\n\u001b[1;32m   1963\u001b[0m \u001b[43m    \u001b[49m\u001b[43moutput_hidden_states\u001b[49m\u001b[38;5;241;43m=\u001b[39;49m\u001b[43moutput_hidden_states\u001b[49m\u001b[43m,\u001b[49m\n\u001b[1;32m   1964\u001b[0m \u001b[43m    \u001b[49m\u001b[43mreturn_dict\u001b[49m\u001b[38;5;241;43m=\u001b[39;49m\u001b[43mreturn_dict\u001b[49m\u001b[43m,\u001b[49m\n\u001b[1;32m   1965\u001b[0m \u001b[43m\u001b[49m\u001b[43m)\u001b[49m\n\u001b[1;32m   1967\u001b[0m sequence_output \u001b[38;5;241m=\u001b[39m outputs[\u001b[38;5;241m0\u001b[39m]\n\u001b[1;32m   1969\u001b[0m logits \u001b[38;5;241m=\u001b[39m \u001b[38;5;28mself\u001b[39m\u001b[38;5;241m.\u001b[39mqa_outputs(sequence_output)\n",
            "File \u001b[0;32m/mnt/drive/aditya22040/god/CV/saum_god/lib/python3.11/site-packages/torch/nn/modules/module.py:1739\u001b[0m, in \u001b[0;36mModule._wrapped_call_impl\u001b[0;34m(self, *args, **kwargs)\u001b[0m\n\u001b[1;32m   1737\u001b[0m     \u001b[38;5;28;01mreturn\u001b[39;00m \u001b[38;5;28mself\u001b[39m\u001b[38;5;241m.\u001b[39m_compiled_call_impl(\u001b[38;5;241m*\u001b[39margs, \u001b[38;5;241m*\u001b[39m\u001b[38;5;241m*\u001b[39mkwargs)  \u001b[38;5;66;03m# type: ignore[misc]\u001b[39;00m\n\u001b[1;32m   1738\u001b[0m \u001b[38;5;28;01melse\u001b[39;00m:\n\u001b[0;32m-> 1739\u001b[0m     \u001b[38;5;28;01mreturn\u001b[39;00m \u001b[38;5;28;43mself\u001b[39;49m\u001b[38;5;241;43m.\u001b[39;49m\u001b[43m_call_impl\u001b[49m\u001b[43m(\u001b[49m\u001b[38;5;241;43m*\u001b[39;49m\u001b[43margs\u001b[49m\u001b[43m,\u001b[49m\u001b[43m \u001b[49m\u001b[38;5;241;43m*\u001b[39;49m\u001b[38;5;241;43m*\u001b[39;49m\u001b[43mkwargs\u001b[49m\u001b[43m)\u001b[49m\n",
            "File \u001b[0;32m/mnt/drive/aditya22040/god/CV/saum_god/lib/python3.11/site-packages/torch/nn/modules/module.py:1750\u001b[0m, in \u001b[0;36mModule._call_impl\u001b[0;34m(self, *args, **kwargs)\u001b[0m\n\u001b[1;32m   1745\u001b[0m \u001b[38;5;66;03m# If we don't have any hooks, we want to skip the rest of the logic in\u001b[39;00m\n\u001b[1;32m   1746\u001b[0m \u001b[38;5;66;03m# this function, and just call forward.\u001b[39;00m\n\u001b[1;32m   1747\u001b[0m \u001b[38;5;28;01mif\u001b[39;00m \u001b[38;5;129;01mnot\u001b[39;00m (\u001b[38;5;28mself\u001b[39m\u001b[38;5;241m.\u001b[39m_backward_hooks \u001b[38;5;129;01mor\u001b[39;00m \u001b[38;5;28mself\u001b[39m\u001b[38;5;241m.\u001b[39m_backward_pre_hooks \u001b[38;5;129;01mor\u001b[39;00m \u001b[38;5;28mself\u001b[39m\u001b[38;5;241m.\u001b[39m_forward_hooks \u001b[38;5;129;01mor\u001b[39;00m \u001b[38;5;28mself\u001b[39m\u001b[38;5;241m.\u001b[39m_forward_pre_hooks\n\u001b[1;32m   1748\u001b[0m         \u001b[38;5;129;01mor\u001b[39;00m _global_backward_pre_hooks \u001b[38;5;129;01mor\u001b[39;00m _global_backward_hooks\n\u001b[1;32m   1749\u001b[0m         \u001b[38;5;129;01mor\u001b[39;00m _global_forward_hooks \u001b[38;5;129;01mor\u001b[39;00m _global_forward_pre_hooks):\n\u001b[0;32m-> 1750\u001b[0m     \u001b[38;5;28;01mreturn\u001b[39;00m \u001b[43mforward_call\u001b[49m\u001b[43m(\u001b[49m\u001b[38;5;241;43m*\u001b[39;49m\u001b[43margs\u001b[49m\u001b[43m,\u001b[49m\u001b[43m \u001b[49m\u001b[38;5;241;43m*\u001b[39;49m\u001b[38;5;241;43m*\u001b[39;49m\u001b[43mkwargs\u001b[49m\u001b[43m)\u001b[49m\n\u001b[1;32m   1752\u001b[0m result \u001b[38;5;241m=\u001b[39m \u001b[38;5;28;01mNone\u001b[39;00m\n\u001b[1;32m   1753\u001b[0m called_always_called_hooks \u001b[38;5;241m=\u001b[39m \u001b[38;5;28mset\u001b[39m()\n",
            "File \u001b[0;32m/mnt/drive/aditya22040/god/CV/saum_god/lib/python3.11/site-packages/transformers/models/bert/modeling_bert.py:1058\u001b[0m, in \u001b[0;36mBertModel.forward\u001b[0;34m(self, input_ids, attention_mask, token_type_ids, position_ids, head_mask, inputs_embeds, encoder_hidden_states, encoder_attention_mask, past_key_values, use_cache, output_attentions, output_hidden_states, return_dict)\u001b[0m\n\u001b[1;32m   1056\u001b[0m \u001b[38;5;28;01melif\u001b[39;00m input_ids \u001b[38;5;129;01mis\u001b[39;00m \u001b[38;5;129;01mnot\u001b[39;00m \u001b[38;5;28;01mNone\u001b[39;00m:\n\u001b[1;32m   1057\u001b[0m     \u001b[38;5;28mself\u001b[39m\u001b[38;5;241m.\u001b[39mwarn_if_padding_and_no_attention_mask(input_ids, attention_mask)\n\u001b[0;32m-> 1058\u001b[0m     input_shape \u001b[38;5;241m=\u001b[39m \u001b[43minput_ids\u001b[49m\u001b[38;5;241;43m.\u001b[39;49m\u001b[43msize\u001b[49m()\n\u001b[1;32m   1059\u001b[0m \u001b[38;5;28;01melif\u001b[39;00m inputs_embeds \u001b[38;5;129;01mis\u001b[39;00m \u001b[38;5;129;01mnot\u001b[39;00m \u001b[38;5;28;01mNone\u001b[39;00m:\n\u001b[1;32m   1060\u001b[0m     input_shape \u001b[38;5;241m=\u001b[39m inputs_embeds\u001b[38;5;241m.\u001b[39msize()[:\u001b[38;5;241m-\u001b[39m\u001b[38;5;241m1\u001b[39m]\n",
            "\u001b[0;31mAttributeError\u001b[0m: 'list' object has no attribute 'size'"
          ]
        }
      ],
      "source": [
        "# trainer.train()"
      ]
    },
    {
      "cell_type": "code",
      "execution_count": 21,
      "metadata": {
        "id": "yLP--EIsDyvQ"
      },
      "outputs": [
        {
          "data": {
            "text/plain": [
              "('./spanbert_squad_finetuned/tokenizer_config.json',\n",
              " './spanbert_squad_finetuned/special_tokens_map.json',\n",
              " './spanbert_squad_finetuned/vocab.txt',\n",
              " './spanbert_squad_finetuned/added_tokens.json',\n",
              " './spanbert_squad_finetuned/tokenizer.json')"
            ]
          },
          "execution_count": 21,
          "metadata": {},
          "output_type": "execute_result"
        }
      ],
      "source": [
        "model.save_pretrained(\"./spanbert_squad_finetuned\")\n",
        "tokenizer.save_pretrained(\"./spanbert_squad_finetuned\")\n"
      ]
    },
    {
      "cell_type": "code",
      "execution_count": null,
      "metadata": {},
      "outputs": [],
      "source": []
    },
    {
      "cell_type": "code",
      "execution_count": 13,
      "metadata": {},
      "outputs": [],
      "source": [
        "device= \"cuda\""
      ]
    },
    {
      "cell_type": "code",
      "execution_count": 30,
      "metadata": {},
      "outputs": [],
      "source": [
        "import torch\n",
        "\n",
        "def predict_answers(questions, contexts, model, tokenizer):\n",
        "    inputs = tokenizer(\n",
        "        questions, \n",
        "        contexts, \n",
        "        return_tensors=\"pt\", \n",
        "        truncation=True, \n",
        "        padding=True, \n",
        "        max_length=384  # Adjust based on model\n",
        "    ).to(model.device)  # Ensure model and inputs are on the same device\n",
        "\n",
        "    with torch.no_grad():\n",
        "        outputs = model(**inputs)\n",
        "\n",
        "    start_logits = outputs.start_logits  # Get start logits\n",
        "    end_logits = outputs.end_logits  # Get end logits\n",
        "\n",
        "    answers = []\n",
        "    for i in range(len(questions)):  \n",
        "        # Get most probable start and end index\n",
        "        start_idx = torch.argmax(start_logits[i]).item()\n",
        "        end_idx = torch.argmax(end_logits[i]).item()\n",
        "\n",
        "        # Convert token positions to actual answer text\n",
        "        input_ids = inputs[\"input_ids\"][i]\n",
        "        answer_tokens = input_ids[start_idx:end_idx + 1]\n",
        "        answer_text = tokenizer.decode(answer_tokens, skip_special_tokens=True)\n",
        "\n",
        "        answers.append(answer_text)\n",
        "\n",
        "    return answers  # Returns a list of answers\n"
      ]
    },
    {
      "cell_type": "code",
      "execution_count": 25,
      "metadata": {},
      "outputs": [],
      "source": [
        "def exact_match_score(predictions, references):\n",
        "    \"\"\"\n",
        "    Compute Exact Match (EM) score.\n",
        "\n",
        "    Args:\n",
        "    - predictions (list): List of predicted answers (strings).\n",
        "    - references (list): List of actual (ground truth) answers (strings).\n",
        "\n",
        "    Returns:\n",
        "    - float: Exact match percentage (0-100)\n",
        "    \"\"\"\n",
        "    print(f\"Length of predictions: {len(predictions)}\")\n",
        "    print(f\"Length of references: {len(references)}\")\n",
        "    assert len(predictions) == len(references), \"Predictions and references must have the same length\"\n",
        "\n",
        "    matches = sum(p.strip().lower() == r.strip().lower() for p, r in zip(predictions, references))\n",
        "    return (matches / len(references)) * 100  # Convert to percentage\n"
      ]
    },
    {
      "cell_type": "code",
      "execution_count": 26,
      "metadata": {},
      "outputs": [],
      "source": [
        "def f1_score(predictions, references):\n",
        "    \"\"\"\n",
        "    Compute F1 Score.\n",
        "\n",
        "    Args:\n",
        "    - predictions (list): List of predicted answers (strings).\n",
        "    - references (list): List of actual (ground truth) answers (strings).\n",
        "\n",
        "    Returns:\n",
        "    - float: Average F1 score (0-100)\n",
        "    \"\"\"\n",
        "    print(f\"Length of predictions: {len(predictions)}\")\n",
        "    print(f\"Length of references: {len(references)}\")\n",
        "\n",
        "    assert len(predictions) == len(references), \"Predictions and references must have the same length\"\n",
        "\n",
        "    total_f1 = 0\n",
        "\n",
        "    for pred, ref in zip(predictions, references):\n",
        "        pred_tokens = pred.lower().split()\n",
        "        ref_tokens = ref.lower().split()\n",
        "\n",
        "        common_tokens = set(pred_tokens) & set(ref_tokens)\n",
        "\n",
        "        if len(common_tokens) == 0:\n",
        "            total_f1 += 0\n",
        "            continue\n",
        "\n",
        "        precision = len(common_tokens) / len(pred_tokens)\n",
        "        recall = len(common_tokens) / len(ref_tokens)\n",
        "\n",
        "        f1 = (2 * precision * recall) / (precision + recall)\n",
        "        total_f1 += f1\n",
        "\n",
        "    return (total_f1 / len(references)) * 100  # Convert to percentage\n"
      ]
    },
    {
      "cell_type": "code",
      "execution_count": 23,
      "metadata": {},
      "outputs": [],
      "source": [
        "device = \"cuda\" if torch.cuda.is_available() else \"cpu\""
      ]
    },
    {
      "cell_type": "code",
      "execution_count": 24,
      "metadata": {},
      "outputs": [
        {
          "name": "stdout",
          "output_type": "stream",
          "text": [
            "cuda\n",
            "CUDA Available: True\n"
          ]
        }
      ],
      "source": [
        "import torch\n",
        "print(device)\n",
        "# Check if GPU is available\n",
        "print(\"CUDA Available:\", torch.cuda.is_available())\n",
        "# model = model.to(device)\n",
        "# Check if model is on GPU\n",
        "# print(\"Model Device:\", next(model.parameters()).device)\n"
      ]
    },
    {
      "cell_type": "markdown",
      "metadata": {},
      "source": [
        "# Now i need to work on Span-Bert CRF"
      ]
    },
    {
      "cell_type": "code",
      "execution_count": 32,
      "metadata": {},
      "outputs": [
        {
          "name": "stdout",
          "output_type": "stream",
          "text": [
            "cuda\n"
          ]
        }
      ],
      "source": [
        "from transformers import AutoTokenizer\n",
        "import torch\n",
        "m_2 = \"SpanBERT/spanbert-base-cased\"\n",
        "tokenizer_2 = AutoTokenizer.from_pretrained(m_2)\n",
        "\n",
        "\n",
        "# from transformers import AutoModelForQuestionAnswering, TrainingArguments,Trainer\n",
        "# model = AutoModelForQuestionAnswering.from_pretrained(m_2)\n",
        "\n",
        "device = torch.device(\"cuda\" if torch.cuda.is_available() else \"cpu\")\n",
        "print(device)\n"
      ]
    },
    {
      "cell_type": "code",
      "execution_count": 30,
      "metadata": {},
      "outputs": [],
      "source": [
        "# import torch\n",
        "# from torchcrf import CRF\n",
        "# from transformers import AutoModel\n",
        "# class SpanBERTCRF_QA(torch.nn.Module):\n",
        "#     def __init__(self, model_name):\n",
        "#         super().__init__()\n",
        "#         # Use SpanBERT as the base encoder\n",
        "#         self.spanbert = AutoModel.from_pretrained(model_name)\n",
        "\n",
        "#         # Two simple linear layers for start and end logits\n",
        "#         hidden_size = self.spanbert.config.hidden_size\n",
        "#         self.start_fc = torch.nn.Linear(hidden_size, 1)\n",
        "#         self.end_fc = torch.nn.Linear(hidden_size, 1)\n",
        "\n",
        "#         # Two separate CRFs: one for start prediction, one for end prediction\n",
        "#         self.crf_start = CRF(num_tags=2, batch_first=True)\n",
        "#         self.crf_end = CRF(num_tags=2, batch_first=True)\n",
        "#         self.device = torch.device(\"cuda\" if torch.cuda.is_available() else \"cpu\")\n",
        "\n",
        "#     def forward(self, input_ids, attention_mask, start_positions=None, end_positions=None):\n",
        "#         # Encode with SpanBERT\n",
        "#         outputs = self.spanbert(input_ids=input_ids, attention_mask=attention_mask)\n",
        "#         sequence_output = outputs.last_hidden_state  # [batch, seq_len, hidden_size]\n",
        "\n",
        "#         # Project hidden states to logits\n",
        "#         start_logits = self.start_fc(sequence_output)  # [batch, seq_len, 1]\n",
        "#         end_logits = self.end_fc(sequence_output)      # [batch, seq_len, 1]\n",
        "\n",
        "#         # Reshape to [batch, seq_len, 2] so we can apply CRF (two tags: 0 or 1)\n",
        "#         # We'll convert real logits (shape [batch, seq_len, 1]) into a format:\n",
        "#         # tag=0 (not start/end), tag=1 (start/end).\n",
        "#         # For simplicity, we treat the positive logit as \"confidence\" for tag=1\n",
        "#         # and use 0 for tag=0. You can also learn two separate channels.\n",
        "#         start_logits_crf = torch.cat([-start_logits, start_logits], dim=-1)\n",
        "#         end_logits_crf = torch.cat([-end_logits, end_logits], dim=-1)\n",
        "\n",
        "#         loss = None\n",
        "#         if start_positions is not None and end_positions is not None:\n",
        "#             # Convert the gold positions into 0/1 sequences for CRF\n",
        "#             # start_positions: shape [batch], each is the single index for the start\n",
        "#             # We build a tag sequence with 1 at start_positions[i], else 0.\n",
        "#             # Similarly for the end positions.\n",
        "#             # If a position is out of range, you might handle it separately.\n",
        "#             batch_size, seq_len, _ = start_logits_crf.shape\n",
        "\n",
        "#             start_tags = torch.zeros((batch_size, seq_len), dtype=torch.long, device=start_positions.device)\n",
        "#             end_tags = torch.zeros_like(start_tags)\n",
        "#             for i in range(batch_size):\n",
        "#                 s_pos = start_positions[i].item()\n",
        "#                 e_pos = end_positions[i].item()\n",
        "#                 if 0 <= s_pos < seq_len:\n",
        "#                     start_tags[i, s_pos] = 1\n",
        "#                 if 0 <= e_pos < seq_len:\n",
        "#                     end_tags[i, e_pos] = 1\n",
        "\n",
        "#             # Negative log-likelihood from CRF\n",
        "#             start_nll = -self.crf_start(start_logits_crf, start_tags, mask=attention_mask.bool())\n",
        "#             end_nll = -self.crf_end(end_logits_crf, end_tags, mask=attention_mask.bool())\n",
        "#             loss = start_nll + end_nll\n",
        "\n",
        "#         # If we only want predictions, decode with CRF\n",
        "#         start_predictions = self.crf_start.decode(start_logits_crf, mask=attention_mask.bool())\n",
        "#         end_predictions = self.crf_end.decode(end_logits_crf, mask=attention_mask.bool())\n",
        "\n",
        "#         return {\n",
        "#             \"loss\": loss,\n",
        "#             \"start_predictions\": start_predictions,\n",
        "#             \"end_predictions\": end_predictions,\n",
        "#             \"start_logits\": start_logits_crf,\n",
        "#             \"end_logits\": end_logits_crf\n",
        "#         }\n",
        "\n",
        "import torch\n",
        "from torchcrf import CRF\n",
        "from transformers import AutoModel\n",
        "\n",
        "class SpanBERTCRF_QA_BIO(torch.nn.Module):\n",
        "    def __init__(self, model_name):\n",
        "        super().__init__()\n",
        "        self.spanbert = AutoModel.from_pretrained(model_name)\n",
        "        hidden_size = self.spanbert.config.hidden_size\n",
        "        self.qa_fc = torch.nn.Linear(hidden_size, 3)\n",
        "        \n",
        "        self.crf = CRF(num_tags=3, batch_first=True)\n",
        "        self.device = torch.device(\"cuda\" if torch.cuda.is_available() else \"cpu\")\n",
        "\n",
        "    def forward(self, input_ids, attention_mask, bio_labels=None):\n",
        "        outputs = self.spanbert(input_ids=input_ids, attention_mask=attention_mask)\n",
        "        sequence_output = outputs.last_hidden_state  # [batch, seq_len, hidden_size] # isme seq_len mere case me 512 hai\n",
        "\n",
        "        logits = self.qa_fc(sequence_output)\n",
        "        loss = None\n",
        "\n",
        "        if bio_labels is not None:\n",
        "            # bio_labels should be a tensor of shape [batch, seq_len] with labels {0,1,2} (0=O, 1=B, 2=I) yha start B and I se chaloo till first O encounter \n",
        "            loss = -self.crf(logits, bio_labels, mask=attention_mask.bool())\n",
        "\n",
        "        # last me decode krna hai takki prediction mil jaye\n",
        "        predictions = self.crf.decode(logits, mask=attention_mask.bool())\n",
        "\n",
        "        return {\n",
        "            \"loss\": loss,\n",
        "            \"predictions\": predictions,\n",
        "            \"logits\": logits\n",
        "            # logits se prediction nikalne k liye like answer_start and end nikalne k liye\n",
        "        }\n"
      ]
    },
    {
      "cell_type": "code",
      "execution_count": 32,
      "metadata": {},
      "outputs": [
        {
          "data": {
            "text/html": [
              "<button onClick=\"this.nextSibling.style.display='block';this.style.display='none';\">Display W&B run</button><iframe src='https://wandb.ai/adi_god-indraprastha-institute-of-information-technology/god-crf/runs/fsv23uil?jupyter=true' style='border:none;width:100%;height:420px;display:none;'></iframe>"
            ],
            "text/plain": [
              "<wandb.sdk.wandb_run.Run at 0x7f2277b276d0>"
            ]
          },
          "execution_count": 32,
          "metadata": {},
          "output_type": "execute_result"
        }
      ],
      "source": [
        "import wandb\n",
        "wandb.init(project=\"god-crf\")"
      ]
    },
    {
      "cell_type": "code",
      "execution_count": 33,
      "metadata": {},
      "outputs": [
        {
          "name": "stderr",
          "output_type": "stream",
          "text": [
            "Some weights of BertModel were not initialized from the model checkpoint at SpanBERT/spanbert-base-cased and are newly initialized: ['bert.pooler.dense.bias', 'bert.pooler.dense.weight']\n",
            "You should probably TRAIN this model on a down-stream task to be able to use it for predictions and inference.\n"
          ]
        }
      ],
      "source": [
        "\n",
        "model = SpanBERTCRF_QA_BIO(m_2)\n",
        "model = model.to(device)\n"
      ]
    },
    {
      "cell_type": "code",
      "execution_count": 28,
      "metadata": {},
      "outputs": [],
      "source": [
        "import torch\n",
        "import torch.nn.functional as F\n",
        "import math\n",
        "\n",
        "def predict_answers_bio(questions, contexts, model, tokenizer, threshold=0.3):\n",
        "    # Create tokenized inputs and move them to the model's device\n",
        "    encoded_data = tokenizer(\n",
        "        questions,\n",
        "        contexts,\n",
        "        return_tensors=\"pt\",\n",
        "        max_length=512,\n",
        "        padding=True,\n",
        "        truncation=True,\n",
        "        stride=128\n",
        "    ).to(model.device)\n",
        "\n",
        "    encoded_data.pop(\"token_type_ids\", None)\n",
        "\n",
        "    # Inference without gradient calculation\n",
        "    with torch.no_grad():\n",
        "        model_output = model(**encoded_data)\n",
        "\n",
        "    # logits for each token uspr log_softmax lga diya \n",
        "    all_logits = model_output[\"logits\"]\n",
        "    token_log_softmax = F.log_softmax(all_logits, dim=-1)\n",
        "\n",
        "    bio_get_first = model_output[\"predictions\"]\n",
        "    predicted_spans = []\n",
        "\n",
        "    for batch_idx, tag_sequence in enumerate(bio_get_first):\n",
        "        extracted_answer = \"\"\n",
        "        start_idx = -1\n",
        "        end_idx = -1\n",
        "\n",
        "        # Locate the first 'B' tag (1)\n",
        "        for pos, tag_value in enumerate(tag_sequence):\n",
        "            if tag_value == 1:\n",
        "                start_idx = pos\n",
        "                end_idx = pos\n",
        "                # Extend while 'I' tags (2) continue\n",
        "                while end_idx + 1 < len(tag_sequence) and tag_sequence[end_idx + 1] == 2:\n",
        "                    end_idx += 1\n",
        "                break\n",
        "\n",
        "        # if B is not there it means model says ki no answer exist \n",
        "        if start_idx == -1:\n",
        "            predicted_spans.append({\"score\": 0.0, \"answer\": \"\", \"answer_start\": -1})\n",
        "        else:\n",
        "            # Accumulate log probabilities for the identified span\n",
        "            span_log_sum = 0.0\n",
        "            for offset in range(start_idx, end_idx + 1):\n",
        "                assigned_label = tag_sequence[offset]\n",
        "                span_log_sum += token_log_softmax[batch_idx, offset, assigned_label].item()\n",
        "\n",
        "            # Compute a probability-like score for the span\n",
        "            final_score = math.exp(span_log_sum / (end_idx - start_idx + 1))\n",
        "\n",
        "            # Filter out low-score spans if score not above threshold it means model is not confident so predicting no answer\n",
        "            if final_score < threshold:\n",
        "                predicted_spans.append({\"score\": final_score, \"answer\": \"\", \"answer_start\": -1})\n",
        "            else:\n",
        "                # Decode tokens into the answer string\n",
        "                text_tokens = encoded_data[\"input_ids\"][batch_idx][start_idx:end_idx + 1]\n",
        "                extracted_answer = tokenizer.decode(text_tokens, skip_special_tokens=True).strip()\n",
        "                predicted_spans.append({\"score\": final_score, \"answer\": extracted_answer, \"answer_start\": start_idx})\n",
        "\n",
        "    return predicted_spans\n"
      ]
    },
    {
      "cell_type": "code",
      "execution_count": null,
      "metadata": {},
      "outputs": [
        {
          "name": "stderr",
          "output_type": "stream",
          "text": [
            "/tmp/ipykernel_822502/3039540665.py:115: FutureWarning: `torch.cuda.amp.GradScaler(args...)` is deprecated. Please use `torch.amp.GradScaler('cuda', args...)` instead.\n",
            "  scaler = GradScaler()\n",
            "/mnt/drive/aditya22040/god/CV/saum_god/lib/python3.11/site-packages/transformers/optimization.py:640: FutureWarning: This implementation of AdamW is deprecated and will be removed in a future version. Use the PyTorch implementation torch.optim.AdamW instead, or set `no_deprecation_warning=True` to disable this warning\n",
            "  warnings.warn(\n",
            "Epoch 1:   0%|          | 0/470 [00:00<?, ?it/s]/tmp/ipykernel_822502/3039540665.py:137: FutureWarning: `torch.cuda.amp.autocast(args...)` is deprecated. Please use `torch.amp.autocast('cuda', args...)` instead.\n",
            "  with autocast():\n",
            "Epoch 1: 100%|██████████| 470/470 [05:01<00:00,  1.56it/s, loss=473]   \n"
          ]
        },
        {
          "name": "stdout",
          "output_type": "stream",
          "text": [
            "\n",
            "Epoch 1 - EM: 50.07% | F1: 50.07%\n",
            "\n",
            "Saved model and tokenizer to ./spanbert_squad_finetuned_bio_large/epoch_1/model_tokenizer.pkl\n",
            "Deleted old checkpoint: ./spanbert_squad_finetuned_bio_large/epoch_1\n"
          ]
        },
        {
          "name": "stderr",
          "output_type": "stream",
          "text": [
            "Epoch 2: 100%|██████████| 470/470 [05:04<00:00,  1.55it/s, loss=383]\n"
          ]
        },
        {
          "name": "stdout",
          "output_type": "stream",
          "text": [
            "\n",
            "Epoch 2 - EM: 50.07% | F1: 50.07%\n",
            "\n",
            "Saved model and tokenizer to ./spanbert_squad_finetuned_bio_large/epoch_2/model_tokenizer.pkl\n",
            "Deleted old checkpoint: ./spanbert_squad_finetuned_bio_large/epoch_2\n"
          ]
        },
        {
          "name": "stderr",
          "output_type": "stream",
          "text": [
            "Epoch 3: 100%|██████████| 470/470 [05:00<00:00,  1.56it/s, loss=161]\n"
          ]
        },
        {
          "name": "stdout",
          "output_type": "stream",
          "text": [
            "\n",
            "Epoch 3 - EM: 39.33% | F1: 44.79%\n",
            "\n",
            "Saved model and tokenizer to ./spanbert_squad_finetuned_bio_large/epoch_3/model_tokenizer.pkl\n"
          ]
        },
        {
          "name": "stderr",
          "output_type": "stream",
          "text": [
            "Epoch 4: 100%|██████████| 470/470 [05:02<00:00,  1.56it/s, loss=124]\n"
          ]
        },
        {
          "name": "stdout",
          "output_type": "stream",
          "text": [
            "\n",
            "Epoch 4 - EM: 39.13% | F1: 46.07%\n",
            "\n",
            "Saved model and tokenizer to ./spanbert_squad_finetuned_bio_large/epoch_4/model_tokenizer.pkl\n"
          ]
        },
        {
          "name": "stderr",
          "output_type": "stream",
          "text": [
            "Epoch 5: 100%|██████████| 470/470 [05:04<00:00,  1.54it/s, loss=108] \n"
          ]
        },
        {
          "name": "stdout",
          "output_type": "stream",
          "text": [
            "\n",
            "Epoch 5 - EM: 44.96% | F1: 51.36%\n",
            "\n",
            "Saved model and tokenizer to ./spanbert_squad_finetuned_bio_large/epoch_5/model_tokenizer.pkl\n",
            "Deleted old checkpoint: ./spanbert_squad_finetuned_bio_large/epoch_3\n"
          ]
        },
        {
          "name": "stderr",
          "output_type": "stream",
          "text": [
            "Epoch 6: 100%|██████████| 470/470 [05:04<00:00,  1.54it/s, loss=101] \n"
          ]
        },
        {
          "name": "stdout",
          "output_type": "stream",
          "text": [
            "\n",
            "Epoch 6 - EM: 45.67% | F1: 52.39%\n",
            "\n",
            "Saved model and tokenizer to ./spanbert_squad_finetuned_bio_large/epoch_6/model_tokenizer.pkl\n",
            "Deleted old checkpoint: ./spanbert_squad_finetuned_bio_large/epoch_4\n"
          ]
        },
        {
          "name": "stderr",
          "output_type": "stream",
          "text": [
            "Epoch 7: 100%|██████████| 470/470 [05:03<00:00,  1.55it/s, loss=107] \n"
          ]
        },
        {
          "name": "stdout",
          "output_type": "stream",
          "text": [
            "\n",
            "Epoch 7 - EM: 46.58% | F1: 53.66%\n",
            "\n",
            "Saved model and tokenizer to ./spanbert_squad_finetuned_bio_large/epoch_7/model_tokenizer.pkl\n",
            "Deleted old checkpoint: ./spanbert_squad_finetuned_bio_large/epoch_5\n"
          ]
        },
        {
          "name": "stderr",
          "output_type": "stream",
          "text": [
            "Epoch 8: 100%|██████████| 470/470 [05:04<00:00,  1.55it/s, loss=44.3]\n"
          ]
        },
        {
          "name": "stdout",
          "output_type": "stream",
          "text": [
            "\n",
            "Epoch 8 - EM: 47.12% | F1: 54.11%\n",
            "\n",
            "Saved model and tokenizer to ./spanbert_squad_finetuned_bio_large/epoch_8/model_tokenizer.pkl\n",
            "Deleted old checkpoint: ./spanbert_squad_finetuned_bio_large/epoch_6\n"
          ]
        },
        {
          "name": "stderr",
          "output_type": "stream",
          "text": [
            "Epoch 9: 100%|██████████| 470/470 [05:04<00:00,  1.54it/s, loss=50.2]\n"
          ]
        },
        {
          "name": "stdout",
          "output_type": "stream",
          "text": [
            "\n",
            "Epoch 9 - EM: 45.22% | F1: 52.70%\n",
            "\n",
            "Saved model and tokenizer to ./spanbert_squad_finetuned_bio_large/epoch_9/model_tokenizer.pkl\n",
            "Deleted old checkpoint: ./spanbert_squad_finetuned_bio_large/epoch_7\n"
          ]
        },
        {
          "name": "stderr",
          "output_type": "stream",
          "text": [
            "Epoch 10: 100%|██████████| 470/470 [05:02<00:00,  1.56it/s, loss=125] \n"
          ]
        },
        {
          "name": "stdout",
          "output_type": "stream",
          "text": [
            "\n",
            "Epoch 10 - EM: 45.93% | F1: 53.29%\n",
            "\n",
            "Saved model and tokenizer to ./spanbert_squad_finetuned_bio_large/epoch_10/model_tokenizer.pkl\n",
            "Deleted old checkpoint: ./spanbert_squad_finetuned_bio_large/epoch_8\n",
            "Training completed. Model saved successfully.\n",
            "Final model and tokenizer saved to ./spanbert_squad_finetuned_bio_large/final_model_tokenizer.pkl\n"
          ]
        }
      ],
      "source": [
        "import torch\n",
        "import torch.nn.functional as F\n",
        "\n",
        "import torch\n",
        "import torch.nn.functional as F\n",
        "\n",
        "# def predict_answers(questions, contexts, model, tokenizer, threshold=0.3):\n",
        "#     # Tokenize questions and contexts with truncation, padding, max_length, and stride\n",
        "#     inputs = tokenizer(\n",
        "#         questions,\n",
        "#         contexts,\n",
        "#         return_tensors=\"pt\",\n",
        "#         truncation=True,\n",
        "#         padding=True,\n",
        "#         max_length=512,\n",
        "#         stride=128\n",
        "#         # return_overflowing_tokens=True  # not needed here\n",
        "#     ).to(model.device)\n",
        "\n",
        "#     # Remove token_type_ids if they exist\n",
        "#     inputs.pop(\"token_type_ids\", None)\n",
        "\n",
        "#     with torch.no_grad():\n",
        "#         outputs = model(**inputs)\n",
        "        \n",
        "#     # Compute log softmax over the CRF logits; expected shape: [batch, seq_len, 2]\n",
        "#     start_log_probs = F.log_softmax(outputs[\"start_logits\"], dim=-1)\n",
        "#     end_log_probs = F.log_softmax(outputs[\"end_logits\"], dim=-1)\n",
        "    \n",
        "#     # Now, extract the log probability for tag 1 (the positive tag) for each token.\n",
        "#     # This gives tensors of shape [batch, seq_len]\n",
        "#     start_probs = start_log_probs[:, :, 1]\n",
        "#     end_probs = end_log_probs[:, :, 1]\n",
        "    \n",
        "#     answers = []\n",
        "#     k = 100  # number of top candidates\n",
        "#     for i in range(len(questions)):\n",
        "#         # Get top-k indices and values for start and end probabilities\n",
        "#         start_topk = torch.topk(start_probs[i], k=min(k, start_probs[i].size(-1)))\n",
        "#         end_topk = torch.topk(end_probs[i], k=min(k, end_probs[i].size(-1)))\n",
        "#         best_score, best_start, best_end = -float('inf'), -1, -1\n",
        "\n",
        "#         for start_idx, s_score in zip(start_topk.indices.tolist(), start_topk.values.tolist()):\n",
        "#             for end_idx, e_score in zip(end_topk.indices.tolist(), end_topk.values.tolist()):\n",
        "#                 if end_idx < start_idx:\n",
        "#                     continue\n",
        "#                 score = s_score + e_score  # combined log probability for the span\n",
        "#                 if score > best_score:\n",
        "#                     best_score = score\n",
        "#                     best_start = start_idx\n",
        "#                     best_end = end_idx\n",
        "\n",
        "#         # Convert best log score back to probability space\n",
        "#         score = torch.exp(torch.tensor(best_score)).item()\n",
        "#         if score < threshold or best_start == -1:\n",
        "#             answers.append({\"score\": score, \"answer\": \"\", \"answer_start\": -1})\n",
        "#             continue\n",
        "\n",
        "#         new_work = inputs[\"input_ids\"][i][best_start:best_end+1]\n",
        "#         answer_text = tokenizer.decode(new_work, skip_special_tokens=True).strip()\n",
        "#         answers.append({\"score\": score, \"answer\": answer_text, \"answer_start\": best_start})\n",
        "from torch.utils.data import DataLoader\n",
        "#     return answers\n",
        "train_dataloader = DataLoader(tr_1_final, batch_size=32, shuffle=True, collate_fn=train_collate_fn,num_workers = 16,pin_memory=True)\n",
        "eval_dataloader = DataLoader(val_1, batch_size=16, collate_fn=collate_fn,num_workers = 8,pin_memory=True)\n",
        "from transformers import AdamW, get_scheduler\n",
        "\n",
        "def exact_match_score(predictions, references):\n",
        "    assert len(predictions) == len(references), \"Lists must have the same length\"\n",
        "    \n",
        "    # Extract answers from predictions\n",
        "    pred_answers = [p.get(\"answer\", \"\").strip().lower() for p in predictions]\n",
        "    ref_answers = [r.strip().lower() for r in references]\n",
        "\n",
        "    matches = sum(p == r for p, r in zip(pred_answers, ref_answers))\n",
        "    return matches / len(references) * 100  # Convert to percentage\n",
        "from collections import Counter\n",
        "\n",
        "def f1_score(predictions, references):\n",
        "    assert len(predictions) == len(references), \"Lists must have the same length\"\n",
        "    total_f1 = 0\n",
        "\n",
        "    for pred, ref in zip(predictions, references):\n",
        "        pred_answer = pred.get(\"answer\", \"\").strip().lower()\n",
        "        ref_answer = ref.strip().lower()\n",
        "\n",
        "        pred_tokens = pred_answer.split()\n",
        "        ref_tokens = ref_answer.split()\n",
        "\n",
        "        if not pred_tokens or not ref_tokens:\n",
        "            total_f1 += int(pred_tokens == ref_tokens)  # Exact match if both are empty\n",
        "            continue\n",
        "\n",
        "        common_tokens = Counter(pred_tokens) & Counter(ref_tokens)\n",
        "        num_same = sum(common_tokens.values())\n",
        "\n",
        "        if num_same == 0:\n",
        "            total_f1 += 0\n",
        "            continue\n",
        "\n",
        "        precision = num_same / len(pred_tokens)\n",
        "        recall = num_same / len(ref_tokens)\n",
        "\n",
        "        f1 = (2 * precision * recall) / (precision + recall)\n",
        "        total_f1 += f1\n",
        "\n",
        "    return (total_f1 / len(references)) * 100  # Convert to percentage\n",
        "\n",
        "from torch.utils.data import DataLoader\n",
        "from torch.cuda.amp import GradScaler, autocast\n",
        "from transformers import AdamW, get_scheduler\n",
        "from tqdm.auto import tqdm\n",
        "import os, pickle, shutil\n",
        "\n",
        "scaler = GradScaler()\n",
        "num_epochs = 10\n",
        "optimizer = AdamW(model.parameters(), lr=2e-5)\n",
        "num_training_steps = num_epochs * len(train_dataloader)\n",
        "lr_scheduler = get_scheduler(\n",
        "    name=\"linear\", \n",
        "    optimizer=optimizer, \n",
        "    num_warmup_steps=0, \n",
        "    num_training_steps=num_training_steps\n",
        ")\n",
        "\n",
        "model.to(device)\n",
        "checkpoint_dir = \"./spanbert_squad_finetuned_bio_large\"\n",
        "os.makedirs(checkpoint_dir, exist_ok=True)\n",
        "\n",
        "for epoch in range(num_epochs):\n",
        "    model.train()\n",
        "    progress_bar = tqdm(train_dataloader, desc=f\"Epoch {epoch+1}\")\n",
        "    total_loss = 0\n",
        "    \n",
        "    for batch in progress_bar:\n",
        "        optimizer.zero_grad()\n",
        "        with autocast():\n",
        "            input_ids = batch[\"input_ids\"].to(device)\n",
        "            attention_mask = batch[\"attention_mask\"].to(device)\n",
        "            start_positions = batch[\"start_positions\"].to(device)\n",
        "            end_positions = batch[\"end_positions\"].to(device)\n",
        "            \n",
        "            # Create BIO labels: tensor of shape [batch, seq_len] with:\n",
        "            # 0: O, 1: B, 2: I\n",
        "            batch_size, seq_len = input_ids.shape\n",
        "            bio_labels = torch.zeros((batch_size, seq_len), dtype=torch.long, device=device)\n",
        "            for i in range(batch_size):\n",
        "                s = start_positions[i].item()\n",
        "                e = end_positions[i].item()\n",
        "                \n",
        "                if s > 0 and e >= s and e < seq_len:\n",
        "                    bio_labels[i, s] = 1    # B\n",
        "                    if e > s:\n",
        "                        bio_labels[i, s+1:e+1] = 2  # I\n",
        "            \n",
        "            # model accepting BIO labels uske biolabels pass krne k liye\n",
        "            outputs = model(input_ids=input_ids, attention_mask=attention_mask, bio_labels=bio_labels)\n",
        "            loss = outputs[\"loss\"]\n",
        "        \n",
        "        scaler.scale(loss).backward()\n",
        "        scaler.step(optimizer)\n",
        "        scaler.update()\n",
        "        lr_scheduler.step()\n",
        "        progress_bar.set_postfix(loss=loss.item())\n",
        "        total_loss += loss.item()\n",
        "\n",
        "    avg_train_loss = total_loss / len(train_dataloader)\n",
        "\n",
        "    # Evaluation\n",
        "    model.eval()\n",
        "    all_predictions = []\n",
        "    all_references = []\n",
        "\n",
        "    with torch.no_grad():\n",
        "        for batch in eval_dataloader:\n",
        "            questions = batch[\"question\"]\n",
        "            contexts = batch[\"context\"]\n",
        "            true_answers = [ans[\"text\"][0] if ans[\"text\"] else \"\" for ans in batch[\"answers\"]]\n",
        "\n",
        "            predicted_texts = predict_answers_bio(questions, contexts, model, tokenizer)\n",
        "            all_predictions.extend(predicted_texts)\n",
        "            all_references.extend(true_answers)\n",
        "\n",
        "    all_references = [ref.lower() for ref in all_references]\n",
        "    em = exact_match_score(all_predictions, all_references)\n",
        "    f1 = f1_score(all_predictions, all_references)\n",
        "\n",
        "    print(f\"\\nEpoch {epoch+1} - EM: {em:.2f}% | F1: {f1:.2f}%\\n\")\n",
        "    wandb.log({\n",
        "        \"epoch\": epoch + 1,\n",
        "        \"avg_train_loss\": avg_train_loss,\n",
        "        \"exact_match\": em,\n",
        "        \"f1_score\": f1\n",
        "    })\n",
        "\n",
        "    epoch_checkpoint = os.path.join(checkpoint_dir, f\"epoch_{epoch+1}\")\n",
        "    os.makedirs(epoch_checkpoint, exist_ok=True)\n",
        "    save_path = os.path.join(epoch_checkpoint, \"model_tokenizer.pkl\")\n",
        "    with open(save_path, \"wb\") as f:\n",
        "        pickle.dump({\"model_state_dict\": model.state_dict(), \"tokenizer\": tokenizer}, f)\n",
        "    print(f\"Saved model and tokenizer to {save_path}\")\n",
        "\n",
        "    # space save krne ke liye\n",
        "    saved_epochs = sorted(\n",
        "        [d for d in os.listdir(checkpoint_dir) if d.startswith(\"epoch_\")],\n",
        "        key=lambda x: int(x.split(\"_\")[1])\n",
        "    )\n",
        "    if len(saved_epochs) > 2:\n",
        "        oldest_checkpoint = os.path.join(checkpoint_dir, saved_epochs[0])\n",
        "        shutil.rmtree(oldest_checkpoint)\n",
        "        print(f\"Deleted old checkpoint: {oldest_checkpoint}\")\n",
        "\n",
        "\n",
        "\n",
        "def save_final_model(model, tokenizer, save_dir=\"./spanbert_squad_finetuned_bio_large\"):\n",
        "    os.makedirs(save_dir, exist_ok=True)\n",
        "    save_path = os.path.join(save_dir, \"final_model_tokenizer.pkl\")\n",
        "    with open(save_path, \"wb\") as f:\n",
        "        pickle.dump({\"model_state_dict\": model.state_dict(), \"tokenizer\": tokenizer}, f)\n",
        "    print(f\"Final model and tokenizer saved to {save_path}\")\n",
        "\n",
        "save_final_model(model, tokenizer)\n"
      ]
    },
    {
      "cell_type": "code",
      "execution_count": null,
      "metadata": {},
      "outputs": [
        {
          "name": "stdout",
          "output_type": "stream",
          "text": [
            "Tokenizer saved to ./spanbert_squad_finetuned_bio\n"
          ]
        }
      ],
      "source": [
        "# Save the tokenizer\n",
        "tokenizer.save_pretrained(checkpoint_dir)\n",
        "print(\"Tokenizer saved to\", checkpoint_dir)"
      ]
    },
    {
      "cell_type": "code",
      "execution_count": 33,
      "metadata": {},
      "outputs": [
        {
          "name": "stderr",
          "output_type": "stream",
          "text": [
            "Some weights of BertModel were not initialized from the model checkpoint at SpanBERT/spanbert-base-cased and are newly initialized: ['bert.pooler.dense.bias', 'bert.pooler.dense.weight']\n",
            "You should probably TRAIN this model on a down-stream task to be able to use it for predictions and inference.\n"
          ]
        },
        {
          "data": {
            "text/plain": [
              "SpanBERTCRF_QA_BIO(\n",
              "  (spanbert): BertModel(\n",
              "    (embeddings): BertEmbeddings(\n",
              "      (word_embeddings): Embedding(28996, 768, padding_idx=0)\n",
              "      (position_embeddings): Embedding(512, 768)\n",
              "      (token_type_embeddings): Embedding(2, 768)\n",
              "      (LayerNorm): LayerNorm((768,), eps=1e-12, elementwise_affine=True)\n",
              "      (dropout): Dropout(p=0.1, inplace=False)\n",
              "    )\n",
              "    (encoder): BertEncoder(\n",
              "      (layer): ModuleList(\n",
              "        (0-11): 12 x BertLayer(\n",
              "          (attention): BertAttention(\n",
              "            (self): BertSdpaSelfAttention(\n",
              "              (query): Linear(in_features=768, out_features=768, bias=True)\n",
              "              (key): Linear(in_features=768, out_features=768, bias=True)\n",
              "              (value): Linear(in_features=768, out_features=768, bias=True)\n",
              "              (dropout): Dropout(p=0.1, inplace=False)\n",
              "            )\n",
              "            (output): BertSelfOutput(\n",
              "              (dense): Linear(in_features=768, out_features=768, bias=True)\n",
              "              (LayerNorm): LayerNorm((768,), eps=1e-12, elementwise_affine=True)\n",
              "              (dropout): Dropout(p=0.1, inplace=False)\n",
              "            )\n",
              "          )\n",
              "          (intermediate): BertIntermediate(\n",
              "            (dense): Linear(in_features=768, out_features=3072, bias=True)\n",
              "            (intermediate_act_fn): GELUActivation()\n",
              "          )\n",
              "          (output): BertOutput(\n",
              "            (dense): Linear(in_features=3072, out_features=768, bias=True)\n",
              "            (LayerNorm): LayerNorm((768,), eps=1e-12, elementwise_affine=True)\n",
              "            (dropout): Dropout(p=0.1, inplace=False)\n",
              "          )\n",
              "        )\n",
              "      )\n",
              "    )\n",
              "    (pooler): BertPooler(\n",
              "      (dense): Linear(in_features=768, out_features=768, bias=True)\n",
              "      (activation): Tanh()\n",
              "    )\n",
              "  )\n",
              "  (qa_fc): Linear(in_features=768, out_features=3, bias=True)\n",
              "  (crf): CRF(num_tags=3)\n",
              ")"
            ]
          },
          "execution_count": 33,
          "metadata": {},
          "output_type": "execute_result"
        }
      ],
      "source": [
        "import pickle\n",
        "checkpoint_file = \"./spanbert_squad_finetuned_bio/final_model_tokenizer.pkl\"\n",
        "\n",
        "with open(checkpoint_file, \"rb\") as f:\n",
        "    data = pickle.load(f)\n",
        "\n",
        "model_crf = SpanBERTCRF_QA_BIO(m_2)\n",
        "model_crf.load_state_dict(data[\"model_state_dict\"])\n",
        "tokenizer_crf = data[\"tokenizer\"]\n",
        "\n",
        "model_crf.to(device)\n",
        "model_crf.eval()"
      ]
    },
    {
      "cell_type": "code",
      "execution_count": 74,
      "metadata": {},
      "outputs": [
        {
          "name": "stdout",
          "output_type": "stream",
          "text": [
            "{'id': '56ddde6b9a695914005b962b', 'title': 'Normans', 'context': 'The Normans (Norman: Nourmands; French: Normands; Latin: Normanni) were the people who in the 10th and 11th centuries gave their name to Normandy, a region in France. They were descended from Norse (\"Norman\" comes from \"Norseman\") raiders and pirates from Denmark, Iceland and Norway who, under their leader Rollo, agreed to swear fealty to King Charles III of West Francia. Through generations of assimilation and mixing with the native Frankish and Roman-Gaulish populations, their descendants would gradually merge with the Carolingian-based cultures of West Francia. The distinct cultural and ethnic identity of the Normans emerged initially in the first half of the 10th century, and it continued to evolve over the succeeding centuries.', 'question': 'Who was the Norse leader?', 'answers': {'text': ['Rollo', 'Rollo', 'Rollo', 'Rollo'], 'answer_start': [308, 308, 308, 308]}}\n"
          ]
        }
      ],
      "source": [
        "print(val_1[3])"
      ]
    },
    {
      "cell_type": "code",
      "execution_count": 75,
      "metadata": {},
      "outputs": [
        {
          "name": "stdout",
          "output_type": "stream",
          "text": [
            "{'id': '5acffbc877cf76001a6866e9', 'title': 'Republic_of_the_Congo', 'context': \"The area north of the Congo River came under French sovereignty in 1880 as a result of Pierre de Brazza's treaty with Makoko of the Bateke. This Congo Colony became known first as French Congo, then as Middle Congo in 1903. In 1908, France organized French Equatorial Africa (AEF), comprising Middle Congo, Gabon, Chad, and Oubangui-Chari (the modern Central African Republic). The French designated Brazzaville as the federal capital. Economic development during the first 50 years of colonial rule in Congo centered on natural-resource extraction. The methods were often brutal: construction of the Congo–Ocean Railroad following World War I has been estimated to have cost at least 14,000 lives.\", 'question': 'When did Middle Congo become known as French Congo?', 'answers': {'text': [], 'answer_start': []}}\n"
          ]
        }
      ],
      "source": [
        "print(tr_1[7888])"
      ]
    },
    {
      "cell_type": "code",
      "execution_count": 53,
      "metadata": {},
      "outputs": [
        {
          "name": "stdout",
          "output_type": "stream",
          "text": [
            "[{'score': 0.6654432310604521, 'answer': 'iit delhi', 'answer_start': 16}]\n"
          ]
        }
      ],
      "source": [
        "questions = [\"Upadhyay studies at ?\"]\n",
        "contexts = ['Aditya is a student at IIT Delhi. Aditya is a good boy.']\n",
        "predicted_answers = predict_answers_bio(questions, contexts, model_crf, tokenizer, 0.00001)\n",
        "\n",
        "print(predicted_answers)"
      ]
    },
    {
      "cell_type": "markdown",
      "metadata": {},
      "source": [
        "# crf ka output "
      ]
    },
    {
      "cell_type": "code",
      "execution_count": 36,
      "metadata": {},
      "outputs": [
        {
          "name": "stdout",
          "output_type": "stream",
          "text": [
            "EM: 49.96% | F1: 57.24%\n",
            "\n"
          ]
        }
      ],
      "source": [
        "all_predictions = []\n",
        "all_references = []\n",
        "new_dp1 = []\n",
        "new_dp2 = []\n",
        "with torch.no_grad():\n",
        "        for batch in eval_dataloader:\n",
        "            questions = batch[\"question\"]\n",
        "            contexts = batch[\"context\"]\n",
        "            true_answers = [ans[\"text\"][0] if ans[\"text\"] else \"\" for ans in batch[\"answers\"]]\n",
        "            predicted_texts = predict_answers_bio(questions, contexts, model_crf, tokenizer, 0.5)\n",
        "            all_predictions.extend(predicted_texts)\n",
        "            all_references.extend(true_answers)\n",
        "            for i in range(len(true_answers)):\n",
        "                if true_answers[i] != \"\":\n",
        "                    new_dp1.append(true_answers[i])\n",
        "                    new_dp2.append(predicted_texts[i])\n",
        "            # break\n",
        "# print(len(new_dp1),len(new_dp2),new_dp1,new_dp2,\"\\n\",all_predictions,all_references)\n",
        "all_references = [ref.lower() for ref in all_references]\n",
        "new_dp1 = [ref.lower() for ref in new_dp1]\n",
        "em = exact_match_score(all_predictions, all_references)\n",
        "f1 = f1_score(all_predictions, all_references)\n",
        "em0 = exact_match_score(new_dp2, new_dp1)\n",
        "f10 = f1_score(new_dp2, new_dp1)\n",
        "\n",
        "print(f\"EM: {em:.2f}% | F1: {f1:.2f}%\\n\")\n",
        "# print(f\"EM0: {em0:.2f}% | F10: {f10:.2f}% : Only answerable\\n\")"
      ]
    },
    {
      "cell_type": "code",
      "execution_count": 42,
      "metadata": {},
      "outputs": [
        {
          "name": "stdout",
          "output_type": "stream",
          "text": [
            "['france', '10th and 11th centuries', 'denmark, iceland and norway', 'rollo', '10th century', 'william the conqueror', 'richard i', 'catholic', 'viking', '9th century', '911', 'king charles iii', 'seine', 'rollo', 'catholicism', 'north', 'fighting horsemen', 'seljuk turks', '1050s', '1060s', 'alexius komnenos', 'afranji', 'oursel', 'turkish forces', 'norman mercenary']\n",
            "[{'score': 0.9706769313164749, 'answer': 'france', 'answer_start': 58}, {'score': 0.9348753390852944, 'answer': '10th and 11th centuries', 'answer_start': 44}, {'score': 0.0, 'answer': '', 'answer_start': -1}, {'score': 0.8757658629850583, 'answer': 'rollo', 'answer_start': 96}, {'score': 0.8847509266180783, 'answer': 'first half of the 10th century', 'answer_start': 180}, {'score': 0.9423874985754234, 'answer': 'william', 'answer_start': 237}, {'score': 0.9262856766145361, 'answer': 'richard i', 'answer_start': 140}, {'score': 0.7075363732938142, 'answer': 'catholic', 'answer_start': 55}, {'score': 0.7595857236643141, 'answer': 'nortmann \" northman', 'answer_start': 57}, {'score': 0.9598489828191323, 'answer': '9th century', 'answer_start': 103}, {'score': 0.9565227587956574, 'answer': '911', 'answer_start': 64}, {'score': 0.9068470107064898, 'answer': 'king charles iii of', 'answer_start': 97}, {'score': 0.0, 'answer': '', 'answer_start': -1}, {'score': 0.9660123106948052, 'answer': 'pagii', 'answer_start': 105}, {'score': 0.0, 'answer': '', 'answer_start': -1}, {'score': 0.878335296258292, 'answer': 'north', 'answer_start': 92}, {'score': 0.9485369167566581, 'answer': 'fighting horsemen', 'answer_start': 110}, {'score': 0.9449555585882463, 'answer': 'the pechenegs, the bulgars', 'answer_start': 48}, {'score': 0.9500090417891048, 'answer': '1050s', 'answer_start': 34}, {'score': 0.7844956057193284, 'answer': '1060s', 'answer_start': 96}, {'score': 0.934738294896262, 'answer': 'alexius komnenos', 'answer_start': 157}, {'score': 0.9604241403529905, 'answer': 'afranji', 'answer_start': 159}, {'score': 0.8605704603399225, 'answer': 'oursel', 'answer_start': 83}, {'score': 0.8180652569975801, 'answer': 'armenians', 'answer_start': 31}, {'score': 0.908707593469475, 'answer': 'an italo - norman named raoul', 'answer_start': 62}]\n"
          ]
        }
      ],
      "source": [
        "print(new_dp1[:25])\n",
        "print(new_dp2[:25])"
      ]
    },
    {
      "cell_type": "code",
      "execution_count": 54,
      "metadata": {},
      "outputs": [],
      "source": [
        "# !jupyter nbconvert --to script NLP_Assignment_3.ipynb"
      ]
    }
  ],
  "metadata": {
    "accelerator": "GPU",
    "colab": {
      "gpuType": "T4",
      "provenance": []
    },
    "kernelspec": {
      "display_name": "Python 3",
      "language": "python",
      "name": "python3"
    },
    "language_info": {
      "codemirror_mode": {
        "name": "ipython",
        "version": 3
      },
      "file_extension": ".py",
      "mimetype": "text/x-python",
      "name": "python",
      "nbconvert_exporter": "python",
      "pygments_lexer": "ipython3",
      "version": "3.11.8"
    },
    "widgets": {
      "application/vnd.jupyter.widget-state+json": {
        "03bec6b155394e118bf446f8bbc7a807": {
          "model_module": "@jupyter-widgets/base",
          "model_module_version": "1.2.0",
          "model_name": "LayoutModel",
          "state": {
            "_model_module": "@jupyter-widgets/base",
            "_model_module_version": "1.2.0",
            "_model_name": "LayoutModel",
            "_view_count": null,
            "_view_module": "@jupyter-widgets/base",
            "_view_module_version": "1.2.0",
            "_view_name": "LayoutView",
            "align_content": null,
            "align_items": null,
            "align_self": null,
            "border": null,
            "bottom": null,
            "display": null,
            "flex": null,
            "flex_flow": null,
            "grid_area": null,
            "grid_auto_columns": null,
            "grid_auto_flow": null,
            "grid_auto_rows": null,
            "grid_column": null,
            "grid_gap": null,
            "grid_row": null,
            "grid_template_areas": null,
            "grid_template_columns": null,
            "grid_template_rows": null,
            "height": null,
            "justify_content": null,
            "justify_items": null,
            "left": null,
            "margin": null,
            "max_height": null,
            "max_width": null,
            "min_height": null,
            "min_width": null,
            "object_fit": null,
            "object_position": null,
            "order": null,
            "overflow": null,
            "overflow_x": null,
            "overflow_y": null,
            "padding": null,
            "right": null,
            "top": null,
            "visibility": null,
            "width": null
          }
        },
        "042d66f8cf0a4e609bc00f3cdb5c4402": {
          "model_module": "@jupyter-widgets/base",
          "model_module_version": "1.2.0",
          "model_name": "LayoutModel",
          "state": {
            "_model_module": "@jupyter-widgets/base",
            "_model_module_version": "1.2.0",
            "_model_name": "LayoutModel",
            "_view_count": null,
            "_view_module": "@jupyter-widgets/base",
            "_view_module_version": "1.2.0",
            "_view_name": "LayoutView",
            "align_content": null,
            "align_items": null,
            "align_self": null,
            "border": null,
            "bottom": null,
            "display": null,
            "flex": null,
            "flex_flow": null,
            "grid_area": null,
            "grid_auto_columns": null,
            "grid_auto_flow": null,
            "grid_auto_rows": null,
            "grid_column": null,
            "grid_gap": null,
            "grid_row": null,
            "grid_template_areas": null,
            "grid_template_columns": null,
            "grid_template_rows": null,
            "height": null,
            "justify_content": null,
            "justify_items": null,
            "left": null,
            "margin": null,
            "max_height": null,
            "max_width": null,
            "min_height": null,
            "min_width": null,
            "object_fit": null,
            "object_position": null,
            "order": null,
            "overflow": null,
            "overflow_x": null,
            "overflow_y": null,
            "padding": null,
            "right": null,
            "top": null,
            "visibility": null,
            "width": null
          }
        },
        "04d6506b107f408e9901eb1a77663ecd": {
          "model_module": "@jupyter-widgets/base",
          "model_module_version": "1.2.0",
          "model_name": "LayoutModel",
          "state": {
            "_model_module": "@jupyter-widgets/base",
            "_model_module_version": "1.2.0",
            "_model_name": "LayoutModel",
            "_view_count": null,
            "_view_module": "@jupyter-widgets/base",
            "_view_module_version": "1.2.0",
            "_view_name": "LayoutView",
            "align_content": null,
            "align_items": null,
            "align_self": null,
            "border": null,
            "bottom": null,
            "display": null,
            "flex": null,
            "flex_flow": null,
            "grid_area": null,
            "grid_auto_columns": null,
            "grid_auto_flow": null,
            "grid_auto_rows": null,
            "grid_column": null,
            "grid_gap": null,
            "grid_row": null,
            "grid_template_areas": null,
            "grid_template_columns": null,
            "grid_template_rows": null,
            "height": null,
            "justify_content": null,
            "justify_items": null,
            "left": null,
            "margin": null,
            "max_height": null,
            "max_width": null,
            "min_height": null,
            "min_width": null,
            "object_fit": null,
            "object_position": null,
            "order": null,
            "overflow": null,
            "overflow_x": null,
            "overflow_y": null,
            "padding": null,
            "right": null,
            "top": null,
            "visibility": null,
            "width": null
          }
        },
        "051aecfa9fee42979a186296c4378430": {
          "model_module": "@jupyter-widgets/base",
          "model_module_version": "1.2.0",
          "model_name": "LayoutModel",
          "state": {
            "_model_module": "@jupyter-widgets/base",
            "_model_module_version": "1.2.0",
            "_model_name": "LayoutModel",
            "_view_count": null,
            "_view_module": "@jupyter-widgets/base",
            "_view_module_version": "1.2.0",
            "_view_name": "LayoutView",
            "align_content": null,
            "align_items": null,
            "align_self": null,
            "border": null,
            "bottom": null,
            "display": null,
            "flex": null,
            "flex_flow": null,
            "grid_area": null,
            "grid_auto_columns": null,
            "grid_auto_flow": null,
            "grid_auto_rows": null,
            "grid_column": null,
            "grid_gap": null,
            "grid_row": null,
            "grid_template_areas": null,
            "grid_template_columns": null,
            "grid_template_rows": null,
            "height": null,
            "justify_content": null,
            "justify_items": null,
            "left": null,
            "margin": null,
            "max_height": null,
            "max_width": null,
            "min_height": null,
            "min_width": null,
            "object_fit": null,
            "object_position": null,
            "order": null,
            "overflow": null,
            "overflow_x": null,
            "overflow_y": null,
            "padding": null,
            "right": null,
            "top": null,
            "visibility": null,
            "width": null
          }
        },
        "05efb7a135d04b0a81b4abad0db3517e": {
          "model_module": "@jupyter-widgets/controls",
          "model_module_version": "1.5.0",
          "model_name": "HTMLModel",
          "state": {
            "_dom_classes": [],
            "_model_module": "@jupyter-widgets/controls",
            "_model_module_version": "1.5.0",
            "_model_name": "HTMLModel",
            "_view_count": null,
            "_view_module": "@jupyter-widgets/controls",
            "_view_module_version": "1.5.0",
            "_view_name": "HTMLView",
            "description": "",
            "description_tooltip": null,
            "layout": "IPY_MODEL_980a3e37bce84eb3b568910dab184b39",
            "placeholder": "​",
            "style": "IPY_MODEL_26a0214ded904ceb82899cf288ef22f9",
            "value": "Generating validation split: 100%"
          }
        },
        "087da415d83940a5a97c75be636fe1e2": {
          "model_module": "@jupyter-widgets/controls",
          "model_module_version": "1.5.0",
          "model_name": "DescriptionStyleModel",
          "state": {
            "_model_module": "@jupyter-widgets/controls",
            "_model_module_version": "1.5.0",
            "_model_name": "DescriptionStyleModel",
            "_view_count": null,
            "_view_module": "@jupyter-widgets/base",
            "_view_module_version": "1.2.0",
            "_view_name": "StyleView",
            "description_width": ""
          }
        },
        "0b53afd82e1e42bf98214e6384343d84": {
          "model_module": "@jupyter-widgets/controls",
          "model_module_version": "1.5.0",
          "model_name": "ProgressStyleModel",
          "state": {
            "_model_module": "@jupyter-widgets/controls",
            "_model_module_version": "1.5.0",
            "_model_name": "ProgressStyleModel",
            "_view_count": null,
            "_view_module": "@jupyter-widgets/base",
            "_view_module_version": "1.2.0",
            "_view_name": "StyleView",
            "bar_color": null,
            "description_width": ""
          }
        },
        "0be3d857b391449a919b59d77cbd1b01": {
          "model_module": "@jupyter-widgets/controls",
          "model_module_version": "1.5.0",
          "model_name": "DescriptionStyleModel",
          "state": {
            "_model_module": "@jupyter-widgets/controls",
            "_model_module_version": "1.5.0",
            "_model_name": "DescriptionStyleModel",
            "_view_count": null,
            "_view_module": "@jupyter-widgets/base",
            "_view_module_version": "1.2.0",
            "_view_name": "StyleView",
            "description_width": ""
          }
        },
        "10cdd2c4b83a4d578b63ad1a3ebf6fca": {
          "model_module": "@jupyter-widgets/controls",
          "model_module_version": "1.5.0",
          "model_name": "HBoxModel",
          "state": {
            "_dom_classes": [],
            "_model_module": "@jupyter-widgets/controls",
            "_model_module_version": "1.5.0",
            "_model_name": "HBoxModel",
            "_view_count": null,
            "_view_module": "@jupyter-widgets/controls",
            "_view_module_version": "1.5.0",
            "_view_name": "HBoxView",
            "box_style": "",
            "children": [
              "IPY_MODEL_dcfe3f31de7a4012a3ada5e154083c4b",
              "IPY_MODEL_8a1c4cac6e594c1c83649baf691429a2",
              "IPY_MODEL_fce9dc457ecb41fa9c92c3888db6b585"
            ],
            "layout": "IPY_MODEL_8336d9af28de42ed8502160c6c0439c6"
          }
        },
        "12d1cb82c917464895f55539ff30f229": {
          "model_module": "@jupyter-widgets/controls",
          "model_module_version": "1.5.0",
          "model_name": "HTMLModel",
          "state": {
            "_dom_classes": [],
            "_model_module": "@jupyter-widgets/controls",
            "_model_module_version": "1.5.0",
            "_model_name": "HTMLModel",
            "_view_count": null,
            "_view_module": "@jupyter-widgets/controls",
            "_view_module_version": "1.5.0",
            "_view_name": "HTMLView",
            "description": "",
            "description_tooltip": null,
            "layout": "IPY_MODEL_5b2d51a457774d038b78c312d0eb14d3",
            "placeholder": "​",
            "style": "IPY_MODEL_fe7cbd4b03e64bf291454109f9b1722f",
            "value": " 665M/665M [00:07&lt;00:00, 122MB/s]"
          }
        },
        "141081ce625d4b3b8eb085fe80eb54c9": {
          "model_module": "@jupyter-widgets/base",
          "model_module_version": "1.2.0",
          "model_name": "LayoutModel",
          "state": {
            "_model_module": "@jupyter-widgets/base",
            "_model_module_version": "1.2.0",
            "_model_name": "LayoutModel",
            "_view_count": null,
            "_view_module": "@jupyter-widgets/base",
            "_view_module_version": "1.2.0",
            "_view_name": "LayoutView",
            "align_content": null,
            "align_items": null,
            "align_self": null,
            "border": null,
            "bottom": null,
            "display": null,
            "flex": null,
            "flex_flow": null,
            "grid_area": null,
            "grid_auto_columns": null,
            "grid_auto_flow": null,
            "grid_auto_rows": null,
            "grid_column": null,
            "grid_gap": null,
            "grid_row": null,
            "grid_template_areas": null,
            "grid_template_columns": null,
            "grid_template_rows": null,
            "height": null,
            "justify_content": null,
            "justify_items": null,
            "left": null,
            "margin": null,
            "max_height": null,
            "max_width": null,
            "min_height": null,
            "min_width": null,
            "object_fit": null,
            "object_position": null,
            "order": null,
            "overflow": null,
            "overflow_x": null,
            "overflow_y": null,
            "padding": null,
            "right": null,
            "top": null,
            "visibility": null,
            "width": null
          }
        },
        "149f5a85e19c4f6faf3da8265e252d1b": {
          "model_module": "@jupyter-widgets/controls",
          "model_module_version": "1.5.0",
          "model_name": "HTMLModel",
          "state": {
            "_dom_classes": [],
            "_model_module": "@jupyter-widgets/controls",
            "_model_module_version": "1.5.0",
            "_model_name": "HTMLModel",
            "_view_count": null,
            "_view_module": "@jupyter-widgets/controls",
            "_view_module_version": "1.5.0",
            "_view_name": "HTMLView",
            "description": "",
            "description_tooltip": null,
            "layout": "IPY_MODEL_16d0105bf3574e2f84a6862dd58c3e3a",
            "placeholder": "​",
            "style": "IPY_MODEL_8581584e0e40431c9aa24f8c453fba13",
            "value": "train-00000-of-00001.parquet: 100%"
          }
        },
        "16d0105bf3574e2f84a6862dd58c3e3a": {
          "model_module": "@jupyter-widgets/base",
          "model_module_version": "1.2.0",
          "model_name": "LayoutModel",
          "state": {
            "_model_module": "@jupyter-widgets/base",
            "_model_module_version": "1.2.0",
            "_model_name": "LayoutModel",
            "_view_count": null,
            "_view_module": "@jupyter-widgets/base",
            "_view_module_version": "1.2.0",
            "_view_name": "LayoutView",
            "align_content": null,
            "align_items": null,
            "align_self": null,
            "border": null,
            "bottom": null,
            "display": null,
            "flex": null,
            "flex_flow": null,
            "grid_area": null,
            "grid_auto_columns": null,
            "grid_auto_flow": null,
            "grid_auto_rows": null,
            "grid_column": null,
            "grid_gap": null,
            "grid_row": null,
            "grid_template_areas": null,
            "grid_template_columns": null,
            "grid_template_rows": null,
            "height": null,
            "justify_content": null,
            "justify_items": null,
            "left": null,
            "margin": null,
            "max_height": null,
            "max_width": null,
            "min_height": null,
            "min_width": null,
            "object_fit": null,
            "object_position": null,
            "order": null,
            "overflow": null,
            "overflow_x": null,
            "overflow_y": null,
            "padding": null,
            "right": null,
            "top": null,
            "visibility": null,
            "width": null
          }
        },
        "17f04a3e2d56405e817b29b54f198f60": {
          "model_module": "@jupyter-widgets/base",
          "model_module_version": "1.2.0",
          "model_name": "LayoutModel",
          "state": {
            "_model_module": "@jupyter-widgets/base",
            "_model_module_version": "1.2.0",
            "_model_name": "LayoutModel",
            "_view_count": null,
            "_view_module": "@jupyter-widgets/base",
            "_view_module_version": "1.2.0",
            "_view_name": "LayoutView",
            "align_content": null,
            "align_items": null,
            "align_self": null,
            "border": null,
            "bottom": null,
            "display": null,
            "flex": null,
            "flex_flow": null,
            "grid_area": null,
            "grid_auto_columns": null,
            "grid_auto_flow": null,
            "grid_auto_rows": null,
            "grid_column": null,
            "grid_gap": null,
            "grid_row": null,
            "grid_template_areas": null,
            "grid_template_columns": null,
            "grid_template_rows": null,
            "height": null,
            "justify_content": null,
            "justify_items": null,
            "left": null,
            "margin": null,
            "max_height": null,
            "max_width": null,
            "min_height": null,
            "min_width": null,
            "object_fit": null,
            "object_position": null,
            "order": null,
            "overflow": null,
            "overflow_x": null,
            "overflow_y": null,
            "padding": null,
            "right": null,
            "top": null,
            "visibility": null,
            "width": null
          }
        },
        "1949fdd63dd64732adc24f14e9a40f04": {
          "model_module": "@jupyter-widgets/controls",
          "model_module_version": "1.5.0",
          "model_name": "FloatProgressModel",
          "state": {
            "_dom_classes": [],
            "_model_module": "@jupyter-widgets/controls",
            "_model_module_version": "1.5.0",
            "_model_name": "FloatProgressModel",
            "_view_count": null,
            "_view_module": "@jupyter-widgets/controls",
            "_view_module_version": "1.5.0",
            "_view_name": "ProgressView",
            "bar_style": "success",
            "description": "",
            "description_tooltip": null,
            "layout": "IPY_MODEL_854b17e26bdb45148ee444a23a92e9b6",
            "max": 1,
            "min": 0,
            "orientation": "horizontal",
            "style": "IPY_MODEL_0b53afd82e1e42bf98214e6384343d84",
            "value": 0
          }
        },
        "1980edba0f604d89872af497f826ac3e": {
          "model_module": "@jupyter-widgets/base",
          "model_module_version": "1.2.0",
          "model_name": "LayoutModel",
          "state": {
            "_model_module": "@jupyter-widgets/base",
            "_model_module_version": "1.2.0",
            "_model_name": "LayoutModel",
            "_view_count": null,
            "_view_module": "@jupyter-widgets/base",
            "_view_module_version": "1.2.0",
            "_view_name": "LayoutView",
            "align_content": null,
            "align_items": null,
            "align_self": null,
            "border": null,
            "bottom": null,
            "display": null,
            "flex": null,
            "flex_flow": null,
            "grid_area": null,
            "grid_auto_columns": null,
            "grid_auto_flow": null,
            "grid_auto_rows": null,
            "grid_column": null,
            "grid_gap": null,
            "grid_row": null,
            "grid_template_areas": null,
            "grid_template_columns": null,
            "grid_template_rows": null,
            "height": null,
            "justify_content": null,
            "justify_items": null,
            "left": null,
            "margin": null,
            "max_height": null,
            "max_width": null,
            "min_height": null,
            "min_width": null,
            "object_fit": null,
            "object_position": null,
            "order": null,
            "overflow": null,
            "overflow_x": null,
            "overflow_y": null,
            "padding": null,
            "right": null,
            "top": null,
            "visibility": null,
            "width": null
          }
        },
        "1ad94abe767647b6b54371a61c745bda": {
          "model_module": "@jupyter-widgets/controls",
          "model_module_version": "1.5.0",
          "model_name": "ProgressStyleModel",
          "state": {
            "_model_module": "@jupyter-widgets/controls",
            "_model_module_version": "1.5.0",
            "_model_name": "ProgressStyleModel",
            "_view_count": null,
            "_view_module": "@jupyter-widgets/base",
            "_view_module_version": "1.2.0",
            "_view_name": "StyleView",
            "bar_color": null,
            "description_width": ""
          }
        },
        "1b5be63db4b448978564be297456c272": {
          "model_module": "@jupyter-widgets/controls",
          "model_module_version": "1.5.0",
          "model_name": "DescriptionStyleModel",
          "state": {
            "_model_module": "@jupyter-widgets/controls",
            "_model_module_version": "1.5.0",
            "_model_name": "DescriptionStyleModel",
            "_view_count": null,
            "_view_module": "@jupyter-widgets/base",
            "_view_module_version": "1.2.0",
            "_view_name": "StyleView",
            "description_width": ""
          }
        },
        "1bfcd91d7e0c480ca25dcc53fc1589b3": {
          "model_module": "@jupyter-widgets/controls",
          "model_module_version": "1.5.0",
          "model_name": "FloatProgressModel",
          "state": {
            "_dom_classes": [],
            "_model_module": "@jupyter-widgets/controls",
            "_model_module_version": "1.5.0",
            "_model_name": "FloatProgressModel",
            "_view_count": null,
            "_view_module": "@jupyter-widgets/controls",
            "_view_module_version": "1.5.0",
            "_view_name": "ProgressView",
            "bar_style": "success",
            "description": "",
            "description_tooltip": null,
            "layout": "IPY_MODEL_928839038930497c9680fdd552f21106",
            "max": 11873,
            "min": 0,
            "orientation": "horizontal",
            "style": "IPY_MODEL_ef45d4414db340929ca3fcb3ebc8d4bd",
            "value": 11873
          }
        },
        "1cadd741344241eea8610f1e09f7e4cc": {
          "model_module": "@jupyter-widgets/controls",
          "model_module_version": "1.5.0",
          "model_name": "DescriptionStyleModel",
          "state": {
            "_model_module": "@jupyter-widgets/controls",
            "_model_module_version": "1.5.0",
            "_model_name": "DescriptionStyleModel",
            "_view_count": null,
            "_view_module": "@jupyter-widgets/base",
            "_view_module_version": "1.2.0",
            "_view_name": "StyleView",
            "description_width": ""
          }
        },
        "1ff7be5a5d5c4fe49d6dddcb14cbedc4": {
          "model_module": "@jupyter-widgets/controls",
          "model_module_version": "1.5.0",
          "model_name": "HTMLModel",
          "state": {
            "_dom_classes": [],
            "_model_module": "@jupyter-widgets/controls",
            "_model_module_version": "1.5.0",
            "_model_name": "HTMLModel",
            "_view_count": null,
            "_view_module": "@jupyter-widgets/controls",
            "_view_module_version": "1.5.0",
            "_view_name": "HTMLView",
            "description": "",
            "description_tooltip": null,
            "layout": "IPY_MODEL_f7acdd75cc244459af749293fa647935",
            "placeholder": "​",
            "style": "IPY_MODEL_087da415d83940a5a97c75be636fe1e2",
            "value": "config.json: 100%"
          }
        },
        "209a1f85ff5a418d81301e15f2cd5ebb": {
          "model_module": "@jupyter-widgets/controls",
          "model_module_version": "1.5.0",
          "model_name": "HTMLModel",
          "state": {
            "_dom_classes": [],
            "_model_module": "@jupyter-widgets/controls",
            "_model_module_version": "1.5.0",
            "_model_name": "HTMLModel",
            "_view_count": null,
            "_view_module": "@jupyter-widgets/controls",
            "_view_module_version": "1.5.0",
            "_view_name": "HTMLView",
            "description": "",
            "description_tooltip": null,
            "layout": "IPY_MODEL_42a22d541aac45b1b680a207bb5b90c2",
            "placeholder": "​",
            "style": "IPY_MODEL_1b5be63db4b448978564be297456c272",
            "value": "validation-00000-of-00001.parquet: 100%"
          }
        },
        "2136dfed4aea48d9990705520945f47c": {
          "model_module": "@jupyter-widgets/controls",
          "model_module_version": "1.5.0",
          "model_name": "ProgressStyleModel",
          "state": {
            "_model_module": "@jupyter-widgets/controls",
            "_model_module_version": "1.5.0",
            "_model_name": "ProgressStyleModel",
            "_view_count": null,
            "_view_module": "@jupyter-widgets/base",
            "_view_module_version": "1.2.0",
            "_view_name": "StyleView",
            "bar_color": null,
            "description_width": ""
          }
        },
        "2202171771474d68aa22df2227391953": {
          "model_module": "@jupyter-widgets/controls",
          "model_module_version": "1.5.0",
          "model_name": "HBoxModel",
          "state": {
            "_dom_classes": [],
            "_model_module": "@jupyter-widgets/controls",
            "_model_module_version": "1.5.0",
            "_model_name": "HBoxModel",
            "_view_count": null,
            "_view_module": "@jupyter-widgets/controls",
            "_view_module_version": "1.5.0",
            "_view_name": "HBoxView",
            "box_style": "",
            "children": [
              "IPY_MODEL_5079e117f47e4472a3714548e3e5a85b",
              "IPY_MODEL_e8d9f142e03946dd8e442ee637d9762b",
              "IPY_MODEL_c4ced04fc54940ceb31c65ecada45378"
            ],
            "layout": "IPY_MODEL_03bec6b155394e118bf446f8bbc7a807"
          }
        },
        "23d47dca3879466fb31630d393b99ae0": {
          "model_module": "@jupyter-widgets/controls",
          "model_module_version": "1.5.0",
          "model_name": "HBoxModel",
          "state": {
            "_dom_classes": [],
            "_model_module": "@jupyter-widgets/controls",
            "_model_module_version": "1.5.0",
            "_model_name": "HBoxModel",
            "_view_count": null,
            "_view_module": "@jupyter-widgets/controls",
            "_view_module_version": "1.5.0",
            "_view_name": "HBoxView",
            "box_style": "",
            "children": [
              "IPY_MODEL_1ff7be5a5d5c4fe49d6dddcb14cbedc4",
              "IPY_MODEL_74661cb5b8794f97a35fedb60ffa0b7a",
              "IPY_MODEL_49f5c5abe1d8481fa7d3c98bab35fff2"
            ],
            "layout": "IPY_MODEL_1980edba0f604d89872af497f826ac3e"
          }
        },
        "24ee17d5c2934ebdba75236bda9d6250": {
          "model_module": "@jupyter-widgets/base",
          "model_module_version": "1.2.0",
          "model_name": "LayoutModel",
          "state": {
            "_model_module": "@jupyter-widgets/base",
            "_model_module_version": "1.2.0",
            "_model_name": "LayoutModel",
            "_view_count": null,
            "_view_module": "@jupyter-widgets/base",
            "_view_module_version": "1.2.0",
            "_view_name": "LayoutView",
            "align_content": null,
            "align_items": null,
            "align_self": null,
            "border": null,
            "bottom": null,
            "display": null,
            "flex": null,
            "flex_flow": null,
            "grid_area": null,
            "grid_auto_columns": null,
            "grid_auto_flow": null,
            "grid_auto_rows": null,
            "grid_column": null,
            "grid_gap": null,
            "grid_row": null,
            "grid_template_areas": null,
            "grid_template_columns": null,
            "grid_template_rows": null,
            "height": null,
            "justify_content": null,
            "justify_items": null,
            "left": null,
            "margin": null,
            "max_height": null,
            "max_width": null,
            "min_height": null,
            "min_width": null,
            "object_fit": null,
            "object_position": null,
            "order": null,
            "overflow": null,
            "overflow_x": null,
            "overflow_y": null,
            "padding": null,
            "right": null,
            "top": null,
            "visibility": null,
            "width": null
          }
        },
        "25c785b95e99445f849128a2dab1f0d8": {
          "model_module": "@jupyter-widgets/controls",
          "model_module_version": "1.5.0",
          "model_name": "DescriptionStyleModel",
          "state": {
            "_model_module": "@jupyter-widgets/controls",
            "_model_module_version": "1.5.0",
            "_model_name": "DescriptionStyleModel",
            "_view_count": null,
            "_view_module": "@jupyter-widgets/base",
            "_view_module_version": "1.2.0",
            "_view_name": "StyleView",
            "description_width": ""
          }
        },
        "26a0214ded904ceb82899cf288ef22f9": {
          "model_module": "@jupyter-widgets/controls",
          "model_module_version": "1.5.0",
          "model_name": "DescriptionStyleModel",
          "state": {
            "_model_module": "@jupyter-widgets/controls",
            "_model_module_version": "1.5.0",
            "_model_name": "DescriptionStyleModel",
            "_view_count": null,
            "_view_module": "@jupyter-widgets/base",
            "_view_module_version": "1.2.0",
            "_view_name": "StyleView",
            "description_width": ""
          }
        },
        "2c6c5bb6ca0f445ba7a5005e28456644": {
          "model_module": "@jupyter-widgets/controls",
          "model_module_version": "1.5.0",
          "model_name": "HTMLModel",
          "state": {
            "_dom_classes": [],
            "_model_module": "@jupyter-widgets/controls",
            "_model_module_version": "1.5.0",
            "_model_name": "HTMLModel",
            "_view_count": null,
            "_view_module": "@jupyter-widgets/controls",
            "_view_module_version": "1.5.0",
            "_view_name": "HTMLView",
            "description": "",
            "description_tooltip": null,
            "layout": "IPY_MODEL_2d4b52ae6e0148c0bab6c032817627e0",
            "placeholder": "​",
            "style": "IPY_MODEL_0be3d857b391449a919b59d77cbd1b01",
            "value": " 213k/213k [00:00&lt;00:00, 1.79MB/s]"
          }
        },
        "2d4b52ae6e0148c0bab6c032817627e0": {
          "model_module": "@jupyter-widgets/base",
          "model_module_version": "1.2.0",
          "model_name": "LayoutModel",
          "state": {
            "_model_module": "@jupyter-widgets/base",
            "_model_module_version": "1.2.0",
            "_model_name": "LayoutModel",
            "_view_count": null,
            "_view_module": "@jupyter-widgets/base",
            "_view_module_version": "1.2.0",
            "_view_name": "LayoutView",
            "align_content": null,
            "align_items": null,
            "align_self": null,
            "border": null,
            "bottom": null,
            "display": null,
            "flex": null,
            "flex_flow": null,
            "grid_area": null,
            "grid_auto_columns": null,
            "grid_auto_flow": null,
            "grid_auto_rows": null,
            "grid_column": null,
            "grid_gap": null,
            "grid_row": null,
            "grid_template_areas": null,
            "grid_template_columns": null,
            "grid_template_rows": null,
            "height": null,
            "justify_content": null,
            "justify_items": null,
            "left": null,
            "margin": null,
            "max_height": null,
            "max_width": null,
            "min_height": null,
            "min_width": null,
            "object_fit": null,
            "object_position": null,
            "order": null,
            "overflow": null,
            "overflow_x": null,
            "overflow_y": null,
            "padding": null,
            "right": null,
            "top": null,
            "visibility": null,
            "width": null
          }
        },
        "32b0fba0a6104f92ac5a08f2d2fed2d9": {
          "model_module": "@jupyter-widgets/base",
          "model_module_version": "1.2.0",
          "model_name": "LayoutModel",
          "state": {
            "_model_module": "@jupyter-widgets/base",
            "_model_module_version": "1.2.0",
            "_model_name": "LayoutModel",
            "_view_count": null,
            "_view_module": "@jupyter-widgets/base",
            "_view_module_version": "1.2.0",
            "_view_name": "LayoutView",
            "align_content": null,
            "align_items": null,
            "align_self": null,
            "border": null,
            "bottom": null,
            "display": null,
            "flex": null,
            "flex_flow": null,
            "grid_area": null,
            "grid_auto_columns": null,
            "grid_auto_flow": null,
            "grid_auto_rows": null,
            "grid_column": null,
            "grid_gap": null,
            "grid_row": null,
            "grid_template_areas": null,
            "grid_template_columns": null,
            "grid_template_rows": null,
            "height": null,
            "justify_content": null,
            "justify_items": null,
            "left": null,
            "margin": null,
            "max_height": null,
            "max_width": null,
            "min_height": null,
            "min_width": null,
            "object_fit": null,
            "object_position": null,
            "order": null,
            "overflow": null,
            "overflow_x": null,
            "overflow_y": null,
            "padding": null,
            "right": null,
            "top": null,
            "visibility": null,
            "width": null
          }
        },
        "32e62563cffb4bd5ac93db28db15f47b": {
          "model_module": "@jupyter-widgets/base",
          "model_module_version": "1.2.0",
          "model_name": "LayoutModel",
          "state": {
            "_model_module": "@jupyter-widgets/base",
            "_model_module_version": "1.2.0",
            "_model_name": "LayoutModel",
            "_view_count": null,
            "_view_module": "@jupyter-widgets/base",
            "_view_module_version": "1.2.0",
            "_view_name": "LayoutView",
            "align_content": null,
            "align_items": null,
            "align_self": null,
            "border": null,
            "bottom": null,
            "display": null,
            "flex": null,
            "flex_flow": null,
            "grid_area": null,
            "grid_auto_columns": null,
            "grid_auto_flow": null,
            "grid_auto_rows": null,
            "grid_column": null,
            "grid_gap": null,
            "grid_row": null,
            "grid_template_areas": null,
            "grid_template_columns": null,
            "grid_template_rows": null,
            "height": null,
            "justify_content": null,
            "justify_items": null,
            "left": null,
            "margin": null,
            "max_height": null,
            "max_width": null,
            "min_height": null,
            "min_width": null,
            "object_fit": null,
            "object_position": null,
            "order": null,
            "overflow": null,
            "overflow_x": null,
            "overflow_y": null,
            "padding": null,
            "right": null,
            "top": null,
            "visibility": null,
            "width": null
          }
        },
        "37ba2bdfb19a43ce922deaa9f1281008": {
          "model_module": "@jupyter-widgets/base",
          "model_module_version": "1.2.0",
          "model_name": "LayoutModel",
          "state": {
            "_model_module": "@jupyter-widgets/base",
            "_model_module_version": "1.2.0",
            "_model_name": "LayoutModel",
            "_view_count": null,
            "_view_module": "@jupyter-widgets/base",
            "_view_module_version": "1.2.0",
            "_view_name": "LayoutView",
            "align_content": null,
            "align_items": null,
            "align_self": null,
            "border": null,
            "bottom": null,
            "display": null,
            "flex": null,
            "flex_flow": null,
            "grid_area": null,
            "grid_auto_columns": null,
            "grid_auto_flow": null,
            "grid_auto_rows": null,
            "grid_column": null,
            "grid_gap": null,
            "grid_row": null,
            "grid_template_areas": null,
            "grid_template_columns": null,
            "grid_template_rows": null,
            "height": null,
            "justify_content": null,
            "justify_items": null,
            "left": null,
            "margin": null,
            "max_height": null,
            "max_width": null,
            "min_height": null,
            "min_width": null,
            "object_fit": null,
            "object_position": null,
            "order": null,
            "overflow": null,
            "overflow_x": null,
            "overflow_y": null,
            "padding": null,
            "right": null,
            "top": null,
            "visibility": null,
            "width": null
          }
        },
        "3ceffebd5ae049bcbd020938d914eec4": {
          "model_module": "@jupyter-widgets/base",
          "model_module_version": "1.2.0",
          "model_name": "LayoutModel",
          "state": {
            "_model_module": "@jupyter-widgets/base",
            "_model_module_version": "1.2.0",
            "_model_name": "LayoutModel",
            "_view_count": null,
            "_view_module": "@jupyter-widgets/base",
            "_view_module_version": "1.2.0",
            "_view_name": "LayoutView",
            "align_content": null,
            "align_items": null,
            "align_self": null,
            "border": null,
            "bottom": null,
            "display": null,
            "flex": null,
            "flex_flow": null,
            "grid_area": null,
            "grid_auto_columns": null,
            "grid_auto_flow": null,
            "grid_auto_rows": null,
            "grid_column": null,
            "grid_gap": null,
            "grid_row": null,
            "grid_template_areas": null,
            "grid_template_columns": null,
            "grid_template_rows": null,
            "height": null,
            "justify_content": null,
            "justify_items": null,
            "left": null,
            "margin": null,
            "max_height": null,
            "max_width": null,
            "min_height": null,
            "min_width": null,
            "object_fit": null,
            "object_position": null,
            "order": null,
            "overflow": null,
            "overflow_x": null,
            "overflow_y": null,
            "padding": null,
            "right": null,
            "top": null,
            "visibility": null,
            "width": null
          }
        },
        "3e1bdea473ae49bf8f28cab20a3e8ba4": {
          "model_module": "@jupyter-widgets/controls",
          "model_module_version": "1.5.0",
          "model_name": "ProgressStyleModel",
          "state": {
            "_model_module": "@jupyter-widgets/controls",
            "_model_module_version": "1.5.0",
            "_model_name": "ProgressStyleModel",
            "_view_count": null,
            "_view_module": "@jupyter-widgets/base",
            "_view_module_version": "1.2.0",
            "_view_name": "StyleView",
            "bar_color": null,
            "description_width": ""
          }
        },
        "3fc3b21ce39c40d5a94742da9805a511": {
          "model_module": "@jupyter-widgets/controls",
          "model_module_version": "1.5.0",
          "model_name": "DescriptionStyleModel",
          "state": {
            "_model_module": "@jupyter-widgets/controls",
            "_model_module_version": "1.5.0",
            "_model_name": "DescriptionStyleModel",
            "_view_count": null,
            "_view_module": "@jupyter-widgets/base",
            "_view_module_version": "1.2.0",
            "_view_name": "StyleView",
            "description_width": ""
          }
        },
        "42a22d541aac45b1b680a207bb5b90c2": {
          "model_module": "@jupyter-widgets/base",
          "model_module_version": "1.2.0",
          "model_name": "LayoutModel",
          "state": {
            "_model_module": "@jupyter-widgets/base",
            "_model_module_version": "1.2.0",
            "_model_name": "LayoutModel",
            "_view_count": null,
            "_view_module": "@jupyter-widgets/base",
            "_view_module_version": "1.2.0",
            "_view_name": "LayoutView",
            "align_content": null,
            "align_items": null,
            "align_self": null,
            "border": null,
            "bottom": null,
            "display": null,
            "flex": null,
            "flex_flow": null,
            "grid_area": null,
            "grid_auto_columns": null,
            "grid_auto_flow": null,
            "grid_auto_rows": null,
            "grid_column": null,
            "grid_gap": null,
            "grid_row": null,
            "grid_template_areas": null,
            "grid_template_columns": null,
            "grid_template_rows": null,
            "height": null,
            "justify_content": null,
            "justify_items": null,
            "left": null,
            "margin": null,
            "max_height": null,
            "max_width": null,
            "min_height": null,
            "min_width": null,
            "object_fit": null,
            "object_position": null,
            "order": null,
            "overflow": null,
            "overflow_x": null,
            "overflow_y": null,
            "padding": null,
            "right": null,
            "top": null,
            "visibility": null,
            "width": null
          }
        },
        "445b8b16be3e40a9bc2b45a87ed16923": {
          "model_module": "@jupyter-widgets/base",
          "model_module_version": "1.2.0",
          "model_name": "LayoutModel",
          "state": {
            "_model_module": "@jupyter-widgets/base",
            "_model_module_version": "1.2.0",
            "_model_name": "LayoutModel",
            "_view_count": null,
            "_view_module": "@jupyter-widgets/base",
            "_view_module_version": "1.2.0",
            "_view_name": "LayoutView",
            "align_content": null,
            "align_items": null,
            "align_self": null,
            "border": null,
            "bottom": null,
            "display": null,
            "flex": null,
            "flex_flow": null,
            "grid_area": null,
            "grid_auto_columns": null,
            "grid_auto_flow": null,
            "grid_auto_rows": null,
            "grid_column": null,
            "grid_gap": null,
            "grid_row": null,
            "grid_template_areas": null,
            "grid_template_columns": null,
            "grid_template_rows": null,
            "height": null,
            "justify_content": null,
            "justify_items": null,
            "left": null,
            "margin": null,
            "max_height": null,
            "max_width": null,
            "min_height": null,
            "min_width": null,
            "object_fit": null,
            "object_position": null,
            "order": null,
            "overflow": null,
            "overflow_x": null,
            "overflow_y": null,
            "padding": null,
            "right": null,
            "top": null,
            "visibility": null,
            "width": null
          }
        },
        "4742f046b9b34c3288b5599fb2e53521": {
          "model_module": "@jupyter-widgets/base",
          "model_module_version": "1.2.0",
          "model_name": "LayoutModel",
          "state": {
            "_model_module": "@jupyter-widgets/base",
            "_model_module_version": "1.2.0",
            "_model_name": "LayoutModel",
            "_view_count": null,
            "_view_module": "@jupyter-widgets/base",
            "_view_module_version": "1.2.0",
            "_view_name": "LayoutView",
            "align_content": null,
            "align_items": null,
            "align_self": null,
            "border": null,
            "bottom": null,
            "display": null,
            "flex": null,
            "flex_flow": null,
            "grid_area": null,
            "grid_auto_columns": null,
            "grid_auto_flow": null,
            "grid_auto_rows": null,
            "grid_column": null,
            "grid_gap": null,
            "grid_row": null,
            "grid_template_areas": null,
            "grid_template_columns": null,
            "grid_template_rows": null,
            "height": null,
            "justify_content": null,
            "justify_items": null,
            "left": null,
            "margin": null,
            "max_height": null,
            "max_width": null,
            "min_height": null,
            "min_width": null,
            "object_fit": null,
            "object_position": null,
            "order": null,
            "overflow": null,
            "overflow_x": null,
            "overflow_y": null,
            "padding": null,
            "right": null,
            "top": null,
            "visibility": null,
            "width": null
          }
        },
        "49f5c5abe1d8481fa7d3c98bab35fff2": {
          "model_module": "@jupyter-widgets/controls",
          "model_module_version": "1.5.0",
          "model_name": "HTMLModel",
          "state": {
            "_dom_classes": [],
            "_model_module": "@jupyter-widgets/controls",
            "_model_module_version": "1.5.0",
            "_model_name": "HTMLModel",
            "_view_count": null,
            "_view_module": "@jupyter-widgets/controls",
            "_view_module_version": "1.5.0",
            "_view_name": "HTMLView",
            "description": "",
            "description_tooltip": null,
            "layout": "IPY_MODEL_24ee17d5c2934ebdba75236bda9d6250",
            "placeholder": "​",
            "style": "IPY_MODEL_9e057c05b4604080916a7c3ce8c967ef",
            "value": " 414/414 [00:00&lt;00:00, 13.6kB/s]"
          }
        },
        "4c655300b43c45daa459b12053745b92": {
          "model_module": "@jupyter-widgets/controls",
          "model_module_version": "1.5.0",
          "model_name": "HBoxModel",
          "state": {
            "_dom_classes": [],
            "_model_module": "@jupyter-widgets/controls",
            "_model_module_version": "1.5.0",
            "_model_name": "HBoxModel",
            "_view_count": null,
            "_view_module": "@jupyter-widgets/controls",
            "_view_module_version": "1.5.0",
            "_view_name": "HBoxView",
            "box_style": "",
            "children": [
              "IPY_MODEL_b39d3e3bcb374905806bc074fc85d88f",
              "IPY_MODEL_98857e2e801c4322b7ea5b6220a59ff0",
              "IPY_MODEL_f766be8c72964ac1aa01f2c8784a96ef"
            ],
            "layout": "IPY_MODEL_141081ce625d4b3b8eb085fe80eb54c9"
          }
        },
        "4cc494faad7f49f8bc7e8e632d1050b1": {
          "model_module": "@jupyter-widgets/base",
          "model_module_version": "1.2.0",
          "model_name": "LayoutModel",
          "state": {
            "_model_module": "@jupyter-widgets/base",
            "_model_module_version": "1.2.0",
            "_model_name": "LayoutModel",
            "_view_count": null,
            "_view_module": "@jupyter-widgets/base",
            "_view_module_version": "1.2.0",
            "_view_name": "LayoutView",
            "align_content": null,
            "align_items": null,
            "align_self": null,
            "border": null,
            "bottom": null,
            "display": null,
            "flex": null,
            "flex_flow": null,
            "grid_area": null,
            "grid_auto_columns": null,
            "grid_auto_flow": null,
            "grid_auto_rows": null,
            "grid_column": null,
            "grid_gap": null,
            "grid_row": null,
            "grid_template_areas": null,
            "grid_template_columns": null,
            "grid_template_rows": null,
            "height": null,
            "justify_content": null,
            "justify_items": null,
            "left": null,
            "margin": null,
            "max_height": null,
            "max_width": null,
            "min_height": null,
            "min_width": null,
            "object_fit": null,
            "object_position": null,
            "order": null,
            "overflow": null,
            "overflow_x": null,
            "overflow_y": null,
            "padding": null,
            "right": null,
            "top": null,
            "visibility": null,
            "width": null
          }
        },
        "4f1ea9cc340f4c96a886477bad45acd7": {
          "model_module": "@jupyter-widgets/controls",
          "model_module_version": "1.5.0",
          "model_name": "ProgressStyleModel",
          "state": {
            "_model_module": "@jupyter-widgets/controls",
            "_model_module_version": "1.5.0",
            "_model_name": "ProgressStyleModel",
            "_view_count": null,
            "_view_module": "@jupyter-widgets/base",
            "_view_module_version": "1.2.0",
            "_view_name": "StyleView",
            "bar_color": null,
            "description_width": ""
          }
        },
        "503e32b14c964535835629a2bb4e4e02": {
          "model_module": "@jupyter-widgets/controls",
          "model_module_version": "1.5.0",
          "model_name": "HTMLModel",
          "state": {
            "_dom_classes": [],
            "_model_module": "@jupyter-widgets/controls",
            "_model_module_version": "1.5.0",
            "_model_name": "HTMLModel",
            "_view_count": null,
            "_view_module": "@jupyter-widgets/controls",
            "_view_module_version": "1.5.0",
            "_view_name": "HTMLView",
            "description": "",
            "description_tooltip": null,
            "layout": "IPY_MODEL_d234fe26b7c44dddb77164f9813d1ebd",
            "placeholder": "​",
            "style": "IPY_MODEL_95b3f055c7064dddae37b8d5934b9758",
            "value": "pytorch_model.bin: 100%"
          }
        },
        "5079e117f47e4472a3714548e3e5a85b": {
          "model_module": "@jupyter-widgets/controls",
          "model_module_version": "1.5.0",
          "model_name": "HTMLModel",
          "state": {
            "_dom_classes": [],
            "_model_module": "@jupyter-widgets/controls",
            "_model_module_version": "1.5.0",
            "_model_name": "HTMLModel",
            "_view_count": null,
            "_view_module": "@jupyter-widgets/controls",
            "_view_module_version": "1.5.0",
            "_view_name": "HTMLView",
            "description": "",
            "description_tooltip": null,
            "layout": "IPY_MODEL_4742f046b9b34c3288b5599fb2e53521",
            "placeholder": "​",
            "style": "IPY_MODEL_8aa965ecd0f34cf2b6c2c22f01aa1076",
            "value": "README.md: 100%"
          }
        },
        "553092b939da458da9c9592581f73acd": {
          "model_module": "@jupyter-widgets/base",
          "model_module_version": "1.2.0",
          "model_name": "LayoutModel",
          "state": {
            "_model_module": "@jupyter-widgets/base",
            "_model_module_version": "1.2.0",
            "_model_name": "LayoutModel",
            "_view_count": null,
            "_view_module": "@jupyter-widgets/base",
            "_view_module_version": "1.2.0",
            "_view_name": "LayoutView",
            "align_content": null,
            "align_items": null,
            "align_self": null,
            "border": null,
            "bottom": null,
            "display": null,
            "flex": null,
            "flex_flow": null,
            "grid_area": null,
            "grid_auto_columns": null,
            "grid_auto_flow": null,
            "grid_auto_rows": null,
            "grid_column": null,
            "grid_gap": null,
            "grid_row": null,
            "grid_template_areas": null,
            "grid_template_columns": null,
            "grid_template_rows": null,
            "height": null,
            "justify_content": null,
            "justify_items": null,
            "left": null,
            "margin": null,
            "max_height": null,
            "max_width": null,
            "min_height": null,
            "min_width": null,
            "object_fit": null,
            "object_position": null,
            "order": null,
            "overflow": null,
            "overflow_x": null,
            "overflow_y": null,
            "padding": null,
            "right": null,
            "top": null,
            "visibility": null,
            "width": null
          }
        },
        "56ec9ae5c6f34e64b6999c2344585849": {
          "model_module": "@jupyter-widgets/controls",
          "model_module_version": "1.5.0",
          "model_name": "HTMLModel",
          "state": {
            "_dom_classes": [],
            "_model_module": "@jupyter-widgets/controls",
            "_model_module_version": "1.5.0",
            "_model_name": "HTMLModel",
            "_view_count": null,
            "_view_module": "@jupyter-widgets/controls",
            "_view_module_version": "1.5.0",
            "_view_name": "HTMLView",
            "description": "",
            "description_tooltip": null,
            "layout": "IPY_MODEL_da0f87ffc89543f6bbfe2c1be10e8c6c",
            "placeholder": "​",
            "style": "IPY_MODEL_62586b87b9d745aa8ceb3d4f23ffc182",
            "value": " 11873/11873 [00:00&lt;00:00, 43252.29 examples/s]"
          }
        },
        "57c523577e2b49e49a27f5204d29ffdf": {
          "model_module": "@jupyter-widgets/base",
          "model_module_version": "1.2.0",
          "model_name": "LayoutModel",
          "state": {
            "_model_module": "@jupyter-widgets/base",
            "_model_module_version": "1.2.0",
            "_model_name": "LayoutModel",
            "_view_count": null,
            "_view_module": "@jupyter-widgets/base",
            "_view_module_version": "1.2.0",
            "_view_name": "LayoutView",
            "align_content": null,
            "align_items": null,
            "align_self": null,
            "border": null,
            "bottom": null,
            "display": null,
            "flex": null,
            "flex_flow": null,
            "grid_area": null,
            "grid_auto_columns": null,
            "grid_auto_flow": null,
            "grid_auto_rows": null,
            "grid_column": null,
            "grid_gap": null,
            "grid_row": null,
            "grid_template_areas": null,
            "grid_template_columns": null,
            "grid_template_rows": null,
            "height": null,
            "justify_content": null,
            "justify_items": null,
            "left": null,
            "margin": null,
            "max_height": null,
            "max_width": null,
            "min_height": null,
            "min_width": null,
            "object_fit": null,
            "object_position": null,
            "order": null,
            "overflow": null,
            "overflow_x": null,
            "overflow_y": null,
            "padding": null,
            "right": null,
            "top": null,
            "visibility": null,
            "width": null
          }
        },
        "5b2d51a457774d038b78c312d0eb14d3": {
          "model_module": "@jupyter-widgets/base",
          "model_module_version": "1.2.0",
          "model_name": "LayoutModel",
          "state": {
            "_model_module": "@jupyter-widgets/base",
            "_model_module_version": "1.2.0",
            "_model_name": "LayoutModel",
            "_view_count": null,
            "_view_module": "@jupyter-widgets/base",
            "_view_module_version": "1.2.0",
            "_view_name": "LayoutView",
            "align_content": null,
            "align_items": null,
            "align_self": null,
            "border": null,
            "bottom": null,
            "display": null,
            "flex": null,
            "flex_flow": null,
            "grid_area": null,
            "grid_auto_columns": null,
            "grid_auto_flow": null,
            "grid_auto_rows": null,
            "grid_column": null,
            "grid_gap": null,
            "grid_row": null,
            "grid_template_areas": null,
            "grid_template_columns": null,
            "grid_template_rows": null,
            "height": null,
            "justify_content": null,
            "justify_items": null,
            "left": null,
            "margin": null,
            "max_height": null,
            "max_width": null,
            "min_height": null,
            "min_width": null,
            "object_fit": null,
            "object_position": null,
            "order": null,
            "overflow": null,
            "overflow_x": null,
            "overflow_y": null,
            "padding": null,
            "right": null,
            "top": null,
            "visibility": null,
            "width": null
          }
        },
        "5df3620ba1c84e5bba3b1b680ac83b98": {
          "model_module": "@jupyter-widgets/controls",
          "model_module_version": "1.5.0",
          "model_name": "FloatProgressModel",
          "state": {
            "_dom_classes": [],
            "_model_module": "@jupyter-widgets/controls",
            "_model_module_version": "1.5.0",
            "_model_name": "FloatProgressModel",
            "_view_count": null,
            "_view_module": "@jupyter-widgets/controls",
            "_view_module_version": "1.5.0",
            "_view_name": "ProgressView",
            "bar_style": "success",
            "description": "",
            "description_tooltip": null,
            "layout": "IPY_MODEL_aee4c18ab3774bea8dd91dfadc442291",
            "max": 665132540,
            "min": 0,
            "orientation": "horizontal",
            "style": "IPY_MODEL_1ad94abe767647b6b54371a61c745bda",
            "value": 665132540
          }
        },
        "5e3edb5bc29c49e8be16981d67ab34fc": {
          "model_module": "@jupyter-widgets/controls",
          "model_module_version": "1.5.0",
          "model_name": "DescriptionStyleModel",
          "state": {
            "_model_module": "@jupyter-widgets/controls",
            "_model_module_version": "1.5.0",
            "_model_name": "DescriptionStyleModel",
            "_view_count": null,
            "_view_module": "@jupyter-widgets/base",
            "_view_module_version": "1.2.0",
            "_view_name": "StyleView",
            "description_width": ""
          }
        },
        "62586b87b9d745aa8ceb3d4f23ffc182": {
          "model_module": "@jupyter-widgets/controls",
          "model_module_version": "1.5.0",
          "model_name": "DescriptionStyleModel",
          "state": {
            "_model_module": "@jupyter-widgets/controls",
            "_model_module_version": "1.5.0",
            "_model_name": "DescriptionStyleModel",
            "_view_count": null,
            "_view_module": "@jupyter-widgets/base",
            "_view_module_version": "1.2.0",
            "_view_name": "StyleView",
            "description_width": ""
          }
        },
        "62f84ac2eabb4fbea7b3bf3a1695b282": {
          "model_module": "@jupyter-widgets/base",
          "model_module_version": "1.2.0",
          "model_name": "LayoutModel",
          "state": {
            "_model_module": "@jupyter-widgets/base",
            "_model_module_version": "1.2.0",
            "_model_name": "LayoutModel",
            "_view_count": null,
            "_view_module": "@jupyter-widgets/base",
            "_view_module_version": "1.2.0",
            "_view_name": "LayoutView",
            "align_content": null,
            "align_items": null,
            "align_self": null,
            "border": null,
            "bottom": null,
            "display": null,
            "flex": null,
            "flex_flow": null,
            "grid_area": null,
            "grid_auto_columns": null,
            "grid_auto_flow": null,
            "grid_auto_rows": null,
            "grid_column": null,
            "grid_gap": null,
            "grid_row": null,
            "grid_template_areas": null,
            "grid_template_columns": null,
            "grid_template_rows": null,
            "height": null,
            "justify_content": null,
            "justify_items": null,
            "left": null,
            "margin": null,
            "max_height": null,
            "max_width": null,
            "min_height": null,
            "min_width": null,
            "object_fit": null,
            "object_position": null,
            "order": null,
            "overflow": null,
            "overflow_x": null,
            "overflow_y": null,
            "padding": null,
            "right": null,
            "top": null,
            "visibility": null,
            "width": null
          }
        },
        "638356e3bb2e4e7d9ef918be041a3dcc": {
          "model_module": "@jupyter-widgets/controls",
          "model_module_version": "1.5.0",
          "model_name": "DescriptionStyleModel",
          "state": {
            "_model_module": "@jupyter-widgets/controls",
            "_model_module_version": "1.5.0",
            "_model_name": "DescriptionStyleModel",
            "_view_count": null,
            "_view_module": "@jupyter-widgets/base",
            "_view_module_version": "1.2.0",
            "_view_name": "StyleView",
            "description_width": ""
          }
        },
        "67190ed59ddb4482bc3db16ddb6620f3": {
          "model_module": "@jupyter-widgets/controls",
          "model_module_version": "1.5.0",
          "model_name": "FloatProgressModel",
          "state": {
            "_dom_classes": [],
            "_model_module": "@jupyter-widgets/controls",
            "_model_module_version": "1.5.0",
            "_model_name": "FloatProgressModel",
            "_view_count": null,
            "_view_module": "@jupyter-widgets/controls",
            "_view_module_version": "1.5.0",
            "_view_name": "ProgressView",
            "bar_style": "success",
            "description": "",
            "description_tooltip": null,
            "layout": "IPY_MODEL_a9163baeb89d4f56aab93fb9908bcd78",
            "max": 130319,
            "min": 0,
            "orientation": "horizontal",
            "style": "IPY_MODEL_7b946dc64b5e44c386630553753026b7",
            "value": 130319
          }
        },
        "697ceae2c7d24eea934b44649da45f1f": {
          "model_module": "@jupyter-widgets/controls",
          "model_module_version": "1.5.0",
          "model_name": "FloatProgressModel",
          "state": {
            "_dom_classes": [],
            "_model_module": "@jupyter-widgets/controls",
            "_model_module_version": "1.5.0",
            "_model_name": "FloatProgressModel",
            "_view_count": null,
            "_view_module": "@jupyter-widgets/controls",
            "_view_module_version": "1.5.0",
            "_view_name": "ProgressView",
            "bar_style": "success",
            "description": "",
            "description_tooltip": null,
            "layout": "IPY_MODEL_f5cbcf04190c4c26ac2db9e7d56d5039",
            "max": 213450,
            "min": 0,
            "orientation": "horizontal",
            "style": "IPY_MODEL_997c98318cc64bec9e46acf38f085b76",
            "value": 213450
          }
        },
        "6c4bf62064294dfa9e40b46a587ff34a": {
          "model_module": "@jupyter-widgets/controls",
          "model_module_version": "1.5.0",
          "model_name": "HBoxModel",
          "state": {
            "_dom_classes": [],
            "_model_module": "@jupyter-widgets/controls",
            "_model_module_version": "1.5.0",
            "_model_name": "HBoxModel",
            "_view_count": null,
            "_view_module": "@jupyter-widgets/controls",
            "_view_module_version": "1.5.0",
            "_view_name": "HBoxView",
            "box_style": "",
            "children": [
              "IPY_MODEL_05efb7a135d04b0a81b4abad0db3517e",
              "IPY_MODEL_1bfcd91d7e0c480ca25dcc53fc1589b3",
              "IPY_MODEL_56ec9ae5c6f34e64b6999c2344585849"
            ],
            "layout": "IPY_MODEL_32e62563cffb4bd5ac93db28db15f47b"
          }
        },
        "70595dc4ca09468fb21d4df110dd27a6": {
          "model_module": "@jupyter-widgets/base",
          "model_module_version": "1.2.0",
          "model_name": "LayoutModel",
          "state": {
            "_model_module": "@jupyter-widgets/base",
            "_model_module_version": "1.2.0",
            "_model_name": "LayoutModel",
            "_view_count": null,
            "_view_module": "@jupyter-widgets/base",
            "_view_module_version": "1.2.0",
            "_view_name": "LayoutView",
            "align_content": null,
            "align_items": null,
            "align_self": null,
            "border": null,
            "bottom": null,
            "display": null,
            "flex": null,
            "flex_flow": null,
            "grid_area": null,
            "grid_auto_columns": null,
            "grid_auto_flow": null,
            "grid_auto_rows": null,
            "grid_column": null,
            "grid_gap": null,
            "grid_row": null,
            "grid_template_areas": null,
            "grid_template_columns": null,
            "grid_template_rows": null,
            "height": null,
            "justify_content": null,
            "justify_items": null,
            "left": null,
            "margin": null,
            "max_height": null,
            "max_width": null,
            "min_height": null,
            "min_width": null,
            "object_fit": null,
            "object_position": null,
            "order": null,
            "overflow": null,
            "overflow_x": null,
            "overflow_y": null,
            "padding": null,
            "right": null,
            "top": null,
            "visibility": null,
            "width": null
          }
        },
        "74661cb5b8794f97a35fedb60ffa0b7a": {
          "model_module": "@jupyter-widgets/controls",
          "model_module_version": "1.5.0",
          "model_name": "FloatProgressModel",
          "state": {
            "_dom_classes": [],
            "_model_module": "@jupyter-widgets/controls",
            "_model_module_version": "1.5.0",
            "_model_name": "FloatProgressModel",
            "_view_count": null,
            "_view_module": "@jupyter-widgets/controls",
            "_view_module_version": "1.5.0",
            "_view_name": "ProgressView",
            "bar_style": "success",
            "description": "",
            "description_tooltip": null,
            "layout": "IPY_MODEL_04d6506b107f408e9901eb1a77663ecd",
            "max": 414,
            "min": 0,
            "orientation": "horizontal",
            "style": "IPY_MODEL_e6ae2709331d464089766f30f6673588",
            "value": 414
          }
        },
        "7b81426c67a740d89b8c8508c7ab6027": {
          "model_module": "@jupyter-widgets/base",
          "model_module_version": "1.2.0",
          "model_name": "LayoutModel",
          "state": {
            "_model_module": "@jupyter-widgets/base",
            "_model_module_version": "1.2.0",
            "_model_name": "LayoutModel",
            "_view_count": null,
            "_view_module": "@jupyter-widgets/base",
            "_view_module_version": "1.2.0",
            "_view_name": "LayoutView",
            "align_content": null,
            "align_items": null,
            "align_self": null,
            "border": null,
            "bottom": null,
            "display": null,
            "flex": null,
            "flex_flow": null,
            "grid_area": null,
            "grid_auto_columns": null,
            "grid_auto_flow": null,
            "grid_auto_rows": null,
            "grid_column": null,
            "grid_gap": null,
            "grid_row": null,
            "grid_template_areas": null,
            "grid_template_columns": null,
            "grid_template_rows": null,
            "height": null,
            "justify_content": null,
            "justify_items": null,
            "left": null,
            "margin": null,
            "max_height": null,
            "max_width": null,
            "min_height": null,
            "min_width": null,
            "object_fit": null,
            "object_position": null,
            "order": null,
            "overflow": null,
            "overflow_x": null,
            "overflow_y": null,
            "padding": null,
            "right": null,
            "top": null,
            "visibility": null,
            "width": null
          }
        },
        "7b946dc64b5e44c386630553753026b7": {
          "model_module": "@jupyter-widgets/controls",
          "model_module_version": "1.5.0",
          "model_name": "ProgressStyleModel",
          "state": {
            "_model_module": "@jupyter-widgets/controls",
            "_model_module_version": "1.5.0",
            "_model_name": "ProgressStyleModel",
            "_view_count": null,
            "_view_module": "@jupyter-widgets/base",
            "_view_module_version": "1.2.0",
            "_view_name": "StyleView",
            "bar_color": null,
            "description_width": ""
          }
        },
        "80dae3ca98eb42b89d09ce05244653bf": {
          "model_module": "@jupyter-widgets/controls",
          "model_module_version": "1.5.0",
          "model_name": "DescriptionStyleModel",
          "state": {
            "_model_module": "@jupyter-widgets/controls",
            "_model_module_version": "1.5.0",
            "_model_name": "DescriptionStyleModel",
            "_view_count": null,
            "_view_module": "@jupyter-widgets/base",
            "_view_module_version": "1.2.0",
            "_view_name": "StyleView",
            "description_width": ""
          }
        },
        "8336d9af28de42ed8502160c6c0439c6": {
          "model_module": "@jupyter-widgets/base",
          "model_module_version": "1.2.0",
          "model_name": "LayoutModel",
          "state": {
            "_model_module": "@jupyter-widgets/base",
            "_model_module_version": "1.2.0",
            "_model_name": "LayoutModel",
            "_view_count": null,
            "_view_module": "@jupyter-widgets/base",
            "_view_module_version": "1.2.0",
            "_view_name": "LayoutView",
            "align_content": null,
            "align_items": null,
            "align_self": null,
            "border": null,
            "bottom": null,
            "display": null,
            "flex": null,
            "flex_flow": null,
            "grid_area": null,
            "grid_auto_columns": null,
            "grid_auto_flow": null,
            "grid_auto_rows": null,
            "grid_column": null,
            "grid_gap": null,
            "grid_row": null,
            "grid_template_areas": null,
            "grid_template_columns": null,
            "grid_template_rows": null,
            "height": null,
            "justify_content": null,
            "justify_items": null,
            "left": null,
            "margin": null,
            "max_height": null,
            "max_width": null,
            "min_height": null,
            "min_width": null,
            "object_fit": null,
            "object_position": null,
            "order": null,
            "overflow": null,
            "overflow_x": null,
            "overflow_y": null,
            "padding": null,
            "right": null,
            "top": null,
            "visibility": null,
            "width": null
          }
        },
        "854b17e26bdb45148ee444a23a92e9b6": {
          "model_module": "@jupyter-widgets/base",
          "model_module_version": "1.2.0",
          "model_name": "LayoutModel",
          "state": {
            "_model_module": "@jupyter-widgets/base",
            "_model_module_version": "1.2.0",
            "_model_name": "LayoutModel",
            "_view_count": null,
            "_view_module": "@jupyter-widgets/base",
            "_view_module_version": "1.2.0",
            "_view_name": "LayoutView",
            "align_content": null,
            "align_items": null,
            "align_self": null,
            "border": null,
            "bottom": null,
            "display": null,
            "flex": null,
            "flex_flow": null,
            "grid_area": null,
            "grid_auto_columns": null,
            "grid_auto_flow": null,
            "grid_auto_rows": null,
            "grid_column": null,
            "grid_gap": null,
            "grid_row": null,
            "grid_template_areas": null,
            "grid_template_columns": null,
            "grid_template_rows": null,
            "height": null,
            "justify_content": null,
            "justify_items": null,
            "left": null,
            "margin": null,
            "max_height": null,
            "max_width": null,
            "min_height": null,
            "min_width": null,
            "object_fit": null,
            "object_position": null,
            "order": null,
            "overflow": null,
            "overflow_x": null,
            "overflow_y": null,
            "padding": null,
            "right": null,
            "top": null,
            "visibility": null,
            "width": "20px"
          }
        },
        "8581584e0e40431c9aa24f8c453fba13": {
          "model_module": "@jupyter-widgets/controls",
          "model_module_version": "1.5.0",
          "model_name": "DescriptionStyleModel",
          "state": {
            "_model_module": "@jupyter-widgets/controls",
            "_model_module_version": "1.5.0",
            "_model_name": "DescriptionStyleModel",
            "_view_count": null,
            "_view_module": "@jupyter-widgets/base",
            "_view_module_version": "1.2.0",
            "_view_name": "StyleView",
            "description_width": ""
          }
        },
        "85aa5068f5a2420ea2629dfb5754a406": {
          "model_module": "@jupyter-widgets/controls",
          "model_module_version": "1.5.0",
          "model_name": "DescriptionStyleModel",
          "state": {
            "_model_module": "@jupyter-widgets/controls",
            "_model_module_version": "1.5.0",
            "_model_name": "DescriptionStyleModel",
            "_view_count": null,
            "_view_module": "@jupyter-widgets/base",
            "_view_module_version": "1.2.0",
            "_view_name": "StyleView",
            "description_width": ""
          }
        },
        "86088db097134165bb4023fc34f92411": {
          "model_module": "@jupyter-widgets/controls",
          "model_module_version": "1.5.0",
          "model_name": "HTMLModel",
          "state": {
            "_dom_classes": [],
            "_model_module": "@jupyter-widgets/controls",
            "_model_module_version": "1.5.0",
            "_model_name": "HTMLModel",
            "_view_count": null,
            "_view_module": "@jupyter-widgets/controls",
            "_view_module_version": "1.5.0",
            "_view_name": "HTMLView",
            "description": "",
            "description_tooltip": null,
            "layout": "IPY_MODEL_b1c2b36f080e4a92be16912f16e3e2ca",
            "placeholder": "​",
            "style": "IPY_MODEL_80dae3ca98eb42b89d09ce05244653bf",
            "value": " 0/0 [00:00&lt;?, ?it/s]"
          }
        },
        "8a1c4cac6e594c1c83649baf691429a2": {
          "model_module": "@jupyter-widgets/controls",
          "model_module_version": "1.5.0",
          "model_name": "FloatProgressModel",
          "state": {
            "_dom_classes": [],
            "_model_module": "@jupyter-widgets/controls",
            "_model_module_version": "1.5.0",
            "_model_name": "FloatProgressModel",
            "_view_count": null,
            "_view_module": "@jupyter-widgets/controls",
            "_view_module_version": "1.5.0",
            "_view_name": "ProgressView",
            "bar_style": "success",
            "description": "",
            "description_tooltip": null,
            "layout": "IPY_MODEL_d061746fa586479fb86077ace01abb7a",
            "max": 11873,
            "min": 0,
            "orientation": "horizontal",
            "style": "IPY_MODEL_2136dfed4aea48d9990705520945f47c",
            "value": 11873
          }
        },
        "8a9c21400c4149a9a62ede0dd66fafdb": {
          "model_module": "@jupyter-widgets/controls",
          "model_module_version": "1.5.0",
          "model_name": "HTMLModel",
          "state": {
            "_dom_classes": [],
            "_model_module": "@jupyter-widgets/controls",
            "_model_module_version": "1.5.0",
            "_model_name": "HTMLModel",
            "_view_count": null,
            "_view_module": "@jupyter-widgets/controls",
            "_view_module_version": "1.5.0",
            "_view_name": "HTMLView",
            "description": "",
            "description_tooltip": null,
            "layout": "IPY_MODEL_db03927fb0f9406db0eaf7ecaba34a6c",
            "placeholder": "​",
            "style": "IPY_MODEL_b1c462131fb4471c8af19bec4cb77f72",
            "value": " 665M/665M [00:06&lt;00:00, 125MB/s]"
          }
        },
        "8aa965ecd0f34cf2b6c2c22f01aa1076": {
          "model_module": "@jupyter-widgets/controls",
          "model_module_version": "1.5.0",
          "model_name": "DescriptionStyleModel",
          "state": {
            "_model_module": "@jupyter-widgets/controls",
            "_model_module_version": "1.5.0",
            "_model_name": "DescriptionStyleModel",
            "_view_count": null,
            "_view_module": "@jupyter-widgets/base",
            "_view_module_version": "1.2.0",
            "_view_name": "StyleView",
            "description_width": ""
          }
        },
        "8e126977e0c44eb68650cfebd5a4f003": {
          "model_module": "@jupyter-widgets/controls",
          "model_module_version": "1.5.0",
          "model_name": "DescriptionStyleModel",
          "state": {
            "_model_module": "@jupyter-widgets/controls",
            "_model_module_version": "1.5.0",
            "_model_name": "DescriptionStyleModel",
            "_view_count": null,
            "_view_module": "@jupyter-widgets/base",
            "_view_module_version": "1.2.0",
            "_view_name": "StyleView",
            "description_width": ""
          }
        },
        "8f55a1aabab14c5193b5a5fb9307a0a6": {
          "model_module": "@jupyter-widgets/controls",
          "model_module_version": "1.5.0",
          "model_name": "HBoxModel",
          "state": {
            "_dom_classes": [],
            "_model_module": "@jupyter-widgets/controls",
            "_model_module_version": "1.5.0",
            "_model_name": "HBoxModel",
            "_view_count": null,
            "_view_module": "@jupyter-widgets/controls",
            "_view_module_version": "1.5.0",
            "_view_name": "HBoxView",
            "box_style": "",
            "children": [
              "IPY_MODEL_209a1f85ff5a418d81301e15f2cd5ebb",
              "IPY_MODEL_a7d4c16c6ebe4b388cdc0ce7e006700c",
              "IPY_MODEL_caa93e49214a456e906a782a6274c376"
            ],
            "layout": "IPY_MODEL_70595dc4ca09468fb21d4df110dd27a6"
          }
        },
        "90b08ce22de147fd8402801476f57c99": {
          "model_module": "@jupyter-widgets/controls",
          "model_module_version": "1.5.0",
          "model_name": "HBoxModel",
          "state": {
            "_dom_classes": [],
            "_model_module": "@jupyter-widgets/controls",
            "_model_module_version": "1.5.0",
            "_model_name": "HBoxModel",
            "_view_count": null,
            "_view_module": "@jupyter-widgets/controls",
            "_view_module_version": "1.5.0",
            "_view_name": "HBoxView",
            "box_style": "",
            "children": [
              "IPY_MODEL_d875bdf3ca32447786b315e0146a1576",
              "IPY_MODEL_697ceae2c7d24eea934b44649da45f1f",
              "IPY_MODEL_2c6c5bb6ca0f445ba7a5005e28456644"
            ],
            "layout": "IPY_MODEL_d64f1b319dc94618a3dc541a2959e34f"
          }
        },
        "928839038930497c9680fdd552f21106": {
          "model_module": "@jupyter-widgets/base",
          "model_module_version": "1.2.0",
          "model_name": "LayoutModel",
          "state": {
            "_model_module": "@jupyter-widgets/base",
            "_model_module_version": "1.2.0",
            "_model_name": "LayoutModel",
            "_view_count": null,
            "_view_module": "@jupyter-widgets/base",
            "_view_module_version": "1.2.0",
            "_view_name": "LayoutView",
            "align_content": null,
            "align_items": null,
            "align_self": null,
            "border": null,
            "bottom": null,
            "display": null,
            "flex": null,
            "flex_flow": null,
            "grid_area": null,
            "grid_auto_columns": null,
            "grid_auto_flow": null,
            "grid_auto_rows": null,
            "grid_column": null,
            "grid_gap": null,
            "grid_row": null,
            "grid_template_areas": null,
            "grid_template_columns": null,
            "grid_template_rows": null,
            "height": null,
            "justify_content": null,
            "justify_items": null,
            "left": null,
            "margin": null,
            "max_height": null,
            "max_width": null,
            "min_height": null,
            "min_width": null,
            "object_fit": null,
            "object_position": null,
            "order": null,
            "overflow": null,
            "overflow_x": null,
            "overflow_y": null,
            "padding": null,
            "right": null,
            "top": null,
            "visibility": null,
            "width": null
          }
        },
        "93a580123be04d9aae70dfbe461a151d": {
          "model_module": "@jupyter-widgets/controls",
          "model_module_version": "1.5.0",
          "model_name": "HBoxModel",
          "state": {
            "_dom_classes": [],
            "_model_module": "@jupyter-widgets/controls",
            "_model_module_version": "1.5.0",
            "_model_name": "HBoxModel",
            "_view_count": null,
            "_view_module": "@jupyter-widgets/controls",
            "_view_module_version": "1.5.0",
            "_view_name": "HBoxView",
            "box_style": "",
            "children": [
              "IPY_MODEL_503e32b14c964535835629a2bb4e4e02",
              "IPY_MODEL_5df3620ba1c84e5bba3b1b680ac83b98",
              "IPY_MODEL_12d1cb82c917464895f55539ff30f229"
            ],
            "layout": "IPY_MODEL_a74d7c635b694110872d15acbc5bc176"
          }
        },
        "94fa10d61e294b28853f63e3a1becc47": {
          "model_module": "@jupyter-widgets/base",
          "model_module_version": "1.2.0",
          "model_name": "LayoutModel",
          "state": {
            "_model_module": "@jupyter-widgets/base",
            "_model_module_version": "1.2.0",
            "_model_name": "LayoutModel",
            "_view_count": null,
            "_view_module": "@jupyter-widgets/base",
            "_view_module_version": "1.2.0",
            "_view_name": "LayoutView",
            "align_content": null,
            "align_items": null,
            "align_self": null,
            "border": null,
            "bottom": null,
            "display": null,
            "flex": null,
            "flex_flow": null,
            "grid_area": null,
            "grid_auto_columns": null,
            "grid_auto_flow": null,
            "grid_auto_rows": null,
            "grid_column": null,
            "grid_gap": null,
            "grid_row": null,
            "grid_template_areas": null,
            "grid_template_columns": null,
            "grid_template_rows": null,
            "height": null,
            "justify_content": null,
            "justify_items": null,
            "left": null,
            "margin": null,
            "max_height": null,
            "max_width": null,
            "min_height": null,
            "min_width": null,
            "object_fit": null,
            "object_position": null,
            "order": null,
            "overflow": null,
            "overflow_x": null,
            "overflow_y": null,
            "padding": null,
            "right": null,
            "top": null,
            "visibility": null,
            "width": null
          }
        },
        "95b3f055c7064dddae37b8d5934b9758": {
          "model_module": "@jupyter-widgets/controls",
          "model_module_version": "1.5.0",
          "model_name": "DescriptionStyleModel",
          "state": {
            "_model_module": "@jupyter-widgets/controls",
            "_model_module_version": "1.5.0",
            "_model_name": "DescriptionStyleModel",
            "_view_count": null,
            "_view_module": "@jupyter-widgets/base",
            "_view_module_version": "1.2.0",
            "_view_name": "StyleView",
            "description_width": ""
          }
        },
        "980a3e37bce84eb3b568910dab184b39": {
          "model_module": "@jupyter-widgets/base",
          "model_module_version": "1.2.0",
          "model_name": "LayoutModel",
          "state": {
            "_model_module": "@jupyter-widgets/base",
            "_model_module_version": "1.2.0",
            "_model_name": "LayoutModel",
            "_view_count": null,
            "_view_module": "@jupyter-widgets/base",
            "_view_module_version": "1.2.0",
            "_view_name": "LayoutView",
            "align_content": null,
            "align_items": null,
            "align_self": null,
            "border": null,
            "bottom": null,
            "display": null,
            "flex": null,
            "flex_flow": null,
            "grid_area": null,
            "grid_auto_columns": null,
            "grid_auto_flow": null,
            "grid_auto_rows": null,
            "grid_column": null,
            "grid_gap": null,
            "grid_row": null,
            "grid_template_areas": null,
            "grid_template_columns": null,
            "grid_template_rows": null,
            "height": null,
            "justify_content": null,
            "justify_items": null,
            "left": null,
            "margin": null,
            "max_height": null,
            "max_width": null,
            "min_height": null,
            "min_width": null,
            "object_fit": null,
            "object_position": null,
            "order": null,
            "overflow": null,
            "overflow_x": null,
            "overflow_y": null,
            "padding": null,
            "right": null,
            "top": null,
            "visibility": null,
            "width": null
          }
        },
        "98857e2e801c4322b7ea5b6220a59ff0": {
          "model_module": "@jupyter-widgets/controls",
          "model_module_version": "1.5.0",
          "model_name": "FloatProgressModel",
          "state": {
            "_dom_classes": [],
            "_model_module": "@jupyter-widgets/controls",
            "_model_module_version": "1.5.0",
            "_model_name": "FloatProgressModel",
            "_view_count": null,
            "_view_module": "@jupyter-widgets/controls",
            "_view_module_version": "1.5.0",
            "_view_name": "ProgressView",
            "bar_style": "success",
            "description": "",
            "description_tooltip": null,
            "layout": "IPY_MODEL_553092b939da458da9c9592581f73acd",
            "max": 15000,
            "min": 0,
            "orientation": "horizontal",
            "style": "IPY_MODEL_3e1bdea473ae49bf8f28cab20a3e8ba4",
            "value": 15000
          }
        },
        "997c98318cc64bec9e46acf38f085b76": {
          "model_module": "@jupyter-widgets/controls",
          "model_module_version": "1.5.0",
          "model_name": "ProgressStyleModel",
          "state": {
            "_model_module": "@jupyter-widgets/controls",
            "_model_module_version": "1.5.0",
            "_model_name": "ProgressStyleModel",
            "_view_count": null,
            "_view_module": "@jupyter-widgets/base",
            "_view_module_version": "1.2.0",
            "_view_name": "StyleView",
            "bar_color": null,
            "description_width": ""
          }
        },
        "9b3d3124f05e44b7bb1ae8a9f436e3ba": {
          "model_module": "@jupyter-widgets/controls",
          "model_module_version": "1.5.0",
          "model_name": "ProgressStyleModel",
          "state": {
            "_model_module": "@jupyter-widgets/controls",
            "_model_module_version": "1.5.0",
            "_model_name": "ProgressStyleModel",
            "_view_count": null,
            "_view_module": "@jupyter-widgets/base",
            "_view_module_version": "1.2.0",
            "_view_name": "StyleView",
            "bar_color": null,
            "description_width": ""
          }
        },
        "9e057c05b4604080916a7c3ce8c967ef": {
          "model_module": "@jupyter-widgets/controls",
          "model_module_version": "1.5.0",
          "model_name": "DescriptionStyleModel",
          "state": {
            "_model_module": "@jupyter-widgets/controls",
            "_model_module_version": "1.5.0",
            "_model_name": "DescriptionStyleModel",
            "_view_count": null,
            "_view_module": "@jupyter-widgets/base",
            "_view_module_version": "1.2.0",
            "_view_name": "StyleView",
            "description_width": ""
          }
        },
        "9e1a7277c02744ccaf17b67eaaafa4c4": {
          "model_module": "@jupyter-widgets/base",
          "model_module_version": "1.2.0",
          "model_name": "LayoutModel",
          "state": {
            "_model_module": "@jupyter-widgets/base",
            "_model_module_version": "1.2.0",
            "_model_name": "LayoutModel",
            "_view_count": null,
            "_view_module": "@jupyter-widgets/base",
            "_view_module_version": "1.2.0",
            "_view_name": "LayoutView",
            "align_content": null,
            "align_items": null,
            "align_self": null,
            "border": null,
            "bottom": null,
            "display": null,
            "flex": null,
            "flex_flow": null,
            "grid_area": null,
            "grid_auto_columns": null,
            "grid_auto_flow": null,
            "grid_auto_rows": null,
            "grid_column": null,
            "grid_gap": null,
            "grid_row": null,
            "grid_template_areas": null,
            "grid_template_columns": null,
            "grid_template_rows": null,
            "height": null,
            "justify_content": null,
            "justify_items": null,
            "left": null,
            "margin": null,
            "max_height": null,
            "max_width": null,
            "min_height": null,
            "min_width": null,
            "object_fit": null,
            "object_position": null,
            "order": null,
            "overflow": null,
            "overflow_x": null,
            "overflow_y": null,
            "padding": null,
            "right": null,
            "top": null,
            "visibility": null,
            "width": null
          }
        },
        "a07610523d5d4167b3c595200d95b780": {
          "model_module": "@jupyter-widgets/controls",
          "model_module_version": "1.5.0",
          "model_name": "DescriptionStyleModel",
          "state": {
            "_model_module": "@jupyter-widgets/controls",
            "_model_module_version": "1.5.0",
            "_model_name": "DescriptionStyleModel",
            "_view_count": null,
            "_view_module": "@jupyter-widgets/base",
            "_view_module_version": "1.2.0",
            "_view_name": "StyleView",
            "description_width": ""
          }
        },
        "a635fe004f844e57a4cc654192992b20": {
          "model_module": "@jupyter-widgets/controls",
          "model_module_version": "1.5.0",
          "model_name": "HTMLModel",
          "state": {
            "_dom_classes": [],
            "_model_module": "@jupyter-widgets/controls",
            "_model_module_version": "1.5.0",
            "_model_name": "HTMLModel",
            "_view_count": null,
            "_view_module": "@jupyter-widgets/controls",
            "_view_module_version": "1.5.0",
            "_view_name": "HTMLView",
            "description": "",
            "description_tooltip": null,
            "layout": "IPY_MODEL_daf2d19f649949c3af0e7ddac57f32b9",
            "placeholder": "​",
            "style": "IPY_MODEL_a07610523d5d4167b3c595200d95b780",
            "value": ""
          }
        },
        "a74d7c635b694110872d15acbc5bc176": {
          "model_module": "@jupyter-widgets/base",
          "model_module_version": "1.2.0",
          "model_name": "LayoutModel",
          "state": {
            "_model_module": "@jupyter-widgets/base",
            "_model_module_version": "1.2.0",
            "_model_name": "LayoutModel",
            "_view_count": null,
            "_view_module": "@jupyter-widgets/base",
            "_view_module_version": "1.2.0",
            "_view_name": "LayoutView",
            "align_content": null,
            "align_items": null,
            "align_self": null,
            "border": null,
            "bottom": null,
            "display": null,
            "flex": null,
            "flex_flow": null,
            "grid_area": null,
            "grid_auto_columns": null,
            "grid_auto_flow": null,
            "grid_auto_rows": null,
            "grid_column": null,
            "grid_gap": null,
            "grid_row": null,
            "grid_template_areas": null,
            "grid_template_columns": null,
            "grid_template_rows": null,
            "height": null,
            "justify_content": null,
            "justify_items": null,
            "left": null,
            "margin": null,
            "max_height": null,
            "max_width": null,
            "min_height": null,
            "min_width": null,
            "object_fit": null,
            "object_position": null,
            "order": null,
            "overflow": null,
            "overflow_x": null,
            "overflow_y": null,
            "padding": null,
            "right": null,
            "top": null,
            "visibility": null,
            "width": null
          }
        },
        "a7d4c16c6ebe4b388cdc0ce7e006700c": {
          "model_module": "@jupyter-widgets/controls",
          "model_module_version": "1.5.0",
          "model_name": "FloatProgressModel",
          "state": {
            "_dom_classes": [],
            "_model_module": "@jupyter-widgets/controls",
            "_model_module_version": "1.5.0",
            "_model_name": "FloatProgressModel",
            "_view_count": null,
            "_view_module": "@jupyter-widgets/controls",
            "_view_module_version": "1.5.0",
            "_view_name": "ProgressView",
            "bar_style": "success",
            "description": "",
            "description_tooltip": null,
            "layout": "IPY_MODEL_d0b349b2d7674c3ea7605eab5389f34f",
            "max": 1350511,
            "min": 0,
            "orientation": "horizontal",
            "style": "IPY_MODEL_d7d23c58e6d6481aa355a5a9ca91e7f0",
            "value": 1350511
          }
        },
        "a9163baeb89d4f56aab93fb9908bcd78": {
          "model_module": "@jupyter-widgets/base",
          "model_module_version": "1.2.0",
          "model_name": "LayoutModel",
          "state": {
            "_model_module": "@jupyter-widgets/base",
            "_model_module_version": "1.2.0",
            "_model_name": "LayoutModel",
            "_view_count": null,
            "_view_module": "@jupyter-widgets/base",
            "_view_module_version": "1.2.0",
            "_view_name": "LayoutView",
            "align_content": null,
            "align_items": null,
            "align_self": null,
            "border": null,
            "bottom": null,
            "display": null,
            "flex": null,
            "flex_flow": null,
            "grid_area": null,
            "grid_auto_columns": null,
            "grid_auto_flow": null,
            "grid_auto_rows": null,
            "grid_column": null,
            "grid_gap": null,
            "grid_row": null,
            "grid_template_areas": null,
            "grid_template_columns": null,
            "grid_template_rows": null,
            "height": null,
            "justify_content": null,
            "justify_items": null,
            "left": null,
            "margin": null,
            "max_height": null,
            "max_width": null,
            "min_height": null,
            "min_width": null,
            "object_fit": null,
            "object_position": null,
            "order": null,
            "overflow": null,
            "overflow_x": null,
            "overflow_y": null,
            "padding": null,
            "right": null,
            "top": null,
            "visibility": null,
            "width": null
          }
        },
        "ad5ac0d45eab42ce97a04718b062dd92": {
          "model_module": "@jupyter-widgets/base",
          "model_module_version": "1.2.0",
          "model_name": "LayoutModel",
          "state": {
            "_model_module": "@jupyter-widgets/base",
            "_model_module_version": "1.2.0",
            "_model_name": "LayoutModel",
            "_view_count": null,
            "_view_module": "@jupyter-widgets/base",
            "_view_module_version": "1.2.0",
            "_view_name": "LayoutView",
            "align_content": null,
            "align_items": null,
            "align_self": null,
            "border": null,
            "bottom": null,
            "display": null,
            "flex": null,
            "flex_flow": null,
            "grid_area": null,
            "grid_auto_columns": null,
            "grid_auto_flow": null,
            "grid_auto_rows": null,
            "grid_column": null,
            "grid_gap": null,
            "grid_row": null,
            "grid_template_areas": null,
            "grid_template_columns": null,
            "grid_template_rows": null,
            "height": null,
            "justify_content": null,
            "justify_items": null,
            "left": null,
            "margin": null,
            "max_height": null,
            "max_width": null,
            "min_height": null,
            "min_width": null,
            "object_fit": null,
            "object_position": null,
            "order": null,
            "overflow": null,
            "overflow_x": null,
            "overflow_y": null,
            "padding": null,
            "right": null,
            "top": null,
            "visibility": null,
            "width": null
          }
        },
        "aec9dbbd73f242a3a770741ea76ed257": {
          "model_module": "@jupyter-widgets/base",
          "model_module_version": "1.2.0",
          "model_name": "LayoutModel",
          "state": {
            "_model_module": "@jupyter-widgets/base",
            "_model_module_version": "1.2.0",
            "_model_name": "LayoutModel",
            "_view_count": null,
            "_view_module": "@jupyter-widgets/base",
            "_view_module_version": "1.2.0",
            "_view_name": "LayoutView",
            "align_content": null,
            "align_items": null,
            "align_self": null,
            "border": null,
            "bottom": null,
            "display": null,
            "flex": null,
            "flex_flow": null,
            "grid_area": null,
            "grid_auto_columns": null,
            "grid_auto_flow": null,
            "grid_auto_rows": null,
            "grid_column": null,
            "grid_gap": null,
            "grid_row": null,
            "grid_template_areas": null,
            "grid_template_columns": null,
            "grid_template_rows": null,
            "height": null,
            "justify_content": null,
            "justify_items": null,
            "left": null,
            "margin": null,
            "max_height": null,
            "max_width": null,
            "min_height": null,
            "min_width": null,
            "object_fit": null,
            "object_position": null,
            "order": null,
            "overflow": null,
            "overflow_x": null,
            "overflow_y": null,
            "padding": null,
            "right": null,
            "top": null,
            "visibility": null,
            "width": null
          }
        },
        "aee4c18ab3774bea8dd91dfadc442291": {
          "model_module": "@jupyter-widgets/base",
          "model_module_version": "1.2.0",
          "model_name": "LayoutModel",
          "state": {
            "_model_module": "@jupyter-widgets/base",
            "_model_module_version": "1.2.0",
            "_model_name": "LayoutModel",
            "_view_count": null,
            "_view_module": "@jupyter-widgets/base",
            "_view_module_version": "1.2.0",
            "_view_name": "LayoutView",
            "align_content": null,
            "align_items": null,
            "align_self": null,
            "border": null,
            "bottom": null,
            "display": null,
            "flex": null,
            "flex_flow": null,
            "grid_area": null,
            "grid_auto_columns": null,
            "grid_auto_flow": null,
            "grid_auto_rows": null,
            "grid_column": null,
            "grid_gap": null,
            "grid_row": null,
            "grid_template_areas": null,
            "grid_template_columns": null,
            "grid_template_rows": null,
            "height": null,
            "justify_content": null,
            "justify_items": null,
            "left": null,
            "margin": null,
            "max_height": null,
            "max_width": null,
            "min_height": null,
            "min_width": null,
            "object_fit": null,
            "object_position": null,
            "order": null,
            "overflow": null,
            "overflow_x": null,
            "overflow_y": null,
            "padding": null,
            "right": null,
            "top": null,
            "visibility": null,
            "width": null
          }
        },
        "b03d04ee64964ffd8c1818db3729f1e6": {
          "model_module": "@jupyter-widgets/controls",
          "model_module_version": "1.5.0",
          "model_name": "ProgressStyleModel",
          "state": {
            "_model_module": "@jupyter-widgets/controls",
            "_model_module_version": "1.5.0",
            "_model_name": "ProgressStyleModel",
            "_view_count": null,
            "_view_module": "@jupyter-widgets/base",
            "_view_module_version": "1.2.0",
            "_view_name": "StyleView",
            "bar_color": null,
            "description_width": ""
          }
        },
        "b1c2b36f080e4a92be16912f16e3e2ca": {
          "model_module": "@jupyter-widgets/base",
          "model_module_version": "1.2.0",
          "model_name": "LayoutModel",
          "state": {
            "_model_module": "@jupyter-widgets/base",
            "_model_module_version": "1.2.0",
            "_model_name": "LayoutModel",
            "_view_count": null,
            "_view_module": "@jupyter-widgets/base",
            "_view_module_version": "1.2.0",
            "_view_name": "LayoutView",
            "align_content": null,
            "align_items": null,
            "align_self": null,
            "border": null,
            "bottom": null,
            "display": null,
            "flex": null,
            "flex_flow": null,
            "grid_area": null,
            "grid_auto_columns": null,
            "grid_auto_flow": null,
            "grid_auto_rows": null,
            "grid_column": null,
            "grid_gap": null,
            "grid_row": null,
            "grid_template_areas": null,
            "grid_template_columns": null,
            "grid_template_rows": null,
            "height": null,
            "justify_content": null,
            "justify_items": null,
            "left": null,
            "margin": null,
            "max_height": null,
            "max_width": null,
            "min_height": null,
            "min_width": null,
            "object_fit": null,
            "object_position": null,
            "order": null,
            "overflow": null,
            "overflow_x": null,
            "overflow_y": null,
            "padding": null,
            "right": null,
            "top": null,
            "visibility": null,
            "width": null
          }
        },
        "b1c462131fb4471c8af19bec4cb77f72": {
          "model_module": "@jupyter-widgets/controls",
          "model_module_version": "1.5.0",
          "model_name": "DescriptionStyleModel",
          "state": {
            "_model_module": "@jupyter-widgets/controls",
            "_model_module_version": "1.5.0",
            "_model_name": "DescriptionStyleModel",
            "_view_count": null,
            "_view_module": "@jupyter-widgets/base",
            "_view_module_version": "1.2.0",
            "_view_name": "StyleView",
            "description_width": ""
          }
        },
        "b39d3e3bcb374905806bc074fc85d88f": {
          "model_module": "@jupyter-widgets/controls",
          "model_module_version": "1.5.0",
          "model_name": "HTMLModel",
          "state": {
            "_dom_classes": [],
            "_model_module": "@jupyter-widgets/controls",
            "_model_module_version": "1.5.0",
            "_model_name": "HTMLModel",
            "_view_count": null,
            "_view_module": "@jupyter-widgets/controls",
            "_view_module_version": "1.5.0",
            "_view_name": "HTMLView",
            "description": "",
            "description_tooltip": null,
            "layout": "IPY_MODEL_32b0fba0a6104f92ac5a08f2d2fed2d9",
            "placeholder": "​",
            "style": "IPY_MODEL_c6c36acc645e4b03a91db9062f71e73c",
            "value": "Map: 100%"
          }
        },
        "b4303aa8079e4058862b479bcb23aebf": {
          "model_module": "@jupyter-widgets/controls",
          "model_module_version": "1.5.0",
          "model_name": "HTMLModel",
          "state": {
            "_dom_classes": [],
            "_model_module": "@jupyter-widgets/controls",
            "_model_module_version": "1.5.0",
            "_model_name": "HTMLModel",
            "_view_count": null,
            "_view_module": "@jupyter-widgets/controls",
            "_view_module_version": "1.5.0",
            "_view_name": "HTMLView",
            "description": "",
            "description_tooltip": null,
            "layout": "IPY_MODEL_17f04a3e2d56405e817b29b54f198f60",
            "placeholder": "​",
            "style": "IPY_MODEL_5e3edb5bc29c49e8be16981d67ab34fc",
            "value": " 16.4M/16.4M [00:00&lt;00:00, 35.1MB/s]"
          }
        },
        "b43a68e9ecfc43bba96b9f452b1ef53a": {
          "model_module": "@jupyter-widgets/controls",
          "model_module_version": "1.5.0",
          "model_name": "FloatProgressModel",
          "state": {
            "_dom_classes": [],
            "_model_module": "@jupyter-widgets/controls",
            "_model_module_version": "1.5.0",
            "_model_name": "FloatProgressModel",
            "_view_count": null,
            "_view_module": "@jupyter-widgets/controls",
            "_view_module_version": "1.5.0",
            "_view_name": "ProgressView",
            "bar_style": "success",
            "description": "",
            "description_tooltip": null,
            "layout": "IPY_MODEL_9e1a7277c02744ccaf17b67eaaafa4c4",
            "max": 16369982,
            "min": 0,
            "orientation": "horizontal",
            "style": "IPY_MODEL_4f1ea9cc340f4c96a886477bad45acd7",
            "value": 16369982
          }
        },
        "b6c7c1ee0e66426c894df51ae4dfc9e0": {
          "model_module": "@jupyter-widgets/controls",
          "model_module_version": "1.5.0",
          "model_name": "HTMLModel",
          "state": {
            "_dom_classes": [],
            "_model_module": "@jupyter-widgets/controls",
            "_model_module_version": "1.5.0",
            "_model_name": "HTMLModel",
            "_view_count": null,
            "_view_module": "@jupyter-widgets/controls",
            "_view_module_version": "1.5.0",
            "_view_name": "HTMLView",
            "description": "",
            "description_tooltip": null,
            "layout": "IPY_MODEL_d876afc6323641e8942e274833eb4ee1",
            "placeholder": "​",
            "style": "IPY_MODEL_d16e95704beb4ba29cb111f2501e72ab",
            "value": " 130319/130319 [00:00&lt;00:00, 160108.96 examples/s]"
          }
        },
        "c4a77256888140018d97acb4113b4070": {
          "model_module": "@jupyter-widgets/controls",
          "model_module_version": "1.5.0",
          "model_name": "HBoxModel",
          "state": {
            "_dom_classes": [],
            "_model_module": "@jupyter-widgets/controls",
            "_model_module_version": "1.5.0",
            "_model_name": "HBoxModel",
            "_view_count": null,
            "_view_module": "@jupyter-widgets/controls",
            "_view_module_version": "1.5.0",
            "_view_name": "HBoxView",
            "box_style": "",
            "children": [
              "IPY_MODEL_149f5a85e19c4f6faf3da8265e252d1b",
              "IPY_MODEL_b43a68e9ecfc43bba96b9f452b1ef53a",
              "IPY_MODEL_b4303aa8079e4058862b479bcb23aebf"
            ],
            "layout": "IPY_MODEL_445b8b16be3e40a9bc2b45a87ed16923"
          }
        },
        "c4ced04fc54940ceb31c65ecada45378": {
          "model_module": "@jupyter-widgets/controls",
          "model_module_version": "1.5.0",
          "model_name": "HTMLModel",
          "state": {
            "_dom_classes": [],
            "_model_module": "@jupyter-widgets/controls",
            "_model_module_version": "1.5.0",
            "_model_name": "HTMLModel",
            "_view_count": null,
            "_view_module": "@jupyter-widgets/controls",
            "_view_module_version": "1.5.0",
            "_view_name": "HTMLView",
            "description": "",
            "description_tooltip": null,
            "layout": "IPY_MODEL_042d66f8cf0a4e609bc00f3cdb5c4402",
            "placeholder": "​",
            "style": "IPY_MODEL_25c785b95e99445f849128a2dab1f0d8",
            "value": " 8.92k/8.92k [00:00&lt;00:00, 254kB/s]"
          }
        },
        "c6c36acc645e4b03a91db9062f71e73c": {
          "model_module": "@jupyter-widgets/controls",
          "model_module_version": "1.5.0",
          "model_name": "DescriptionStyleModel",
          "state": {
            "_model_module": "@jupyter-widgets/controls",
            "_model_module_version": "1.5.0",
            "_model_name": "DescriptionStyleModel",
            "_view_count": null,
            "_view_module": "@jupyter-widgets/base",
            "_view_module_version": "1.2.0",
            "_view_name": "StyleView",
            "description_width": ""
          }
        },
        "caa93e49214a456e906a782a6274c376": {
          "model_module": "@jupyter-widgets/controls",
          "model_module_version": "1.5.0",
          "model_name": "HTMLModel",
          "state": {
            "_dom_classes": [],
            "_model_module": "@jupyter-widgets/controls",
            "_model_module_version": "1.5.0",
            "_model_name": "HTMLModel",
            "_view_count": null,
            "_view_module": "@jupyter-widgets/controls",
            "_view_module_version": "1.5.0",
            "_view_name": "HTMLView",
            "description": "",
            "description_tooltip": null,
            "layout": "IPY_MODEL_3ceffebd5ae049bcbd020938d914eec4",
            "placeholder": "​",
            "style": "IPY_MODEL_3fc3b21ce39c40d5a94742da9805a511",
            "value": " 1.35M/1.35M [00:00&lt;00:00, 28.2MB/s]"
          }
        },
        "d061746fa586479fb86077ace01abb7a": {
          "model_module": "@jupyter-widgets/base",
          "model_module_version": "1.2.0",
          "model_name": "LayoutModel",
          "state": {
            "_model_module": "@jupyter-widgets/base",
            "_model_module_version": "1.2.0",
            "_model_name": "LayoutModel",
            "_view_count": null,
            "_view_module": "@jupyter-widgets/base",
            "_view_module_version": "1.2.0",
            "_view_name": "LayoutView",
            "align_content": null,
            "align_items": null,
            "align_self": null,
            "border": null,
            "bottom": null,
            "display": null,
            "flex": null,
            "flex_flow": null,
            "grid_area": null,
            "grid_auto_columns": null,
            "grid_auto_flow": null,
            "grid_auto_rows": null,
            "grid_column": null,
            "grid_gap": null,
            "grid_row": null,
            "grid_template_areas": null,
            "grid_template_columns": null,
            "grid_template_rows": null,
            "height": null,
            "justify_content": null,
            "justify_items": null,
            "left": null,
            "margin": null,
            "max_height": null,
            "max_width": null,
            "min_height": null,
            "min_width": null,
            "object_fit": null,
            "object_position": null,
            "order": null,
            "overflow": null,
            "overflow_x": null,
            "overflow_y": null,
            "padding": null,
            "right": null,
            "top": null,
            "visibility": null,
            "width": null
          }
        },
        "d08fade8e7964c53a5e2f672fa537e13": {
          "model_module": "@jupyter-widgets/controls",
          "model_module_version": "1.5.0",
          "model_name": "HBoxModel",
          "state": {
            "_dom_classes": [],
            "_model_module": "@jupyter-widgets/controls",
            "_model_module_version": "1.5.0",
            "_model_name": "HBoxModel",
            "_view_count": null,
            "_view_module": "@jupyter-widgets/controls",
            "_view_module_version": "1.5.0",
            "_view_name": "HBoxView",
            "box_style": "",
            "children": [
              "IPY_MODEL_da96642d656d469ca4e47ac6c815633a",
              "IPY_MODEL_d4f7b82cfb5e4bab986e702eb9f9a690",
              "IPY_MODEL_8a9c21400c4149a9a62ede0dd66fafdb"
            ],
            "layout": "IPY_MODEL_ecd4d3caa3ff4e479faa35642e057b82"
          }
        },
        "d0b349b2d7674c3ea7605eab5389f34f": {
          "model_module": "@jupyter-widgets/base",
          "model_module_version": "1.2.0",
          "model_name": "LayoutModel",
          "state": {
            "_model_module": "@jupyter-widgets/base",
            "_model_module_version": "1.2.0",
            "_model_name": "LayoutModel",
            "_view_count": null,
            "_view_module": "@jupyter-widgets/base",
            "_view_module_version": "1.2.0",
            "_view_name": "LayoutView",
            "align_content": null,
            "align_items": null,
            "align_self": null,
            "border": null,
            "bottom": null,
            "display": null,
            "flex": null,
            "flex_flow": null,
            "grid_area": null,
            "grid_auto_columns": null,
            "grid_auto_flow": null,
            "grid_auto_rows": null,
            "grid_column": null,
            "grid_gap": null,
            "grid_row": null,
            "grid_template_areas": null,
            "grid_template_columns": null,
            "grid_template_rows": null,
            "height": null,
            "justify_content": null,
            "justify_items": null,
            "left": null,
            "margin": null,
            "max_height": null,
            "max_width": null,
            "min_height": null,
            "min_width": null,
            "object_fit": null,
            "object_position": null,
            "order": null,
            "overflow": null,
            "overflow_x": null,
            "overflow_y": null,
            "padding": null,
            "right": null,
            "top": null,
            "visibility": null,
            "width": null
          }
        },
        "d16e95704beb4ba29cb111f2501e72ab": {
          "model_module": "@jupyter-widgets/controls",
          "model_module_version": "1.5.0",
          "model_name": "DescriptionStyleModel",
          "state": {
            "_model_module": "@jupyter-widgets/controls",
            "_model_module_version": "1.5.0",
            "_model_name": "DescriptionStyleModel",
            "_view_count": null,
            "_view_module": "@jupyter-widgets/base",
            "_view_module_version": "1.2.0",
            "_view_name": "StyleView",
            "description_width": ""
          }
        },
        "d234fe26b7c44dddb77164f9813d1ebd": {
          "model_module": "@jupyter-widgets/base",
          "model_module_version": "1.2.0",
          "model_name": "LayoutModel",
          "state": {
            "_model_module": "@jupyter-widgets/base",
            "_model_module_version": "1.2.0",
            "_model_name": "LayoutModel",
            "_view_count": null,
            "_view_module": "@jupyter-widgets/base",
            "_view_module_version": "1.2.0",
            "_view_name": "LayoutView",
            "align_content": null,
            "align_items": null,
            "align_self": null,
            "border": null,
            "bottom": null,
            "display": null,
            "flex": null,
            "flex_flow": null,
            "grid_area": null,
            "grid_auto_columns": null,
            "grid_auto_flow": null,
            "grid_auto_rows": null,
            "grid_column": null,
            "grid_gap": null,
            "grid_row": null,
            "grid_template_areas": null,
            "grid_template_columns": null,
            "grid_template_rows": null,
            "height": null,
            "justify_content": null,
            "justify_items": null,
            "left": null,
            "margin": null,
            "max_height": null,
            "max_width": null,
            "min_height": null,
            "min_width": null,
            "object_fit": null,
            "object_position": null,
            "order": null,
            "overflow": null,
            "overflow_x": null,
            "overflow_y": null,
            "padding": null,
            "right": null,
            "top": null,
            "visibility": null,
            "width": null
          }
        },
        "d4f7b82cfb5e4bab986e702eb9f9a690": {
          "model_module": "@jupyter-widgets/controls",
          "model_module_version": "1.5.0",
          "model_name": "FloatProgressModel",
          "state": {
            "_dom_classes": [],
            "_model_module": "@jupyter-widgets/controls",
            "_model_module_version": "1.5.0",
            "_model_name": "FloatProgressModel",
            "_view_count": null,
            "_view_module": "@jupyter-widgets/controls",
            "_view_module_version": "1.5.0",
            "_view_name": "ProgressView",
            "bar_style": "success",
            "description": "",
            "description_tooltip": null,
            "layout": "IPY_MODEL_eafc72fe071e46aeb1ce70ea44a82ea5",
            "max": 665105704,
            "min": 0,
            "orientation": "horizontal",
            "style": "IPY_MODEL_b03d04ee64964ffd8c1818db3729f1e6",
            "value": 665105704
          }
        },
        "d64f1b319dc94618a3dc541a2959e34f": {
          "model_module": "@jupyter-widgets/base",
          "model_module_version": "1.2.0",
          "model_name": "LayoutModel",
          "state": {
            "_model_module": "@jupyter-widgets/base",
            "_model_module_version": "1.2.0",
            "_model_name": "LayoutModel",
            "_view_count": null,
            "_view_module": "@jupyter-widgets/base",
            "_view_module_version": "1.2.0",
            "_view_name": "LayoutView",
            "align_content": null,
            "align_items": null,
            "align_self": null,
            "border": null,
            "bottom": null,
            "display": null,
            "flex": null,
            "flex_flow": null,
            "grid_area": null,
            "grid_auto_columns": null,
            "grid_auto_flow": null,
            "grid_auto_rows": null,
            "grid_column": null,
            "grid_gap": null,
            "grid_row": null,
            "grid_template_areas": null,
            "grid_template_columns": null,
            "grid_template_rows": null,
            "height": null,
            "justify_content": null,
            "justify_items": null,
            "left": null,
            "margin": null,
            "max_height": null,
            "max_width": null,
            "min_height": null,
            "min_width": null,
            "object_fit": null,
            "object_position": null,
            "order": null,
            "overflow": null,
            "overflow_x": null,
            "overflow_y": null,
            "padding": null,
            "right": null,
            "top": null,
            "visibility": null,
            "width": null
          }
        },
        "d7d23c58e6d6481aa355a5a9ca91e7f0": {
          "model_module": "@jupyter-widgets/controls",
          "model_module_version": "1.5.0",
          "model_name": "ProgressStyleModel",
          "state": {
            "_model_module": "@jupyter-widgets/controls",
            "_model_module_version": "1.5.0",
            "_model_name": "ProgressStyleModel",
            "_view_count": null,
            "_view_module": "@jupyter-widgets/base",
            "_view_module_version": "1.2.0",
            "_view_name": "StyleView",
            "bar_color": null,
            "description_width": ""
          }
        },
        "d875bdf3ca32447786b315e0146a1576": {
          "model_module": "@jupyter-widgets/controls",
          "model_module_version": "1.5.0",
          "model_name": "HTMLModel",
          "state": {
            "_dom_classes": [],
            "_model_module": "@jupyter-widgets/controls",
            "_model_module_version": "1.5.0",
            "_model_name": "HTMLModel",
            "_view_count": null,
            "_view_module": "@jupyter-widgets/controls",
            "_view_module_version": "1.5.0",
            "_view_name": "HTMLView",
            "description": "",
            "description_tooltip": null,
            "layout": "IPY_MODEL_7b81426c67a740d89b8c8508c7ab6027",
            "placeholder": "​",
            "style": "IPY_MODEL_fcc2a0b8a5634bcf884c505ea8e37ef7",
            "value": "vocab.txt: 100%"
          }
        },
        "d876afc6323641e8942e274833eb4ee1": {
          "model_module": "@jupyter-widgets/base",
          "model_module_version": "1.2.0",
          "model_name": "LayoutModel",
          "state": {
            "_model_module": "@jupyter-widgets/base",
            "_model_module_version": "1.2.0",
            "_model_name": "LayoutModel",
            "_view_count": null,
            "_view_module": "@jupyter-widgets/base",
            "_view_module_version": "1.2.0",
            "_view_name": "LayoutView",
            "align_content": null,
            "align_items": null,
            "align_self": null,
            "border": null,
            "bottom": null,
            "display": null,
            "flex": null,
            "flex_flow": null,
            "grid_area": null,
            "grid_auto_columns": null,
            "grid_auto_flow": null,
            "grid_auto_rows": null,
            "grid_column": null,
            "grid_gap": null,
            "grid_row": null,
            "grid_template_areas": null,
            "grid_template_columns": null,
            "grid_template_rows": null,
            "height": null,
            "justify_content": null,
            "justify_items": null,
            "left": null,
            "margin": null,
            "max_height": null,
            "max_width": null,
            "min_height": null,
            "min_width": null,
            "object_fit": null,
            "object_position": null,
            "order": null,
            "overflow": null,
            "overflow_x": null,
            "overflow_y": null,
            "padding": null,
            "right": null,
            "top": null,
            "visibility": null,
            "width": null
          }
        },
        "da0f87ffc89543f6bbfe2c1be10e8c6c": {
          "model_module": "@jupyter-widgets/base",
          "model_module_version": "1.2.0",
          "model_name": "LayoutModel",
          "state": {
            "_model_module": "@jupyter-widgets/base",
            "_model_module_version": "1.2.0",
            "_model_name": "LayoutModel",
            "_view_count": null,
            "_view_module": "@jupyter-widgets/base",
            "_view_module_version": "1.2.0",
            "_view_name": "LayoutView",
            "align_content": null,
            "align_items": null,
            "align_self": null,
            "border": null,
            "bottom": null,
            "display": null,
            "flex": null,
            "flex_flow": null,
            "grid_area": null,
            "grid_auto_columns": null,
            "grid_auto_flow": null,
            "grid_auto_rows": null,
            "grid_column": null,
            "grid_gap": null,
            "grid_row": null,
            "grid_template_areas": null,
            "grid_template_columns": null,
            "grid_template_rows": null,
            "height": null,
            "justify_content": null,
            "justify_items": null,
            "left": null,
            "margin": null,
            "max_height": null,
            "max_width": null,
            "min_height": null,
            "min_width": null,
            "object_fit": null,
            "object_position": null,
            "order": null,
            "overflow": null,
            "overflow_x": null,
            "overflow_y": null,
            "padding": null,
            "right": null,
            "top": null,
            "visibility": null,
            "width": null
          }
        },
        "da96642d656d469ca4e47ac6c815633a": {
          "model_module": "@jupyter-widgets/controls",
          "model_module_version": "1.5.0",
          "model_name": "HTMLModel",
          "state": {
            "_dom_classes": [],
            "_model_module": "@jupyter-widgets/controls",
            "_model_module_version": "1.5.0",
            "_model_name": "HTMLModel",
            "_view_count": null,
            "_view_module": "@jupyter-widgets/controls",
            "_view_module_version": "1.5.0",
            "_view_name": "HTMLView",
            "description": "",
            "description_tooltip": null,
            "layout": "IPY_MODEL_ad5ac0d45eab42ce97a04718b062dd92",
            "placeholder": "​",
            "style": "IPY_MODEL_1cadd741344241eea8610f1e09f7e4cc",
            "value": "model.safetensors: 100%"
          }
        },
        "daf2d19f649949c3af0e7ddac57f32b9": {
          "model_module": "@jupyter-widgets/base",
          "model_module_version": "1.2.0",
          "model_name": "LayoutModel",
          "state": {
            "_model_module": "@jupyter-widgets/base",
            "_model_module_version": "1.2.0",
            "_model_name": "LayoutModel",
            "_view_count": null,
            "_view_module": "@jupyter-widgets/base",
            "_view_module_version": "1.2.0",
            "_view_name": "LayoutView",
            "align_content": null,
            "align_items": null,
            "align_self": null,
            "border": null,
            "bottom": null,
            "display": null,
            "flex": null,
            "flex_flow": null,
            "grid_area": null,
            "grid_auto_columns": null,
            "grid_auto_flow": null,
            "grid_auto_rows": null,
            "grid_column": null,
            "grid_gap": null,
            "grid_row": null,
            "grid_template_areas": null,
            "grid_template_columns": null,
            "grid_template_rows": null,
            "height": null,
            "justify_content": null,
            "justify_items": null,
            "left": null,
            "margin": null,
            "max_height": null,
            "max_width": null,
            "min_height": null,
            "min_width": null,
            "object_fit": null,
            "object_position": null,
            "order": null,
            "overflow": null,
            "overflow_x": null,
            "overflow_y": null,
            "padding": null,
            "right": null,
            "top": null,
            "visibility": null,
            "width": null
          }
        },
        "db03927fb0f9406db0eaf7ecaba34a6c": {
          "model_module": "@jupyter-widgets/base",
          "model_module_version": "1.2.0",
          "model_name": "LayoutModel",
          "state": {
            "_model_module": "@jupyter-widgets/base",
            "_model_module_version": "1.2.0",
            "_model_name": "LayoutModel",
            "_view_count": null,
            "_view_module": "@jupyter-widgets/base",
            "_view_module_version": "1.2.0",
            "_view_name": "LayoutView",
            "align_content": null,
            "align_items": null,
            "align_self": null,
            "border": null,
            "bottom": null,
            "display": null,
            "flex": null,
            "flex_flow": null,
            "grid_area": null,
            "grid_auto_columns": null,
            "grid_auto_flow": null,
            "grid_auto_rows": null,
            "grid_column": null,
            "grid_gap": null,
            "grid_row": null,
            "grid_template_areas": null,
            "grid_template_columns": null,
            "grid_template_rows": null,
            "height": null,
            "justify_content": null,
            "justify_items": null,
            "left": null,
            "margin": null,
            "max_height": null,
            "max_width": null,
            "min_height": null,
            "min_width": null,
            "object_fit": null,
            "object_position": null,
            "order": null,
            "overflow": null,
            "overflow_x": null,
            "overflow_y": null,
            "padding": null,
            "right": null,
            "top": null,
            "visibility": null,
            "width": null
          }
        },
        "dcfe3f31de7a4012a3ada5e154083c4b": {
          "model_module": "@jupyter-widgets/controls",
          "model_module_version": "1.5.0",
          "model_name": "HTMLModel",
          "state": {
            "_dom_classes": [],
            "_model_module": "@jupyter-widgets/controls",
            "_model_module_version": "1.5.0",
            "_model_name": "HTMLModel",
            "_view_count": null,
            "_view_module": "@jupyter-widgets/controls",
            "_view_module_version": "1.5.0",
            "_view_name": "HTMLView",
            "description": "",
            "description_tooltip": null,
            "layout": "IPY_MODEL_62f84ac2eabb4fbea7b3bf3a1695b282",
            "placeholder": "​",
            "style": "IPY_MODEL_8e126977e0c44eb68650cfebd5a4f003",
            "value": "Map: 100%"
          }
        },
        "dd72fbbbc47f4a22a7967969362022b3": {
          "model_module": "@jupyter-widgets/controls",
          "model_module_version": "1.5.0",
          "model_name": "HBoxModel",
          "state": {
            "_dom_classes": [],
            "_model_module": "@jupyter-widgets/controls",
            "_model_module_version": "1.5.0",
            "_model_name": "HBoxModel",
            "_view_count": null,
            "_view_module": "@jupyter-widgets/controls",
            "_view_module_version": "1.5.0",
            "_view_name": "HBoxView",
            "box_style": "",
            "children": [
              "IPY_MODEL_ec007e728e194d3ea5178f8d2ea378e3",
              "IPY_MODEL_67190ed59ddb4482bc3db16ddb6620f3",
              "IPY_MODEL_b6c7c1ee0e66426c894df51ae4dfc9e0"
            ],
            "layout": "IPY_MODEL_aec9dbbd73f242a3a770741ea76ed257"
          }
        },
        "e6ae2709331d464089766f30f6673588": {
          "model_module": "@jupyter-widgets/controls",
          "model_module_version": "1.5.0",
          "model_name": "ProgressStyleModel",
          "state": {
            "_model_module": "@jupyter-widgets/controls",
            "_model_module_version": "1.5.0",
            "_model_name": "ProgressStyleModel",
            "_view_count": null,
            "_view_module": "@jupyter-widgets/base",
            "_view_module_version": "1.2.0",
            "_view_name": "StyleView",
            "bar_color": null,
            "description_width": ""
          }
        },
        "e8d9f142e03946dd8e442ee637d9762b": {
          "model_module": "@jupyter-widgets/controls",
          "model_module_version": "1.5.0",
          "model_name": "FloatProgressModel",
          "state": {
            "_dom_classes": [],
            "_model_module": "@jupyter-widgets/controls",
            "_model_module_version": "1.5.0",
            "_model_name": "FloatProgressModel",
            "_view_count": null,
            "_view_module": "@jupyter-widgets/controls",
            "_view_module_version": "1.5.0",
            "_view_name": "ProgressView",
            "bar_style": "success",
            "description": "",
            "description_tooltip": null,
            "layout": "IPY_MODEL_051aecfa9fee42979a186296c4378430",
            "max": 8916,
            "min": 0,
            "orientation": "horizontal",
            "style": "IPY_MODEL_9b3d3124f05e44b7bb1ae8a9f436e3ba",
            "value": 8916
          }
        },
        "eafc72fe071e46aeb1ce70ea44a82ea5": {
          "model_module": "@jupyter-widgets/base",
          "model_module_version": "1.2.0",
          "model_name": "LayoutModel",
          "state": {
            "_model_module": "@jupyter-widgets/base",
            "_model_module_version": "1.2.0",
            "_model_name": "LayoutModel",
            "_view_count": null,
            "_view_module": "@jupyter-widgets/base",
            "_view_module_version": "1.2.0",
            "_view_name": "LayoutView",
            "align_content": null,
            "align_items": null,
            "align_self": null,
            "border": null,
            "bottom": null,
            "display": null,
            "flex": null,
            "flex_flow": null,
            "grid_area": null,
            "grid_auto_columns": null,
            "grid_auto_flow": null,
            "grid_auto_rows": null,
            "grid_column": null,
            "grid_gap": null,
            "grid_row": null,
            "grid_template_areas": null,
            "grid_template_columns": null,
            "grid_template_rows": null,
            "height": null,
            "justify_content": null,
            "justify_items": null,
            "left": null,
            "margin": null,
            "max_height": null,
            "max_width": null,
            "min_height": null,
            "min_width": null,
            "object_fit": null,
            "object_position": null,
            "order": null,
            "overflow": null,
            "overflow_x": null,
            "overflow_y": null,
            "padding": null,
            "right": null,
            "top": null,
            "visibility": null,
            "width": null
          }
        },
        "ec007e728e194d3ea5178f8d2ea378e3": {
          "model_module": "@jupyter-widgets/controls",
          "model_module_version": "1.5.0",
          "model_name": "HTMLModel",
          "state": {
            "_dom_classes": [],
            "_model_module": "@jupyter-widgets/controls",
            "_model_module_version": "1.5.0",
            "_model_name": "HTMLModel",
            "_view_count": null,
            "_view_module": "@jupyter-widgets/controls",
            "_view_module_version": "1.5.0",
            "_view_name": "HTMLView",
            "description": "",
            "description_tooltip": null,
            "layout": "IPY_MODEL_57c523577e2b49e49a27f5204d29ffdf",
            "placeholder": "​",
            "style": "IPY_MODEL_638356e3bb2e4e7d9ef918be041a3dcc",
            "value": "Generating train split: 100%"
          }
        },
        "ecd4d3caa3ff4e479faa35642e057b82": {
          "model_module": "@jupyter-widgets/base",
          "model_module_version": "1.2.0",
          "model_name": "LayoutModel",
          "state": {
            "_model_module": "@jupyter-widgets/base",
            "_model_module_version": "1.2.0",
            "_model_name": "LayoutModel",
            "_view_count": null,
            "_view_module": "@jupyter-widgets/base",
            "_view_module_version": "1.2.0",
            "_view_name": "LayoutView",
            "align_content": null,
            "align_items": null,
            "align_self": null,
            "border": null,
            "bottom": null,
            "display": null,
            "flex": null,
            "flex_flow": null,
            "grid_area": null,
            "grid_auto_columns": null,
            "grid_auto_flow": null,
            "grid_auto_rows": null,
            "grid_column": null,
            "grid_gap": null,
            "grid_row": null,
            "grid_template_areas": null,
            "grid_template_columns": null,
            "grid_template_rows": null,
            "height": null,
            "justify_content": null,
            "justify_items": null,
            "left": null,
            "margin": null,
            "max_height": null,
            "max_width": null,
            "min_height": null,
            "min_width": null,
            "object_fit": null,
            "object_position": null,
            "order": null,
            "overflow": null,
            "overflow_x": null,
            "overflow_y": null,
            "padding": null,
            "right": null,
            "top": null,
            "visibility": null,
            "width": null
          }
        },
        "ef45d4414db340929ca3fcb3ebc8d4bd": {
          "model_module": "@jupyter-widgets/controls",
          "model_module_version": "1.5.0",
          "model_name": "ProgressStyleModel",
          "state": {
            "_model_module": "@jupyter-widgets/controls",
            "_model_module_version": "1.5.0",
            "_model_name": "ProgressStyleModel",
            "_view_count": null,
            "_view_module": "@jupyter-widgets/base",
            "_view_module_version": "1.2.0",
            "_view_name": "StyleView",
            "bar_color": null,
            "description_width": ""
          }
        },
        "f45510ba23914302bb3642d44f788333": {
          "model_module": "@jupyter-widgets/controls",
          "model_module_version": "1.5.0",
          "model_name": "HBoxModel",
          "state": {
            "_dom_classes": [],
            "_model_module": "@jupyter-widgets/controls",
            "_model_module_version": "1.5.0",
            "_model_name": "HBoxModel",
            "_view_count": null,
            "_view_module": "@jupyter-widgets/controls",
            "_view_module_version": "1.5.0",
            "_view_name": "HBoxView",
            "box_style": "",
            "children": [
              "IPY_MODEL_a635fe004f844e57a4cc654192992b20",
              "IPY_MODEL_1949fdd63dd64732adc24f14e9a40f04",
              "IPY_MODEL_86088db097134165bb4023fc34f92411"
            ],
            "layout": "IPY_MODEL_94fa10d61e294b28853f63e3a1becc47"
          }
        },
        "f4bea7893a1740898fa9f333b5dc29cd": {
          "model_module": "@jupyter-widgets/controls",
          "model_module_version": "1.5.0",
          "model_name": "DescriptionStyleModel",
          "state": {
            "_model_module": "@jupyter-widgets/controls",
            "_model_module_version": "1.5.0",
            "_model_name": "DescriptionStyleModel",
            "_view_count": null,
            "_view_module": "@jupyter-widgets/base",
            "_view_module_version": "1.2.0",
            "_view_name": "StyleView",
            "description_width": ""
          }
        },
        "f5cbcf04190c4c26ac2db9e7d56d5039": {
          "model_module": "@jupyter-widgets/base",
          "model_module_version": "1.2.0",
          "model_name": "LayoutModel",
          "state": {
            "_model_module": "@jupyter-widgets/base",
            "_model_module_version": "1.2.0",
            "_model_name": "LayoutModel",
            "_view_count": null,
            "_view_module": "@jupyter-widgets/base",
            "_view_module_version": "1.2.0",
            "_view_name": "LayoutView",
            "align_content": null,
            "align_items": null,
            "align_self": null,
            "border": null,
            "bottom": null,
            "display": null,
            "flex": null,
            "flex_flow": null,
            "grid_area": null,
            "grid_auto_columns": null,
            "grid_auto_flow": null,
            "grid_auto_rows": null,
            "grid_column": null,
            "grid_gap": null,
            "grid_row": null,
            "grid_template_areas": null,
            "grid_template_columns": null,
            "grid_template_rows": null,
            "height": null,
            "justify_content": null,
            "justify_items": null,
            "left": null,
            "margin": null,
            "max_height": null,
            "max_width": null,
            "min_height": null,
            "min_width": null,
            "object_fit": null,
            "object_position": null,
            "order": null,
            "overflow": null,
            "overflow_x": null,
            "overflow_y": null,
            "padding": null,
            "right": null,
            "top": null,
            "visibility": null,
            "width": null
          }
        },
        "f766be8c72964ac1aa01f2c8784a96ef": {
          "model_module": "@jupyter-widgets/controls",
          "model_module_version": "1.5.0",
          "model_name": "HTMLModel",
          "state": {
            "_dom_classes": [],
            "_model_module": "@jupyter-widgets/controls",
            "_model_module_version": "1.5.0",
            "_model_name": "HTMLModel",
            "_view_count": null,
            "_view_module": "@jupyter-widgets/controls",
            "_view_module_version": "1.5.0",
            "_view_name": "HTMLView",
            "description": "",
            "description_tooltip": null,
            "layout": "IPY_MODEL_37ba2bdfb19a43ce922deaa9f1281008",
            "placeholder": "​",
            "style": "IPY_MODEL_85aa5068f5a2420ea2629dfb5754a406",
            "value": " 15000/15000 [00:21&lt;00:00, 945.63 examples/s]"
          }
        },
        "f7acdd75cc244459af749293fa647935": {
          "model_module": "@jupyter-widgets/base",
          "model_module_version": "1.2.0",
          "model_name": "LayoutModel",
          "state": {
            "_model_module": "@jupyter-widgets/base",
            "_model_module_version": "1.2.0",
            "_model_name": "LayoutModel",
            "_view_count": null,
            "_view_module": "@jupyter-widgets/base",
            "_view_module_version": "1.2.0",
            "_view_name": "LayoutView",
            "align_content": null,
            "align_items": null,
            "align_self": null,
            "border": null,
            "bottom": null,
            "display": null,
            "flex": null,
            "flex_flow": null,
            "grid_area": null,
            "grid_auto_columns": null,
            "grid_auto_flow": null,
            "grid_auto_rows": null,
            "grid_column": null,
            "grid_gap": null,
            "grid_row": null,
            "grid_template_areas": null,
            "grid_template_columns": null,
            "grid_template_rows": null,
            "height": null,
            "justify_content": null,
            "justify_items": null,
            "left": null,
            "margin": null,
            "max_height": null,
            "max_width": null,
            "min_height": null,
            "min_width": null,
            "object_fit": null,
            "object_position": null,
            "order": null,
            "overflow": null,
            "overflow_x": null,
            "overflow_y": null,
            "padding": null,
            "right": null,
            "top": null,
            "visibility": null,
            "width": null
          }
        },
        "fcc2a0b8a5634bcf884c505ea8e37ef7": {
          "model_module": "@jupyter-widgets/controls",
          "model_module_version": "1.5.0",
          "model_name": "DescriptionStyleModel",
          "state": {
            "_model_module": "@jupyter-widgets/controls",
            "_model_module_version": "1.5.0",
            "_model_name": "DescriptionStyleModel",
            "_view_count": null,
            "_view_module": "@jupyter-widgets/base",
            "_view_module_version": "1.2.0",
            "_view_name": "StyleView",
            "description_width": ""
          }
        },
        "fce9dc457ecb41fa9c92c3888db6b585": {
          "model_module": "@jupyter-widgets/controls",
          "model_module_version": "1.5.0",
          "model_name": "HTMLModel",
          "state": {
            "_dom_classes": [],
            "_model_module": "@jupyter-widgets/controls",
            "_model_module_version": "1.5.0",
            "_model_name": "HTMLModel",
            "_view_count": null,
            "_view_module": "@jupyter-widgets/controls",
            "_view_module_version": "1.5.0",
            "_view_name": "HTMLView",
            "description": "",
            "description_tooltip": null,
            "layout": "IPY_MODEL_4cc494faad7f49f8bc7e8e632d1050b1",
            "placeholder": "​",
            "style": "IPY_MODEL_f4bea7893a1740898fa9f333b5dc29cd",
            "value": " 11873/11873 [00:09&lt;00:00, 1283.81 examples/s]"
          }
        },
        "fe7cbd4b03e64bf291454109f9b1722f": {
          "model_module": "@jupyter-widgets/controls",
          "model_module_version": "1.5.0",
          "model_name": "DescriptionStyleModel",
          "state": {
            "_model_module": "@jupyter-widgets/controls",
            "_model_module_version": "1.5.0",
            "_model_name": "DescriptionStyleModel",
            "_view_count": null,
            "_view_module": "@jupyter-widgets/base",
            "_view_module_version": "1.2.0",
            "_view_name": "StyleView",
            "description_width": ""
          }
        }
      }
    }
  },
  "nbformat": 4,
  "nbformat_minor": 0
}
